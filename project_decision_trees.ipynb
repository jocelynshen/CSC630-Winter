{
 "cells": [
  {
   "cell_type": "markdown",
   "metadata": {},
   "source": [
    "# Project: Decision Trees\n",
    "\n",
    "## Machine Learning, Winter 2017\n",
    "\n",
    "### Name: [Your name here]\n"
   ]
  },
  {
   "cell_type": "markdown",
   "metadata": {},
   "source": [
    "In this project, you'll perform the following tasks:\n",
    "1. Construct a (Python) class `DecisionTree` which will serve as our first machine learning model.\n",
    "2. Test it out on multiple datasets.  If you've done the above correctly, this shouldn't be hard!\n",
    "3. Determine the effects of overfitting and attempt some solutions, discussing which seem to work best."
   ]
  },
  {
   "cell_type": "code",
   "execution_count": 6,
   "metadata": {
    "collapsed": true
   },
   "outputs": [],
   "source": [
    "# Standard import statements:\n",
    "from itertools import combinations, chain\n",
    "from statistics import mean, median\n",
    "\n",
    "import numpy as np\n",
    "import matplotlib.pyplot as plt\n",
    "import pandas as pd\n",
    "import seaborn as sns\n",
    "\n",
    "from sklearn.metrics import accuracy_score, confusion_matrix, r2_score\n",
    "\n",
    "%matplotlib inline\n",
    "\n",
    "plt.style.use(\"ggplot\")"
   ]
  },
  {
   "cell_type": "markdown",
   "metadata": {},
   "source": [
    "## `DecisionTree` Class\n",
    "\n",
    "Construct a `DecisionTree` class in the cell below.  It should support the standard scikit-learn API: \n",
    "\n",
    "```\n",
    ">>> X, y = <your_dataset>\n",
    ">>> model = DecisionTree() # potentially with some parameters, if needed\n",
    ">>> model.fit(X,y)\n",
    ">>> model.predict(<new_sample_vector>)\n",
    "1\n",
    ">>> # If the model predicted your sample vector to be in class 1.\n",
    "```\n",
    "\n",
    "Note that your `predict` function should support either single predictions or multiple predictions, though you can force the user to do single predictions as a 2d array (single-row \"multiple\" predictions) so you only have one implementation to write.  What I mean by this is `model.predict(X)` should work (without error) to create all predictions for `y`.\n",
    "\n",
    "You should construct some human-readable visualization of your model, simply from a printout.  This way you can tell if the model is being built the way you want.  The best way to do this is to implement the `__str__` method for your class.  Probably the easiest way to do this is to iterate through the tree in a \"depth-first\" fashion, and for each node, just print out some basic facts, like the number of elements in that node, or the indices of those elements in `X`, and the class assignment if it's a leaf node; also, make sure the indentation level of each node increases as its depth increases.  It might be helpful to have your nodes be more than just the bare minimum object (which would probably be a list of the indices of the rows in `X` for the items in your node).  To reiterate: this should NOT be a \"beautiful\" printout with lines like:\n",
    "```\n",
    "            root\n",
    "           /    \\\n",
    "     child1      child2 \n",
    "    /      \\    /      \\\n",
    "...\n",
    "```\n",
    "\n",
    "Because that would get awkward fast.  What I'm imagining is:\n",
    "\n",
    "```\n",
    "root: <root_info>\n",
    "  child1: <child1_info>\n",
    "    grandchild1: <grandchild1_info>\n",
    "      ...\n",
    "    grandchild1: <grandchild2_info>\n",
    "      ...\n",
    "  child2: <child2_info>\n",
    "    grandchild1: <grandchild1_info>\n",
    "    grandchild1: <grandchild2_info>\n",
    "```\n",
    "\n",
    "By implementing this in `__str__` for your class, this will be the printout when you run:\n",
    "\n",
    "```\n",
    "model = DecisionTree(<whatever_you_need_to_do_to_create_your_model>)\n",
    "model.fit(X,y)\n",
    "print(model)\n",
    "```\n",
    "\n",
    "Recall the algorithm for fitting a decision tree:\n",
    "1. Start with all your data samples in a single node.\n",
    "2. For a given node, determine if you want to split at that node or not.  For now, this should just be a check to see if the node is \"pure\", meaning it only contains one class.  If you do decide to split it further, compute all possible splits of your data (all possible depth-1 subtrees).  For categorical variables, this should look like generating all pairs of combinations of classes.  For continuous or ordinal variables, sort the entries in that column, and then all possible splits involve cutting off at values between adjacent entries.  That is, if the entries in my continuous column are `[2.01, 3.425, 8.67, 493.6]`, then I have three splits, which are \n",
    "\"$x_i\\leq 2.01$\", \"$x_i\\leq 3.425$\", \"$x_i\\leq 8.67$\".\n",
    "3. Compute the change in Gini Impurity for each split, and choose the split that has the largest gain in information (most pure nodes).  Recall that the Gini Impurity for a node is \n",
    "$$ I = 1 - \\sum_{\\text{each class}} \\left(\\frac{\\text{# of elements in that class}}{\\text{# of elements in the node}}\\right)^2$$\n",
    "So then you want to maximize $I_\\text{new_child1} + I_\\text{new_child2} - I_\\text{old}$; that is, choose the split with the largest value for that quantity (roughly interpretted as \"information gain\", though for the record the term \"information gain\" is used in a totally-synonymous-but-technically-different situation).\n",
    "4. Repeat until all nodes are pure.\n",
    "5. (Get the above working first, and then later:) prune the tree back to avoid overfitting your training data. (See below)\n",
    "\n",
    "Note that your (Python) class should work for multi-class datasets (where you're trying to predict a `y` that has more than two classes)."
   ]
  },
  {
   "cell_type": "code",
   "execution_count": 2,
   "metadata": {
    "collapsed": true
   },
   "outputs": [],
   "source": [
    "# your class code here"
   ]
  },
  {
   "cell_type": "markdown",
   "metadata": {},
   "source": [
    "To test out your code, here's a simple dataset.  You could check it by hand if you need to debug.  You're trying to predict whether an animal is a mammal or not (the class label)."
   ]
  },
  {
   "cell_type": "code",
   "execution_count": 45,
   "metadata": {
    "collapsed": false
   },
   "outputs": [],
   "source": [
    "X = [[\"human\", \"warm-blooded\", \"yes\", \"no\", \"no\", \"yes\"],\n",
    "     [\"pigeon\", \"warm-blooded\", \"no\", \"no\", \"no\", \"no\"],\n",
    "     [\"elephant\", \"warm-blooded\", \"yes\", \"yes\", \"no\", \"yes\"],\n",
    "     [\"leopard shark\", \"cold-blooded\", \"yes\", \"no\", \"no\", \"no\"],\n",
    "     [\"turtle\", \"cold-blooded\", \"no\", \"yes\", \"no\", \"no\"],\n",
    "     [\"penguin\", \"cold-blooded\", \"no\", \"no\", \"no\", \"no\"],\n",
    "     [\"eel\", \"cold-blooded\", \"no\", \"no\", \"no\", \"no\"],\n",
    "     [\"dolphin\", \"warm-blooded\", \"yes\", \"no\", \"no\", \"yes\"],\n",
    "     [\"spiny anteater\", \"warm-blooded\", \"no\", \"yes\", \"yes\", \"yes\"],\n",
    "     [\"gila monster\", \"cold-blooded\", \"no\", \"yes\", \"yes\", \"no\"]]\n",
    "\n",
    "df = pd.DataFrame(X, columns = [\"Name\", \n",
    "                                \"Body Temperature\", \n",
    "                                \"Gives Birth\", \n",
    "                                \"Four-legged\", \n",
    "                                \"Hibernates\", \n",
    "                                \"Class Label\"])"
   ]
  },
  {
   "cell_type": "markdown",
   "metadata": {},
   "source": [
    "## Try it out on multiple datasets\n",
    "\n",
    "Feel free to split these amongst your group mates, then consolodate it into one notebook.\n",
    "\n",
    "1. The dataset `X` above.\n",
    "\n",
    "2. To double check that your multi-class support is working, use the [iris dataset](http://scikit-learn.org/stable/modules/generated/sklearn.datasets.load_iris.html#sklearn.datasets.load_iris).  Plot some decision boundaries of the classifier you make in all the pairs of dimensions in your scatter plots.\n",
    "\n",
    "3. Take a look at some of the [dataset constructors in scikit-learn](http://scikit-learn.org/stable/datasets/#sample-generators).  Pick one that will allow you to generate a dataset that has $\\geq 4$ features, and multiple classes ($\\geq 3$); but also make sure that when I run your code with some tweaked numbers from these, it will still work.\n",
    "\n",
    "4. Kaggle is a website which offers machine learning challenges to anyone with an interest in working on them, some of which have real prizes associated with them.  The [Titanic challenge](https://www.kaggle.com/c/titanic/data) is a tutorial challenge which has you attempting to predict whether someone did or did not die on board the Titanic, based on their criteria.  In order to download the dataset, you'll need to make an account, and agree to some scary-sounding agreement about not sharing their data with the world (to make their legal team happy).  Do only the minimum of data cleanup on it, trash the name column (unless you want to get really fancy), and fit a decision tree to the dataset.  Make sure to save some data for testing purposes.\n",
    "\n",
    "5. Add some classification metrics to your above models, like the `accuracy_score` and `confusion_matrix`.  Add additionally [Precision and Recall](https://en.wikipedia.org/wiki/Precision_and_recall), and explain what those are.\n",
    "\n",
    "6. For the dataset `noisy_dataset.csv`, available on Canvas in `Files`, plit the data into `test` and `train` sets, and then construct a family of decision trees with an increasing number of nodes, say from 3 up to something large (large enough that the test accuracy starts getting awful). Plot a pair of curves on the same axes: (# of nodes) vs. model accuracy (training and test).  Discuss which models make the best predictors."
   ]
  },
  {
   "cell_type": "code",
   "execution_count": 105,
   "metadata": {
    "collapsed": true
   },
   "outputs": [],
   "source": [
    "# your code here"
   ]
  },
  {
   "cell_type": "markdown",
   "metadata": {},
   "source": [
    "## Compare to scikit-learn's `DecisionTreeClassifier` class\n",
    "\n",
    "It should come as no surprise to you that scikit-learn has a [decision tree class](http://scikit-learn.org/stable/modules/generated/sklearn.tree.DecisionTreeClassifier.html#sklearn.tree.DecisionTreeClassifier).  Compare your constructed class to theirs in terms of their functionality, what attributes and constructor-arguments does their decision tree class have that yours does not?"
   ]
  },
  {
   "cell_type": "markdown",
   "metadata": {},
   "source": [
    "[Your response here]"
   ]
  },
  {
   "cell_type": "markdown",
   "metadata": {},
   "source": [
    "## Overfitting and what to do about it\n",
    "\n",
    "What we saw (hopefully!) in dataset 6 above is called __overfitting__, meaning our model is learning the noise in the training data.  This weakens the models predictive power.  There are many options to reduce overfitting, here are a few.  Implement at least one of them, until you have something that makes your models noticeably better.\n",
    "\n",
    "* Add a stopping condition: \n",
    " * stop splitting off more nodes when a node reaches either a minimal number of items per node _or_ is a pure node,\n",
    " * stop splitting by not allowing any child nodes to go below a minimum number of nodes,\n",
    " * stop splitting when you've reached some maximum depth.\n",
    "* After fitting a deep, overfit tree, use a __validation__ set to _prune_ the tree: remove nodes by rejoining children into parents, then test them against the validation set to see if the pruned tree was better.  Do this until you stop seeing improvements on the validation set.  Here a validation set means a third split of data, different from test and train.  It's different from the training set because you're not training the model on it, but it's also not testing data because you're changing your model based on knowledge gained from the dataset.  It's somewhere in between.  Feel free to ask me about _cross-validation_ as well, and how you could use that instead.  We'll talk about it eventually, but I don't want to add more to this project than is already here.\n",
    "\n",
    "__Explain to me what you did, and where it shows up in your code (for example, is it in your class definition?).__"
   ]
  },
  {
   "cell_type": "markdown",
   "metadata": {},
   "source": [
    "## Possible extensions\n",
    "\n",
    "Here are two extensions of the `DecisionTree` class that you made.  They are entirely optional, so don't feel you need to do them!\n",
    "\n",
    "* In reality, people use decision trees on a limited basis, typically only when model interpretability is forced by government institutions (so, this happens a lot with banks, for example).  What you normally do is build a __forest__ of trees, that is, a collection of several trees (a common number is 50-500 trees), and then have them vote.  However, if you let your trees build themselves from the same exact datasets each time, they will be roughly the same, and the power of this voting model will be irrelevant.  Thus, one extremely common model is called the __Random Forest__ classifier: give each tree only a subset of the features to train from, don't prune at all (allow them to overfit on that subset), and then have them vote.  This increases the variance of the distribution of tree votes, which helps to average out the errors.  Create a new Python class that builds this classification model.  Note that Random Forests are a current industry favorite (among other things, like support vector machines, boosted trees, and neural networks), meaning if you do this you'll have created a model capable of hacking it with some of the best!\n",
    "\n",
    "* Scikit-learn's `DecisionTreeClassifier` has a somewhat pretty visualization of the tree that can be exported using the library `GraphViz`.  There are python wrappers to this module, the most common is `pydot`.  Using these libraries, or similar ones, add the functionality of constructing an attractive visualization of your decision tree class."
   ]
  },
  {
   "cell_type": "markdown",
   "metadata": {},
   "source": [
    "## Reference\n",
    "\n",
    "The following is reference code for you, and should be deleted from your final submission."
   ]
  },
  {
   "cell_type": "code",
   "execution_count": null,
   "metadata": {
    "collapsed": false
   },
   "outputs": [],
   "source": [
    "####### Decision boundary plotting #######\n",
    "\n",
    "df = None                          ## Set this!\n",
    "x_axis_name = \"first predictor\"    ## Set this!\n",
    "y_axis_name = \"second predictor\"   ## Set this!\n",
    "model = my_decision_tree_model     ## Set this!\n",
    "\n",
    "# CONSTANTS\n",
    "GRANULARITY = 50\n",
    "\n",
    "#### CREATE PREDICTION SURFACE ####\n",
    "x1_min, x1_max, x2_min, x2_max = (df[x_axis_name].min(),\n",
    "                                  df[x_axis_name].max(),\n",
    "                                  df[y_axis_name].min(),\n",
    "                                  df[y_axis_name].max())\n",
    "\n",
    "xx1, xx2 = np.meshgrid(np.linspace(x1_min, x1_max, GRANULARITY),\n",
    "                       np.linspace(x2_min, x2_max, GRANULARITY))\n",
    "\n",
    "xx1_col = xx1.ravel() \n",
    "xx2_col = xx2.ravel()\n",
    "\n",
    "# In order to make predictions, you may need to add some amount of columns of medians\n",
    "# xx3_col = np.zeros(xx1_col.shape) + df.median('x_3')\n",
    "\n",
    "X_columns_1 = np.c_[xx1_col, xx2_col] #, xx3_col]                                        ## Set this!\n",
    "\n",
    "yy_1 = model.predict(X_columns_1).T[0]\n",
    "\n",
    "#### PLOTTING ####\n",
    "plt.xlim(x1_min, x1_max)\n",
    "plt.ylim(x2_min, x2_max)\n",
    "plt.xlabel('Set x-axis label')\n",
    "plt.ylabel('Set y-axis label')\n",
    "plt.title('Set title')\n",
    "\n",
    "plt.contour(xx1, xx2, yy_1, levels=[.5], colors=['c'])\n",
    "plt.scatter(df[x_axis_name],df[y_axis_name])                                        ## Set this!  Need c=\n",
    "\n",
    "plt.show()"
   ]
  },
  {
   "cell_type": "code",
   "execution_count": 110,
   "metadata": {
    "collapsed": true
   },
   "outputs": [],
   "source": [
    "class Tree(object):\n",
    "    def __init__(self, x=None):\n",
    "        # This is your constructor; it sets attributes (\"fields\")\n",
    "        self.x = x\n",
    "        \n",
    "    def __repr__(self):\n",
    "        # This is what comes out when you return the object to standard display (not print)\n",
    "        return \"Tree(x = {})\".format(repr(self.x))\n",
    "    \n",
    "    def __str__(self):\n",
    "        # This is what comes out when you print.\n",
    "        return \"Tree with x = {}\".format(self.x.__repr__())\n",
    "\n",
    "    def __eq__(self, that): \n",
    "        # This is how you determine how objects of type Tree compare with `==`\n",
    "        return type(that) == type(self) and self.x == that.x "
   ]
  },
  {
   "cell_type": "code",
   "execution_count": 112,
   "metadata": {
    "collapsed": true
   },
   "outputs": [],
   "source": [
    "t = Tree(7)\n",
    "s = Tree({45:'yes', 86:'no'})\n",
    "l = Tree()\n",
    "\n",
    "# It's often a good idea to (if possible) define `__repr__` such that the following assert passes:\n",
    "assert eval(repr(t)) == t"
   ]
  },
  {
   "cell_type": "code",
   "execution_count": 113,
   "metadata": {
    "collapsed": false
   },
   "outputs": [
    {
     "data": {
      "text/plain": [
       "Tree(x = 7)"
      ]
     },
     "execution_count": 113,
     "metadata": {},
     "output_type": "execute_result"
    }
   ],
   "source": [
    "# `__repr__` determines what happens when when you just return the object to stdout:\n",
    "t"
   ]
  },
  {
   "cell_type": "code",
   "execution_count": 124,
   "metadata": {
    "collapsed": false
   },
   "outputs": [
    {
     "name": "stdout",
     "output_type": "stream",
     "text": [
      "Tree with x = 7\n",
      "Tree with x = {45: 'yes', 86: 'no'}\t and \tTree with x = None\n"
     ]
    }
   ],
   "source": [
    "# `__str__` determines what happens when you print the object:\n",
    "print(t)\n",
    "print(s, l, sep='\\t and \\t')"
   ]
  },
  {
   "cell_type": "markdown",
   "metadata": {},
   "source": [
    "#### How I generated `noisy_dataset.csv`.\n",
    "It won't give you the same thing, because I didn't set a seed."
   ]
  },
  {
   "cell_type": "code",
   "execution_count": 48,
   "metadata": {
    "collapsed": true
   },
   "outputs": [],
   "source": [
    "from sklearn.datasets import make_blobs"
   ]
  },
  {
   "cell_type": "code",
   "execution_count": 120,
   "metadata": {
    "collapsed": false
   },
   "outputs": [
    {
     "data": {
      "image/png": "[encoded data removed]",
      "text/plain": [
       "<matplotlib.figure.Figure at 0x279f508e588>"
      ]
     },
     "metadata": {},
     "output_type": "display_data"
    }
   ],
   "source": [
    "X, y = make_blobs(n_samples= 500)\n",
    "X2 =11 * np.random.rand(500,2) - (3,0)\n",
    "df = pd.DataFrame(np.concatenate([X,X2]))\n",
    "df.columns = ['x_1', 'x_2']\n",
    "df['y'] = np.concatenate((np.zeros(500), np.zeros(500)+1))\n",
    "\n",
    "colors = {0:'r',1:'b',2:'g'}\n",
    "\n",
    "plt.scatter(X.T[0],X.T[1], c=[colors[i] for i in y])\n",
    "plt.scatter(X3.T[0], X3.T[1], c='k')\n",
    "plt.show()"
   ]
  }
 ],
 "metadata": {
  "kernelspec": {
   "display_name": "Python 3",
   "language": "python",
   "name": "python3"
  },
  "language_info": {
   "codemirror_mode": {
    "name": "ipython",
    "version": 3
   },
   "file_extension": ".py",
   "mimetype": "text/x-python",
   "name": "python",
   "nbconvert_exporter": "python",
   "pygments_lexer": "ipython3",
   "version": "3.5.1"
  }
 },
 "nbformat": 4,
 "nbformat_minor": 0
}
