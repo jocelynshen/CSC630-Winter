{
 "cells": [
  {
   "cell_type": "markdown",
   "metadata": {},
   "source": [
    "# Twitter API"
   ]
  },
  {
   "cell_type": "code",
   "execution_count": 1,
   "metadata": {
    "collapsed": false
   },
   "outputs": [],
   "source": [
    "import tweepy\n",
    "import requests"
   ]
  },
  {
   "cell_type": "markdown",
   "metadata": {},
   "source": [
    "#### Define functions to print account info, print friends, and print my tweets"
   ]
  },
  {
   "cell_type": "code",
   "execution_count": 2,
   "metadata": {
    "collapsed": false
   },
   "outputs": [],
   "source": [
    "def print_my_info(api):\n",
    "    print ('My information:')\n",
    "    print (api.me().name)\n",
    "    print ('')\n",
    "    \n",
    "def print_friend_name(api):\n",
    "    print ('My friends:')\n",
    "    for friend in tweepy.Cursor(api.friends).items():\n",
    "        print(friend.name)\n",
    "        print ('')\n",
    "        \n",
    "def print_my_tweets(api):\n",
    "    print ('My Tweets')\n",
    "    for t in tweepy.Cursor(api.user_timeline).items():\n",
    "        print(t.text)\n",
    "        print ('')"
   ]
  },
  {
   "cell_type": "markdown",
   "metadata": {},
   "source": [
    "#### Authentication and printing"
   ]
  },
  {
   "cell_type": "code",
   "execution_count": 5,
   "metadata": {
    "collapsed": false
   },
   "outputs": [
    {
     "name": "stdout",
     "output_type": "stream",
     "text": [
      "Error! Failed to get request token.\n",
      "My information:\n",
      "Jocelyn Shen\n",
      "\n",
      "My friends:\n",
      "ND Pre-College\n",
      "\n",
      "Nicholas Zufelt\n",
      "\n",
      "Reichenbachian\n",
      "\n",
      "PA Librarians\n",
      "\n",
      "Mike Barker\n",
      "\n",
      "My Tweets\n",
      "#UCHICAGOPOSTCARD\n",
      "@ViewChicago https://t.co/h7Hf2STehM\n",
      "\n",
      "Students @phillipsacademy organizing a hackathon on November 4! Register at https://t.co/5tPbVoLpFm https://t.co/prnmiL97us\n",
      "\n",
      "https://t.co/ZTna6eHGcF https://t.co/ZTna6eHGcF via @Pear_says @CustomInk\n",
      "\n",
      "@nsuarez99 yes, I think the favoritism for having sons is an issue in China\n",
      "\n",
      "Thank you so much @NDadmissions for the beautiful puzzle!!! #ndpuzzle http://t.co/ZaAT0rEIZh\n",
      "\n"
     ]
    }
   ],
   "source": [
    "a = open('keys.txt')\n",
    "c_key, c_secret, a_key, a_secret = a.read().split(\"\\n\")[0:4]\n",
    "\n",
    "auth = tweepy.OAuthHandler(c_key, c_secret, \"https://google.com\")\n",
    "try:\n",
    "    redirect_url = auth.get_authorization_url()\n",
    "except tweepy.TweepError:\n",
    "    print('Error! Failed to get request token.')\n",
    "\n",
    "auth.set_access_token(a_key, a_secret)\n",
    "api = tweepy.API(auth)\n",
    "print_my_info(api)\n",
    "print_friend_name(api)\n",
    "print_my_tweets(api)"
   ]
  }
 ],
 "metadata": {
  "anaconda-cloud": {},
  "kernelspec": {
   "display_name": "Python [Root]",
   "language": "python",
   "name": "Python [Root]"
  },
  "language_info": {
   "codemirror_mode": {
    "name": "ipython",
    "version": 3
   },
   "file_extension": ".py",
   "mimetype": "text/x-python",
   "name": "python",
   "nbconvert_exporter": "python",
   "pygments_lexer": "ipython3",
   "version": "3.5.2"
  }
 },
 "nbformat": 4,
 "nbformat_minor": 0
}
