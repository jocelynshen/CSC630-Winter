{
 "cells": [
  {
   "cell_type": "markdown",
   "metadata": {},
   "source": [
    "# Text Data I - Classification and Preprocessing\n",
    "\n",
    "#### Jocelyn Shen\n",
    "In this project, we're going to be working with a couple of new ideas.  It's important that you read all the material and ask questions if you don't understand!  The ultimate goal is to build a model that can classify tweets as positive or negative.\n",
    "\n",
    "## Part 1: Classification\n",
    "\n",
    "We've seen multiple types of data so far, and I mean \"types\" here in multiple ways.\n",
    "\n",
    "* The data can be naturally numerical, or it can be text data.  This is what is normally meant by data type, and it can be many other things as well (for example, image data, which can be interpretted as numerical).\n",
    "* The data can be _continous_ or _categorical_.\n",
    "\n",
    "We've seen how if you want to work with categorical data, you need to binarize it.  Recall that means creating multiple columns in place of that one, where the new columns are _indicators variables_ (yes or no for being in that category) for all-but-one of the categories.  This sometimes greatly increases the number of columns in your dataset.\n",
    "\n",
    "Up until now, however, the categorical variables were all part of the set of features/predictors, and our response (the column of data we're trying to model) has been continuous.  This is the domain of __regression__: we're trying to regress a numerical function onto our numerical data.  I've always thought that the name regression doesn't scream out \"numerical response!\" like I wish it did, but that's what I want you to think: we're fitting a function that relaxes the error and fits the underlying structure.  \n",
    "\n",
    "If the response variable is a categorical variable, we're performing __classification__.  This is extremely common!  For example, a company may want to identify someone as a potential buyer or not, or a doctor may be screening for a medical condition.\n",
    "\n",
    "### Dataset\n",
    "\n",
    "Let's look at the iris dataset today, and attempt to perform some classification on that.  Move your files to the appropriate place to make the load work. "
   ]
  },
  {
   "cell_type": "code",
   "execution_count": 30,
   "metadata": {
    "collapsed": false
   },
   "outputs": [
    {
     "data": {
      "text/html": [
       "<div>\n",
       "<table border=\"1\" class=\"dataframe\">\n",
       "  <thead>\n",
       "    <tr style=\"text-align: right;\">\n",
       "      <th></th>\n",
       "      <th>Sepal length</th>\n",
       "      <th>Sepal width</th>\n",
       "      <th>Petal length</th>\n",
       "      <th>Petal width</th>\n",
       "      <th>Species</th>\n",
       "    </tr>\n",
       "  </thead>\n",
       "  <tbody>\n",
       "    <tr>\n",
       "      <th>0</th>\n",
       "      <td>5.1</td>\n",
       "      <td>3.5</td>\n",
       "      <td>1.4</td>\n",
       "      <td>0.2</td>\n",
       "      <td>Iris-setosa</td>\n",
       "    </tr>\n",
       "    <tr>\n",
       "      <th>1</th>\n",
       "      <td>4.9</td>\n",
       "      <td>3.0</td>\n",
       "      <td>1.4</td>\n",
       "      <td>0.2</td>\n",
       "      <td>Iris-setosa</td>\n",
       "    </tr>\n",
       "    <tr>\n",
       "      <th>2</th>\n",
       "      <td>4.7</td>\n",
       "      <td>3.2</td>\n",
       "      <td>1.3</td>\n",
       "      <td>0.2</td>\n",
       "      <td>Iris-setosa</td>\n",
       "    </tr>\n",
       "    <tr>\n",
       "      <th>3</th>\n",
       "      <td>4.6</td>\n",
       "      <td>3.1</td>\n",
       "      <td>1.5</td>\n",
       "      <td>0.2</td>\n",
       "      <td>Iris-setosa</td>\n",
       "    </tr>\n",
       "    <tr>\n",
       "      <th>4</th>\n",
       "      <td>5.0</td>\n",
       "      <td>3.6</td>\n",
       "      <td>1.4</td>\n",
       "      <td>0.2</td>\n",
       "      <td>Iris-setosa</td>\n",
       "    </tr>\n",
       "  </tbody>\n",
       "</table>\n",
       "</div>"
      ],
      "text/plain": [
       "   Sepal length  Sepal width  Petal length  Petal width      Species\n",
       "0           5.1          3.5           1.4          0.2  Iris-setosa\n",
       "1           4.9          3.0           1.4          0.2  Iris-setosa\n",
       "2           4.7          3.2           1.3          0.2  Iris-setosa\n",
       "3           4.6          3.1           1.5          0.2  Iris-setosa\n",
       "4           5.0          3.6           1.4          0.2  Iris-setosa"
      ]
     },
     "execution_count": 30,
     "metadata": {},
     "output_type": "execute_result"
    }
   ],
   "source": [
    "import numpy as np\n",
    "import matplotlib.pyplot as plt\n",
    "import pandas as pd\n",
    "from math import exp, log\n",
    "from sklearn.linear_model import LinearRegression\n",
    "import seaborn as sns # makes graphs pretty, delete it if it is giving you issues\n",
    "\n",
    "%matplotlib inline\n",
    "\n",
    "columns = ['Sepal length', 'Sepal width', 'Petal length', 'Petal width', 'Species']\n",
    "iris = pd.read_csv('iris.data', names=columns)\n",
    "iris.head()"
   ]
  },
  {
   "cell_type": "markdown",
   "metadata": {},
   "source": [
    "In the Iris dataset, one would hope to use the four predictors to try and predict `Species`.  However, `Species` has three possible options, and so the first thing we want to do is make this a bit easier.  Let's take our categorical variable and make it two categories.  How do we do that?  Let's make a plot to see."
   ]
  },
  {
   "cell_type": "code",
   "execution_count": 31,
   "metadata": {
    "collapsed": false
   },
   "outputs": [
    {
     "data": {
      "image/png": "[encoded data removed]",
      "text/plain": [
       "<matplotlib.figure.Figure at 0x2324340d5c0>"
      ]
     },
     "metadata": {},
     "output_type": "display_data"
    }
   ],
   "source": [
    "colorings = {'Iris-setosa':'r', 'Iris-versicolor': 'b', 'Iris-virginica': 'g'}\n",
    "\n",
    "plt.scatter(iris['Sepal length'],iris['Sepal width'], c=iris['Species'].map(colorings))\n",
    "plt.title('Sepal dimensions')\n",
    "plt.xlabel('Sepal length')\n",
    "plt.ylabel('Sepal width')\n",
    "plt.show()"
   ]
  },
  {
   "cell_type": "markdown",
   "metadata": {},
   "source": [
    "Side question: what is `map`, and how did I use it here to achieve my desired effect?  Suppose I had written a function instead of a dictionary, could I use `map`?"
   ]
  },
  {
   "cell_type": "markdown",
   "metadata": {},
   "source": [
    "map is a Python built-in function that applies a function (in this case changing color when the species belongs to a cateogry) to every item in the dictionary. If you had written a function, you wouldn't use map."
   ]
  },
  {
   "cell_type": "markdown",
   "metadata": {},
   "source": [
    "#### It looks reasonable to try to separate Iris Setosa from non-Iris-setosas.  \n",
    "\n",
    "To do that, create a new column which is an indicator column for Iris Setosa.  Plot another scatter plot where points are colored by this column to double check."
   ]
  },
  {
   "cell_type": "code",
   "execution_count": 32,
   "metadata": {
    "collapsed": false
   },
   "outputs": [
    {
     "data": {
      "image/png": "[encoded data removed]",
      "text/plain": [
       "<matplotlib.figure.Figure at 0x232439ea1d0>"
      ]
     },
     "metadata": {},
     "output_type": "display_data"
    }
   ],
   "source": [
    "#Your code here\n",
    "cl = {1:'r',0:'b'}\n",
    "iris['Iris-setosa'] = iris.Species.map({'Iris-setosa':1, 'Iris-versicolor': 0, 'Iris-virginica': 0})\n",
    "iris.head()\n",
    "plt.scatter(iris['Sepal length'],iris['Sepal width'], c=iris['Iris-setosa'].map(cl))\n",
    "plt.title('Sepal dimensions')\n",
    "plt.xlabel('Sepal length')\n",
    "plt.ylabel('Sepal width')\n",
    "plt.show()"
   ]
  },
  {
   "cell_type": "markdown",
   "metadata": {},
   "source": [
    "Great.  Now, we need to train a model to output 1's and 0's instead of all possible numbers.  What we really need, then, is a function whose _range_ is within the interval $[0,1]$.  Fortunately, such functions are pretty easy to come by.  \n",
    "\n",
    "Open up [Desmos](https://www.desmos.com/calculator) and plot the line $y=x$ along with the following function, called the __logistic function__:\n",
    "\n",
    "$$y=\\frac{1}{1+e^{-x}}$$\n",
    "\n",
    "Describe the difference to me.  Which one is better suited to predict probabilities? Why?"
   ]
  },
  {
   "cell_type": "markdown",
   "metadata": {},
   "source": [
    "The logistic function has vertical asymptotes at 1 and 0. The logistic function would be better at predicting probabilites because they are between 1 and 0."
   ]
  },
  {
   "cell_type": "markdown",
   "metadata": {},
   "source": [
    "How on earth could we use linear regression to model such a crazy function?!  The solution is to first solve the above equation for $x$, giving the __logit function__:\n",
    "\n",
    "$$x = \\ln\\left(\\dfrac{y}{1-y}\\right).$$\n",
    "\n",
    "Okay, let's try replacing the response with its _logit_.  Create a (python) function that you can use to take both the logistic of an `x` and the logit of a `y`.  \n",
    "\n",
    "__IMPORTANT note__: You actually have a column of `1`s and `0`s for your `y`, and so you can't use the logit function exactly.  You need to tweak it ever so slightly:\n",
    "\n",
    "$$x = \\ln\\left(\\dfrac{y+0.000001}{1.000001-y}\\right).$$\n",
    "\n",
    "The number of zeroes isn't super important, you just need to bump it slightly off from the actual value, so that plugging in `1` and `0` translate to \"very large number\" and \"the same number, but negative\", respectively, instead of $+\\infty$ and $-\\infty$."
   ]
  },
  {
   "cell_type": "code",
   "execution_count": 33,
   "metadata": {
    "collapsed": false
   },
   "outputs": [],
   "source": [
    "# Your code here!\n",
    "def logit(y):\n",
    "    return log((y + 0.000001)/(1.000001-y))\n",
    "def logistic(x):\n",
    "    return 1/(1+np.exp(-x))"
   ]
  },
  {
   "cell_type": "markdown",
   "metadata": {},
   "source": [
    "Then, use `describe` to determine the effect of taking the logistic of, say, Sepal length."
   ]
  },
  {
   "cell_type": "code",
   "execution_count": 34,
   "metadata": {
    "collapsed": false
   },
   "outputs": [
    {
     "data": {
      "text/plain": [
       "count    150.000000\n",
       "mean       0.577020\n",
       "std        0.109287\n",
       "min        0.500000\n",
       "25%        0.500000\n",
       "50%        0.500000\n",
       "75%        0.731059\n",
       "max        0.731059\n",
       "Name: Iris-setosa, dtype: float64"
      ]
     },
     "execution_count": 34,
     "metadata": {},
     "output_type": "execute_result"
    }
   ],
   "source": [
    "iris['Iris-setosa'].apply(logistic).describe()"
   ]
  },
  {
   "cell_type": "markdown",
   "metadata": {},
   "source": [
    "What are you seeing when you `describe` the output?"
   ]
  },
  {
   "cell_type": "markdown",
   "metadata": {},
   "source": [
    "Now that the mean has been subtracted, everything is close to .5"
   ]
  },
  {
   "cell_type": "markdown",
   "metadata": {},
   "source": [
    "What this means is that we first need to preprocess them a little: create a new column for each predictor, where each has the mean subtracted away to create a new mean of zero for each column."
   ]
  },
  {
   "cell_type": "code",
   "execution_count": 35,
   "metadata": {
    "collapsed": false
   },
   "outputs": [
    {
     "data": {
      "text/html": [
       "<div>\n",
       "<table border=\"1\" class=\"dataframe\">\n",
       "  <thead>\n",
       "    <tr style=\"text-align: right;\">\n",
       "      <th></th>\n",
       "      <th>Sepal length</th>\n",
       "      <th>Sepal width</th>\n",
       "      <th>Petal length</th>\n",
       "      <th>Petal width</th>\n",
       "      <th>Iris-setosa</th>\n",
       "      <th>Sepal length-new</th>\n",
       "      <th>Sepal width-new</th>\n",
       "      <th>Petal length-new</th>\n",
       "      <th>Petal width-new</th>\n",
       "    </tr>\n",
       "  </thead>\n",
       "  <tbody>\n",
       "    <tr>\n",
       "      <th>count</th>\n",
       "      <td>150.000000</td>\n",
       "      <td>150.000000</td>\n",
       "      <td>150.000000</td>\n",
       "      <td>150.000000</td>\n",
       "      <td>150.000000</td>\n",
       "      <td>1.500000e+02</td>\n",
       "      <td>1.500000e+02</td>\n",
       "      <td>1.500000e+02</td>\n",
       "      <td>1.500000e+02</td>\n",
       "    </tr>\n",
       "    <tr>\n",
       "      <th>mean</th>\n",
       "      <td>5.843333</td>\n",
       "      <td>3.054000</td>\n",
       "      <td>3.758667</td>\n",
       "      <td>1.198667</td>\n",
       "      <td>0.333333</td>\n",
       "      <td>-1.125026e-15</td>\n",
       "      <td>-6.750156e-16</td>\n",
       "      <td>-3.238891e-15</td>\n",
       "      <td>-6.069219e-16</td>\n",
       "    </tr>\n",
       "    <tr>\n",
       "      <th>std</th>\n",
       "      <td>0.828066</td>\n",
       "      <td>0.433594</td>\n",
       "      <td>1.764420</td>\n",
       "      <td>0.763161</td>\n",
       "      <td>0.472984</td>\n",
       "      <td>8.280661e-01</td>\n",
       "      <td>4.335943e-01</td>\n",
       "      <td>1.764420e+00</td>\n",
       "      <td>7.631607e-01</td>\n",
       "    </tr>\n",
       "    <tr>\n",
       "      <th>min</th>\n",
       "      <td>4.300000</td>\n",
       "      <td>2.000000</td>\n",
       "      <td>1.000000</td>\n",
       "      <td>0.100000</td>\n",
       "      <td>0.000000</td>\n",
       "      <td>-1.543333e+00</td>\n",
       "      <td>-1.054000e+00</td>\n",
       "      <td>-2.758667e+00</td>\n",
       "      <td>-1.098667e+00</td>\n",
       "    </tr>\n",
       "    <tr>\n",
       "      <th>25%</th>\n",
       "      <td>5.100000</td>\n",
       "      <td>2.800000</td>\n",
       "      <td>1.600000</td>\n",
       "      <td>0.300000</td>\n",
       "      <td>0.000000</td>\n",
       "      <td>-7.433333e-01</td>\n",
       "      <td>-2.540000e-01</td>\n",
       "      <td>-2.158667e+00</td>\n",
       "      <td>-8.986667e-01</td>\n",
       "    </tr>\n",
       "    <tr>\n",
       "      <th>50%</th>\n",
       "      <td>5.800000</td>\n",
       "      <td>3.000000</td>\n",
       "      <td>4.350000</td>\n",
       "      <td>1.300000</td>\n",
       "      <td>0.000000</td>\n",
       "      <td>-4.333333e-02</td>\n",
       "      <td>-5.400000e-02</td>\n",
       "      <td>5.913333e-01</td>\n",
       "      <td>1.013333e-01</td>\n",
       "    </tr>\n",
       "    <tr>\n",
       "      <th>75%</th>\n",
       "      <td>6.400000</td>\n",
       "      <td>3.300000</td>\n",
       "      <td>5.100000</td>\n",
       "      <td>1.800000</td>\n",
       "      <td>1.000000</td>\n",
       "      <td>5.566667e-01</td>\n",
       "      <td>2.460000e-01</td>\n",
       "      <td>1.341333e+00</td>\n",
       "      <td>6.013333e-01</td>\n",
       "    </tr>\n",
       "    <tr>\n",
       "      <th>max</th>\n",
       "      <td>7.900000</td>\n",
       "      <td>4.400000</td>\n",
       "      <td>6.900000</td>\n",
       "      <td>2.500000</td>\n",
       "      <td>1.000000</td>\n",
       "      <td>2.056667e+00</td>\n",
       "      <td>1.346000e+00</td>\n",
       "      <td>3.141333e+00</td>\n",
       "      <td>1.301333e+00</td>\n",
       "    </tr>\n",
       "  </tbody>\n",
       "</table>\n",
       "</div>"
      ],
      "text/plain": [
       "       Sepal length  Sepal width  Petal length  Petal width  Iris-setosa  \\\n",
       "count    150.000000   150.000000    150.000000   150.000000   150.000000   \n",
       "mean       5.843333     3.054000      3.758667     1.198667     0.333333   \n",
       "std        0.828066     0.433594      1.764420     0.763161     0.472984   \n",
       "min        4.300000     2.000000      1.000000     0.100000     0.000000   \n",
       "25%        5.100000     2.800000      1.600000     0.300000     0.000000   \n",
       "50%        5.800000     3.000000      4.350000     1.300000     0.000000   \n",
       "75%        6.400000     3.300000      5.100000     1.800000     1.000000   \n",
       "max        7.900000     4.400000      6.900000     2.500000     1.000000   \n",
       "\n",
       "       Sepal length-new  Sepal width-new  Petal length-new  Petal width-new  \n",
       "count      1.500000e+02     1.500000e+02      1.500000e+02     1.500000e+02  \n",
       "mean      -1.125026e-15    -6.750156e-16     -3.238891e-15    -6.069219e-16  \n",
       "std        8.280661e-01     4.335943e-01      1.764420e+00     7.631607e-01  \n",
       "min       -1.543333e+00    -1.054000e+00     -2.758667e+00    -1.098667e+00  \n",
       "25%       -7.433333e-01    -2.540000e-01     -2.158667e+00    -8.986667e-01  \n",
       "50%       -4.333333e-02    -5.400000e-02      5.913333e-01     1.013333e-01  \n",
       "75%        5.566667e-01     2.460000e-01      1.341333e+00     6.013333e-01  \n",
       "max        2.056667e+00     1.346000e+00      3.141333e+00     1.301333e+00  "
      ]
     },
     "execution_count": 35,
     "metadata": {},
     "output_type": "execute_result"
    }
   ],
   "source": [
    "# your code here! Don't forget the list `columns`, from way up above.  It should help.\n",
    "def is_number(s):\n",
    "    try:\n",
    "        float(s)\n",
    "        return True\n",
    "    except ValueError:\n",
    "        return False\n",
    "    \n",
    "for var in columns:\n",
    "    if is_number(iris[var][0]):\n",
    "        m = np.mean(iris[var])\n",
    "        l = []\n",
    "        for n in iris[var]:\n",
    "            l.append(n-m)\n",
    "        iris[var + \"-new\"] = l \n",
    "#iris.head()\n",
    "iris.describe()"
   ]
  },
  {
   "cell_type": "markdown",
   "metadata": {},
   "source": [
    "Now `describe` again, and tell me why this is better.  Remember: the logistic function's outputs are in the interval $(0,1)$."
   ]
  },
  {
   "cell_type": "markdown",
   "metadata": {},
   "source": [
    "The mean of all the values is close to 0"
   ]
  },
  {
   "cell_type": "markdown",
   "metadata": {},
   "source": [
    "Now let's fit a simple model that predicts only on sepal length.  It should create some equation: \n",
    "\n",
    "$$\\ln\\left(\\dfrac{y}{1-y}\\right) = m_{\\text{length}}\\cdot x_{\\text{length}} + b$$"
   ]
  },
  {
   "cell_type": "code",
   "execution_count": 36,
   "metadata": {
    "collapsed": false
   },
   "outputs": [
    {
     "data": {
      "text/plain": [
       "LinearRegression(copy_X=True, fit_intercept=True, n_jobs=1, normalize=False)"
      ]
     },
     "execution_count": 36,
     "metadata": {},
     "output_type": "execute_result"
    }
   ],
   "source": [
    "# You might need to change the name of your column!\n",
    "X = iris['Sepal length-new']\n",
    "y = iris['Iris-setosa']\n",
    "linreg = LinearRegression()\n",
    "linreg.fit(X.reshape([-1,1]),y.apply(logit))"
   ]
  },
  {
   "cell_type": "markdown",
   "metadata": {},
   "source": [
    "Make a scatter plot that colors the datapoints based on their true class (like above), but add the following code to it to show what's call the __logistic regression decision boundary__ (I'll explain in a minute, get the plot right first)"
   ]
  },
  {
   "cell_type": "code",
   "execution_count": 37,
   "metadata": {
    "collapsed": false
   },
   "outputs": [],
   "source": [
    "# Construct the decision boundary:\n",
    "##   (You are welcome to try and understand what's \n",
    "##    going on in this code, but it's not something I \n",
    "##    would test you on.)\n",
    "logistic_v = np.vectorize(logistic) # allows mapping the logistic function to all entries in a numpy array\n",
    "\n",
    "mean = iris['Sepal length'].mean()  # need to de-mean the input in calculating the probability\n",
    "xx, yy = np.mgrid[4.0:8.5:.01, 1.5:5.0:.01]\n",
    "grid = np.c_[xx.ravel(), yy.ravel()]\n",
    "probs = logistic_v(linreg.predict((xx.T[0]-mean).reshape(-1,1)))  # forming a prediction for each point in the grid\n",
    "probs_grid = np.array([probs for x in range(len(xx[0]))]).T       # shaping it appropriately"
   ]
  },
  {
   "cell_type": "code",
   "execution_count": 38,
   "metadata": {
    "collapsed": false
   },
   "outputs": [
    {
     "data": {
      "image/png": "[encoded data removed]",
      "text/plain": [
       "<matplotlib.figure.Figure at 0x232439a9710>"
      ]
     },
     "metadata": {},
     "output_type": "display_data"
    }
   ],
   "source": [
    "# Create the plot and add the decision boundary\n",
    "##   (You are welcome to try and understand what's \n",
    "##    going on in this code, but it's not something I \n",
    "##    would test you on.)\n",
    "colorings = {'Iris-setosa':'r', 'Iris-versicolor': 'b', 'Iris-virginica': 'g'}\n",
    "figure = plt.figure()\n",
    "ax = figure.add_subplot(1,1,1)\n",
    "contour = ax.contourf(xx,yy, probs_grid, 25, cmap=\"RdBu\",\n",
    "                      vmin=0, vmax=1)\n",
    "ax_c = figure.colorbar(contour)\n",
    "ax_c.set_label(\"$P(y = 1)$\")\n",
    "\n",
    "# Add your scatter plot!  Use ax.scatter\n",
    "ax.scatter(iris['Sepal length'],iris['Sepal width'], c=iris['Species'].map(colorings))\n",
    "\n",
    "plt.show()"
   ]
  },
  {
   "cell_type": "markdown",
   "metadata": {},
   "source": [
    "Okay, so the probabilities of every point in the space are plotted using the countour plot.  I say \"probabilities\" here because the outputs of our model (after you pass it through the `logit` function) are between zero and one, so you can interpret the model to be outputting the _probability that the point is in class 1_.  The __decision boundary__ is typically the curve on the plane where the probability is $.5$, because that's when you would be classifying this as one class at any higher probability and the other class at any lower probability.\n",
    "\n",
    "So what's going on here is that our model would __misclassify__ some of the points, because their probabilities are on the wrong side of the boundary.  The white dots on the blue side are wrong (they're __false positives__) and the black dots on the red side are wrong (they're __false negatives__).  But it does seem to have some idea of what's going on.  Let's add the second predictor and try to classify them again.  This is a little strange, though, because we need to output in the range of zero to one, still, and so we need to slightly tweak the `logistic` and `logit` functions to account for higher dimensions:\n",
    "\n",
    "$$\\ln\\left(\\dfrac{y}{1-y}\\right) = m_{\\text{length}}\\cdot x_{\\text{length}} + m_{\\text{width}}\\cdot x_{\\text{width}} + b$$\n"
   ]
  },
  {
   "cell_type": "code",
   "execution_count": 39,
   "metadata": {
    "collapsed": false
   },
   "outputs": [
    {
     "data": {
      "text/plain": [
       "LinearRegression(copy_X=True, fit_intercept=True, n_jobs=1, normalize=False)"
      ]
     },
     "execution_count": 39,
     "metadata": {},
     "output_type": "execute_result"
    }
   ],
   "source": [
    "# You might need to change the name of your column!\n",
    "X = iris[['Sepal length-new', 'Sepal width-new']]\n",
    "\n",
    "linreg = LinearRegression()\n",
    "linreg.fit(X,y.apply(logit))"
   ]
  },
  {
   "cell_type": "markdown",
   "metadata": {
    "collapsed": true
   },
   "source": [
    "As before, plot the points and the decision boundary:"
   ]
  },
  {
   "cell_type": "code",
   "execution_count": 40,
   "metadata": {
    "collapsed": false
   },
   "outputs": [],
   "source": [
    "# Same thing as before: construct a grid of probabilities for the decision boundary\n",
    "\n",
    "# Construct the decision boundary:\n",
    "mean_length = iris['Sepal length'].mean()\n",
    "mean_width = iris['Sepal width'].mean()\n",
    "\n",
    "xx, yy = np.mgrid[4.0:8.5:.01, 1.5:5.0:.01]\n",
    "grid = np.c_[xx.ravel(), yy.ravel()]\n",
    "probs = logistic_v((linreg.predict(np.dstack((xx-mean_length,yy-mean_width)).reshape((350*450,2)))).reshape(450,350))\n",
    "# holy mole, that's some line of code."
   ]
  },
  {
   "cell_type": "code",
   "execution_count": 41,
   "metadata": {
    "collapsed": false
   },
   "outputs": [
    {
     "data": {
      "image/png": "[encoded data removed]",
      "text/plain": [
       "<matplotlib.figure.Figure at 0x232442eccf8>"
      ]
     },
     "metadata": {},
     "output_type": "display_data"
    }
   ],
   "source": [
    "# Create the plot and add the decision boundary\n",
    "figure = plt.figure()\n",
    "ax = figure.add_subplot(1,1,1)\n",
    "contour = ax.contourf(xx,yy, probs, 25, cmap=\"RdBu\",\n",
    "                      vmin=0, vmax=1)\n",
    "ax_c = figure.colorbar(contour)\n",
    "ax_c.set_label(\"$P(y = 1)$\")\n",
    "\n",
    "# Add your scatter plot!\n",
    "ax.scatter(iris['Sepal length'],iris['Sepal width'], c=iris['Species'].map(colorings))\n",
    "plt.show()"
   ]
  },
  {
   "cell_type": "markdown",
   "metadata": {},
   "source": [
    "Actually, that looks great!  How close to correct were we?"
   ]
  },
  {
   "cell_type": "markdown",
   "metadata": {},
   "source": [
    "### Accuracy checking\n",
    "\n",
    "We can't \"plot the residuals\" in this situation.  Residuals are only defined when your response (remember, that's `y`) is continuous variable.  When you're performing classification, you need a different collection of metrics.\n",
    "\n",
    "#### Accuracy score \n",
    "\n",
    "The first thing you might determine is the accuracy score: \n",
    "\n",
    "$$\\dfrac{\\text{# of correctly classified points}}{\\text{# of points}}.$$  \n",
    "\n",
    "This has some serious limitations, in a similar way to how the $R^2$ metric does for regression.  \n",
    "\n",
    "#### Confusion matrix\n",
    "\n",
    "A better source of information is the __confusion matrix__: \n",
    "\n",
    "$$\\left(\\begin{array}{cc} \\text{True Positives} & \\text{False Positives} \\\\\n",
    "\\text{False Negatives} & \\text{True Negatives}\\end{array}\\right)$$ \n",
    "\n",
    "Consider an example dataset where there are almost no positives, for example trying to detect fraud.  Almost $0\\%$ of transactions in the world are fraudulent, but finding fraudulent transactions is extremely important.  Why might a confusion matrix be more helpful in this situation?"
   ]
  },
  {
   "cell_type": "markdown",
   "metadata": {},
   "source": [
    "You could use a confusion matrix and just assume that none of the transactions are fraudulent. You are trying to minimize the amount of false positives and false negatives to accurately determine which transactions are fraudulent"
   ]
  },
  {
   "cell_type": "markdown",
   "metadata": {},
   "source": [
    "#### Calculate the Accuracy Score and Confusion Matrix for the above two models, then create a third model that adds the other two predictors, Petal width and Petal length.  Skip the plotting for that model, just calculate the Accuracy Score and Confusion Matrix for that as well."
   ]
  },
  {
   "cell_type": "code",
   "execution_count": 102,
   "metadata": {
    "collapsed": false
   },
   "outputs": [
    {
     "name": "stdout",
     "output_type": "stream",
     "text": [
      "0.9933333333333333\n",
      "[[ 49   0]\n",
      " [  1 100]]\n",
      "0.46\n",
      "[[ 0 31]\n",
      " [50 69]]\n"
     ]
    }
   ],
   "source": [
    "#accuracy score for the above two models\n",
    "true_p = 0\n",
    "false_p = 0\n",
    "true_n = 0\n",
    "false_n = 0\n",
    "num_correct = 0\n",
    "y = iris[\"Iris-setosa\"]\n",
    "for i in range(len(X)):\n",
    "    x1 = X[\"Sepal length-new\"]\n",
    "    x2 = X[\"Sepal width-new\"]\n",
    "    d = pd.DataFrame({\"Sepal length-new\": [x1.loc[i]], \"Sepal width-new\": [x2.loc[i]]})\n",
    "    p = round(logistic(linreg.predict(d)[0]))\n",
    "    if  p == 0 and y.loc[i] == 0:\n",
    "        true_n += 1\n",
    "        num_correct += 1\n",
    "    elif p == 0 and y.loc[i] == 1:\n",
    "        false_n += 1\n",
    "    elif p == 1 and y.loc[i] == 0:\n",
    "        false_p += 1\n",
    "    elif p == 1 and y.loc[i] == 1:\n",
    "        true_p += 1\n",
    "        num_correct += 1  \n",
    "accuracy = num_correct/len(X)\n",
    "print(accuracy)\n",
    "c_matrix = np.matrix([[true_p,false_p],[false_n,true_n]])\n",
    "print(c_matrix)\n",
    "\n",
    "#accuracy score for sepal and petal length and width\n",
    "true_p = 0\n",
    "false_p = 0\n",
    "true_n = 0\n",
    "false_n = 0\n",
    "num_correct = 0\n",
    "X1 = iris[['Sepal length-new', 'Sepal width-new', 'Petal length-new', 'Petal width-new']]\n",
    "linreg1 = LinearRegression()\n",
    "y = iris[\"Iris-setosa\"]\n",
    "linreg1.fit(X1,y.apply(logit))\n",
    "for i in range(len(X)):\n",
    "    x1 = X1[\"Sepal length-new\"]\n",
    "    x2 = X1[\"Sepal width-new\"]\n",
    "    x3 = X1[\"Petal length-new\"]\n",
    "    x4 = X1[\"Petal width-new\"]\n",
    "    d = pd.DataFrame({\"Sepal length-new\": [x1.loc[i]], \"Sepal width-new\": [x2.loc[i]], \"Petal length-new\": [x3.loc[i]], \"Petal width-new\": [x4.loc[i]]})\n",
    "    p = round(logistic(linreg1.predict(d)[0]))\n",
    "    if  p == 0 and y.loc[i] == 0:\n",
    "        true_n += 1\n",
    "        num_correct += 1\n",
    "    elif p == 0 and y.loc[i] == 1:\n",
    "        false_n += 1\n",
    "    elif p == 1 and y.loc[i] == 0:\n",
    "        false_p += 1\n",
    "    elif p == 1 and y.loc[i] == 1:\n",
    "        true_p += 1\n",
    "        num_correct += 1  \n",
    "accuracy = num_correct/len(X1)\n",
    "print(accuracy)\n",
    "c_matrix = np.matrix([[true_p,false_p],[false_n,true_n]])\n",
    "print(c_matrix)"
   ]
  },
  {
   "cell_type": "markdown",
   "metadata": {},
   "source": [
    "## Part 2: Acquiring and Preprocessing Tweets\n",
    "\n",
    "### Acquire\n",
    "Using the homework as a guide, gather tweets based on your favorite hashtags, people or other things.  It could be election-specific, as that's definitely a hot topic at the moment, or anything else!  Gather at least 500 tweets from at least 5 different sources (500 total, not 2500, though feel free to gather as many as you want).  Since it's customary and helpful to put all your imports at the top, in the same cell, add `tweepy` to the top import.  Save the text of the tweet and anything else you think might help determine its sentiment, but through everything else away."
   ]
  },
  {
   "cell_type": "code",
   "execution_count": 57,
   "metadata": {
    "collapsed": false
   },
   "outputs": [],
   "source": [
    "import tweepy\n",
    "from nltk.stem.porter import PorterStemmer\n",
    "import re\n",
    "from collections import Counter"
   ]
  },
  {
   "cell_type": "markdown",
   "metadata": {},
   "source": [
    "Authorization and then find 200 tweets using the keyword \"debate\""
   ]
  },
  {
   "cell_type": "code",
   "execution_count": 7,
   "metadata": {
    "collapsed": false
   },
   "outputs": [
    {
     "ename": "NameError",
     "evalue": "name 'tweepy' is not defined",
     "output_type": "error",
     "traceback": [
      "\u001b[1;31m---------------------------------------------------------------------------\u001b[0m",
      "\u001b[1;31mNameError\u001b[0m                                 Traceback (most recent call last)",
      "\u001b[1;32m<ipython-input-7-5cbfcbf73820>\u001b[0m in \u001b[0;36m<module>\u001b[1;34m()\u001b[0m\n\u001b[0;32m      2\u001b[0m \u001b[0mc_key\u001b[0m\u001b[1;33m,\u001b[0m \u001b[0mc_secret\u001b[0m\u001b[1;33m,\u001b[0m \u001b[0ma_key\u001b[0m\u001b[1;33m,\u001b[0m \u001b[0ma_secret\u001b[0m \u001b[1;33m=\u001b[0m \u001b[0ma\u001b[0m\u001b[1;33m.\u001b[0m\u001b[0mread\u001b[0m\u001b[1;33m(\u001b[0m\u001b[1;33m)\u001b[0m\u001b[1;33m.\u001b[0m\u001b[0msplit\u001b[0m\u001b[1;33m(\u001b[0m\u001b[1;34m\"\\n\"\u001b[0m\u001b[1;33m)\u001b[0m\u001b[1;33m[\u001b[0m\u001b[1;36m0\u001b[0m\u001b[1;33m:\u001b[0m\u001b[1;36m4\u001b[0m\u001b[1;33m]\u001b[0m\u001b[1;33m\u001b[0m\u001b[0m\n\u001b[0;32m      3\u001b[0m \u001b[1;33m\u001b[0m\u001b[0m\n\u001b[1;32m----> 4\u001b[1;33m \u001b[0mauth\u001b[0m \u001b[1;33m=\u001b[0m \u001b[0mtweepy\u001b[0m\u001b[1;33m.\u001b[0m\u001b[0mOAuthHandler\u001b[0m\u001b[1;33m(\u001b[0m\u001b[0mc_key\u001b[0m\u001b[1;33m,\u001b[0m \u001b[0mc_secret\u001b[0m\u001b[1;33m,\u001b[0m \u001b[1;34m\"https://google.com\"\u001b[0m\u001b[1;33m)\u001b[0m\u001b[1;33m\u001b[0m\u001b[0m\n\u001b[0m\u001b[0;32m      5\u001b[0m \u001b[1;32mtry\u001b[0m\u001b[1;33m:\u001b[0m\u001b[1;33m\u001b[0m\u001b[0m\n\u001b[0;32m      6\u001b[0m     \u001b[0mredirect_url\u001b[0m \u001b[1;33m=\u001b[0m \u001b[0mauth\u001b[0m\u001b[1;33m.\u001b[0m\u001b[0mget_authorization_url\u001b[0m\u001b[1;33m(\u001b[0m\u001b[1;33m)\u001b[0m\u001b[1;33m\u001b[0m\u001b[0m\n",
      "\u001b[1;31mNameError\u001b[0m: name 'tweepy' is not defined"
     ]
    }
   ],
   "source": [
    "a = open('keys.txt')\n",
    "c_key, c_secret, a_key, a_secret = a.read().split(\"\\n\")[0:4]\n",
    "\n",
    "auth = tweepy.OAuthHandler(c_key, c_secret, \"https://google.com\")\n",
    "try:\n",
    "    redirect_url = auth.get_authorization_url()\n",
    "except tweepy.TweepError:\n",
    "    print('Error! Failed to get request token.')\n",
    "\n",
    "auth.set_access_token(a_key, a_secret)\n",
    "api = tweepy.API(auth)\n",
    "tweets = []\n",
    "for i in tweepy.Cursor(api.search, q='ugly').items(500):\n",
    "    tweets.append(i.text)\n",
    "print(tweets[0])\n"
   ]
  },
  {
   "cell_type": "markdown",
   "metadata": {},
   "source": [
    "### Process\n",
    "\n",
    "In processing those tweets, you'll need to use `nltk` as we did in the email lab.  Don't forget to add that to the import cell.  Recall the process for preparing text data:\n",
    "\n",
    "* Remove punctuation and other non-words,\n",
    "* Stem the words and remove stop words, and\n",
    "* Vectorize the words.\n",
    "\n",
    "However, there's some differences with tweets.  Some of the tweets you gathered hopefully contain emoticons.  Look through your list of tweets and see what you find in there that is _not plain text_ and _potentially useful_.  Then, chat with your group when you're all at this point and start to build a way to pull out some of these emoticons.  Remember, our goal is to build a sentiment classifier, so anything that you think might have something to do with sentiment.\n",
    "\n",
    "Additionally, there are fancier ways of vectorizing words.  Do the normal \"Bag of Words\" approach, by creating a master list of the top `N` words (try `N=5000` to start), and counting the occurance of each of the non-stop words.  But _additionally_, create a list of the top `2N` pairs of words (there are `N**2` such pairs in general, but most of those are garbage).  These pairs of words are called __2-grams__, and you can calculate $n$-grams in general.  "
   ]
  },
  {
   "cell_type": "code",
   "execution_count": 67,
   "metadata": {
    "collapsed": false
   },
   "outputs": [],
   "source": [
    "#Remove punctuation\n",
    "def remove_punctuation(s):\n",
    "    from string import punctuation\n",
    "    w = ''.join(c for c in s if c not in punctuation)\n",
    "    return w"
   ]
  },
  {
   "cell_type": "code",
   "execution_count": 81,
   "metadata": {
    "collapsed": false
   },
   "outputs": [
    {
     "name": "stdout",
     "output_type": "stream",
     "text": [
      "['it', 'four', 'your', 'all', 'ugli', 'bobherzog', 'super', 'duper', 'ugli', 'cant']\n"
     ]
    }
   ],
   "source": [
    "# Stemming the words\n",
    "def all_char(word):\n",
    "    for letter in word:\n",
    "        if not letter.isalnum():\n",
    "            return False\n",
    "    return True\n",
    "for i in range(len(tweets)):\n",
    "    tweets[i] = remove_punctuation(tweets[i])\n",
    "stemmer = PorterStemmer()\n",
    "stemmed_words = []\n",
    "for tweet in tweets:\n",
    "    words = re.split(\"\\s\", tweet)\n",
    "    words = [word for word in words if len(word) > 0 and all_char(word)]\n",
    "    for word in words:\n",
    "        temp = word.replace(\"\\n\", \" \").lower()\n",
    "        stemmed_words.append(stemmer.stem(temp))\n",
    "#Remove all links        \n",
    "links = []\n",
    "for word in stemmed_words:\n",
    "    if 'http' in word:\n",
    "        links.append(word)\n",
    "for l in links:\n",
    "    stemmed_words.remove(l)\n",
    "print(stemmed_words[0:10])"
   ]
  },
  {
   "cell_type": "code",
   "execution_count": 80,
   "metadata": {
    "collapsed": false
   },
   "outputs": [],
   "source": [
    "#Vectorize words using top 5000 most common words\n",
    "N = 5000\n",
    "common_words = Counter(stemmed_words).most_common(N)\n",
    "vector = []\n",
    "for tweet in tweets:\n",
    "    a = []\n",
    "    for w in common_words:\n",
    "        word = w[0]\n",
    "        if word in tweet:\n",
    "            a.append(1)\n",
    "        else:\n",
    "            a.append(0)\n",
    "    vector.append(a)"
   ]
  },
  {
   "cell_type": "markdown",
   "metadata": {},
   "source": [
    "## Part 3: Labeling your data\n",
    "\n",
    "Now, we come to the unfortunate, but most important part, of the process.  Linear Regression (or __Logistic Regression__, what we're actually doing here) requires a __training dataset__, where its response is already known.  This sounds like fancy language, but all I mean is that the equation for linear regression has a $y$ in it:\n",
    "\n",
    "$$\\sigma = (X^T X)^{-1} X^T y$$\n",
    "\n",
    "So in order to __train__ our model (that is, find all the $m$'s and the $b$), we need a dataset that has a known response.  All your tweets don't yet have any sentiment attached to them.  Now that part's your job.  \n",
    "\n",
    "### Go through your list of tweets, and select at least 200 to label as positive and negative\n",
    "\n",
    "I say 200 instead of 500 because:\n",
    "* 500 would take much longer, \n",
    "* some of the tweets you downloaded might be junk, and \n",
    "* I want a relatively balanced set of positive and negative tweets from everyone.\n",
    "\n",
    "We'll put all your labeled tweets together into a big dataset to work with next week.  \n",
    "\n",
    "### Be sure to submit both this completed notebook and your labeled dataset as a CSV."
   ]
  },
  {
   "cell_type": "code",
   "execution_count": 109,
   "metadata": {
    "collapsed": false
   },
   "outputs": [
    {
     "name": "stdout",
     "output_type": "stream",
     "text": [
      "its four youre all UGLY\n",
      "BobHerzog super duper ugly\n",
      "Cant front she was ugly but that was the fattest ass in history lmao\n",
      "ugly\n",
      "RT whytruy Rihanna wouldnt dare to step out in that ugly ass outfit httpstcoVCDyfptRKz\n",
      "KellyannePolls youre disgusting And ugly\n",
      "Somebody come get lamxcna ugly ass😂💀\n",
      "bobfescoe  because his ugly wife harassed and threatened his victims Duh Vapid idiot\n",
      "AlwaysHunteer JinkiBaem JinkWorld saintshinee \n",
      "RT bubblestbh rt if ur the ugly friend\n",
      "Bill Gates the Ugly became Monarch of Australia in  2017\n",
      "RT bruhitszach If youre reading this just know 😚\\n\\nYou ugly and smell like moldy cheese\\n\\nIm playing love you ❤️\n",
      "RT bloop someone will appreciate my ugly ass one day\n",
      "RT JetBlackGuitar sorryvapor excuse me and my ugly ass eyebrows httpstcofylSLSWMVk\n",
      "She so ugly proceeds to slide in dms 💀\n",
      "RT linnyitssn Breitbart You gotta act Presidential\\nDonald How long\\nBreitbart The whole debate\\nDonald Screw you Your mom is ugly…\n",
      "nothing worst than a ugly bitch who swear up and down she cute\n",
      "RT wantjaylen Just bec they known please do not hype these little ugly kids heads up😂\n",
      "RT linnyitssn Breitbart You gotta act Presidential\\nDonald How long\\nBreitbart The whole debate\\nDonald Screw you Your mom is ugly…\n",
      "Congrats ugly ❤️ httpstcoaHcdkilOVK\n",
      "Like boa we know that ugly bitch belong to you\n",
      "RT bubblestbh rt if ur the ugly friend\n",
      "RT bubblestbh rt if ur the ugly friend\n",
      "RT whytruy Rihanna wouldnt dare to step out in that ugly ass outfit httpstcoVCDyfptRKz\n",
      "SavageNation lies abt being denied Professr job do 2 affirmative action back thn Universites only hired all whitehttpstco2AkcbA0Ic7\n",
      "RT carolinaaa56 i wanna see ugly god live\n",
      "RT psychotbh 98 stress 2 ugly\n",
      "Ps pants are ugly but cute at the same time lol but she slays httpstcoGsBlYHqDT9\n",
      "TwistedTene25 tell mesh ugly ass i know she saw my text 😒🙄\n",
      "RT lexyrichardsonn taking pics with ur friends is hard when theyre solid 10s and ur ugly\n",
      "HillaryClinton Im doing my part I purchased an old lumpy voodoo doll wearing an ugly green pantsuit I place a pin in it every night\n",
      "RT hatelynn when youre the ugly fish but your fits are always fresh so youre still cute httpstcoMLqbgfeMqu\n",
      "RT ddaeeeee why ugly bitches be the ones to talk the most shit\n",
      "BTUArmy ugly Christmas sweater idea httpstcocnNLht0sUo\n",
      "RT HeidiSomers Dont waste your beautiful mind doing ugly things\n",
      "Well if anybody needs an extra roommate toriknyszek13 is available she just called my dog ugly so Im officially kicking her out\n",
      "I was fw that nigga back then when he was ugly af amp he still switched up 😂\n",
      "RT AdorableWords arrives home ahh good now i can be ugly in peace\n",
      "ZeZordYT 13 minutes lol\n",
      "RT whytruy Rihanna wouldnt dare to step out in that ugly ass outfit httpstcoVCDyfptRKz\n",
      "Game day tomorrow 1200 time for me to lock in ‼️3️⃣🐐\n",
      "RT sofinee1 yall kids at MNW need to mind yall OWN damn business ugly asses \n",
      "RT bubblestbh rt if ur the ugly friend\n",
      "lorensummer that spelling is ugly\n",
      "RT whytruy Rihanna wouldnt dare to step out in that ugly ass outfit httpstcoVCDyfptRKz\n",
      "RT whytruy Rihanna wouldnt dare to step out in that ugly ass outfit httpstcoVCDyfptRKz\n",
      "RT bruhchance i might still be ugly but i used to be uglier\n",
      "RT psychotbh 98 stress 2 ugly\n",
      "RT linnyitssn Breitbart You gotta act Presidential\\nDonald How long\\nBreitbart The whole debate\\nDonald Screw you Your mom is ugly…\n",
      "becmoore66 you are not ugly you should not listen to people who say you are because they are only jealous of your beauty\n",
      "RT psychotbh 98 stress 2 ugly\n",
      "DavidHaugh Hes not even close to catching up w fastballs Ugly\n",
      "It sucks being ugly\n",
      "howardtayler my left amp right hemispheres are having a mini debate in my head right now about whether I want to watch it Its getting ugly\n",
      "RT psychotbh 98 stress 2 ugly\n",
      "Polkameister Again another stale lowinfo Canadian politico spills his watery factfree soup on that ugly Socialist tie fail\n",
      "RT mustardbaby06 some guys called me ugly so if u see a video going viral of me calling them mop heads its bc they started it\n",
      "I never was ugly though 😭\n",
      "RT Dutch Twitter be making me ugly laugh in public lmao\n",
      "RT psychotbh 98 stress 2 ugly\n",
      "Newsweek what an ugly sob\n",
      "Ugly httpstco9cdqrEmiLr\n",
      "RT SHAQ If u feel alone and by yourself look in the mirror and wow theres two of you  Be who you are Who are you I am me Ugly lo…\n",
      "Some of these studs ugly af 👐🏼\n",
      "RT linnyitssn Breitbart You gotta act Presidential\\nDonald How long\\nBreitbart The whole debate\\nDonald Screw you Your mom is ugly…\n",
      "RT femaIes I hate when I smile  someone and they dont smile back like ugh nvm ugly hoe\n",
      "RT psychotbh 98 stress 2 ugly\n",
      "RT FriendlyAssh0le rt if ur ugly\n",
      "Fat Ugly Americans in Romania httpstcogvf1P1k8Wg via TheBSTravelers travel TravelSkills travelblogger\n",
      "RT psychotbh 98 stress 2 ugly\n",
      "RT psychotbh 98 stress 2 ugly\n",
      "RT Democrat4Trump NEVER SEEN BEFORE FOOTAGE of Hillary being rude to a black lady She is like this all the time behind closed doors ht…\n",
      "RT baeryl me Im a bad bitch and I dont care what people say\\n\\neveryone my god that bitch is so ugly holy FUCK\\n\\nme httpstcoP7x0Q…\n",
      "RT indelics Damn woke up ugly again\n",
      "RT FiImQuote The Ugly Truth httpstcoEapdCxlkE8\n",
      "Im ugly af\n",
      "Terrified to have kids Ive seen a lot of ugly ones floating around\n",
      "mradamscott love how u think youre still relevant you ugly no talent mother fucker\n",
      "the hs u ALWAYS worried about wtf is going on at bitch didnt ur ugly fat bad body U ass graduate last yr dont wo… httpstcocLqZOT8yG3\n",
      "i Kno ppl hate bts amp their fans too but i used 2 think tht one guy from there was ugly but now i dont think so anymore\n",
      "SBEdits ugly af\n",
      "RT bubblestbh rt if ur the ugly friend\n",
      "RT bubblestbh rt if ur the ugly friend\n",
      "Smh for when girls call themselves ugly for compliments \n",
      "Miggyrunfast Im ugly and Im proud\n",
      "If you take a selfie amp put the caption as something to do with you being ugly I have no respect\n",
      "98 stress 2 ugly\n",
      "RT giselle17r Its honestly hard being ugly\n",
      "Why is this 9th grade Vincent Hunter before he got ugly and odd built Bristefanic sydneyhargrove httpstcoTnrZMYKRf1\n",
      "its ugly i love it httpstco0GjWEkVnWl\n",
      "RT AdorableWords arrives home ahh good now i can be ugly in peace\n",
      "RT chloeeconway Why would you want the ugly school drape photos when Samantha does such an amazing job with them SENIORS2017 🎓❤️ http…\n",
      "gabiolson24 thats what Im sayin 😂 last I knew seve was an ugly fat 6th grader and now hes driving amp Jackson has a girlfriend wtf\n",
      "RT bubblestbh rt if ur the ugly friend\n",
      "I dont think Im going on a date my high school years because Im so ugly and no guy likes me\n",
      "Whats so ugly is when my American friends use London slang 😭😭😭\n",
      "RT GirlsCanReIate Is anyone else going through that stage where u just feel ugly no matter what you try to do with yourself\n",
      "44 Idk why things never work out for me Like what is it I must be ugly bruh\n",
      "I feel so ugly omg httpstcoiWaMDhRdPB\n",
      "RT AdorableWords arrives home ahh good now i can be ugly in peace\n",
      "The good the bad and the ugly 1967 httpstcocBeGWsaJhB\n",
      "Gym shit Being ugly httpstco4NDkIaW272\n",
      "RT imWaavey When he usually just calls you ugly ass fuckin noodle head but then randomly says something cute httpstcoIHNN8uscVY\n",
      "Thanks Ugly God😍\n",
      "RT bubblestbh rt if ur the ugly friend\n",
      "RT kiadg5 Me all the way I hate send huge paragraphs its so ugly to me httpstcoLoT3WNXTGZ\n",
      "RT baeryl me Im a bad bitch and I dont care what people say\\n\\neveryone my god that bitch is so ugly holy FUCK\\n\\nme httpstcoP7x0Q…\n",
      "UglyNigga00 gt Mestoy Masturvando \\n\\n Esperate Guey\\npictwittercom60TTg1EDdH\n",
      "JoelGord I find their spines almost intolerably ugly\n",
      "RT GERMDQB Some people just ugly inside and out\n",
      "AlphaChung stop une ugly lol\n",
      "today I went through all the trouble of sculpting this ugly pot and then baking it for an hour just to find this te… httpstcoMIWzs1ll6O\n",
      "MiraorWHATEVER my dog gone eat yo ugly ass dog\n",
      "RT whytruy Rihanna wouldnt dare to step out in that ugly ass outfit httpstcoVCDyfptRKz\n",
      "I hate ugly btchs \n",
      "RT bubblestbh rt if ur the ugly friend\n",
      "RT jonfavs 3 Called those women liars and implied that some were too ugly for him to assault\n",
      "Chase Utley saved by Julio Urias That could have gotten ugly Dodgers\n",
      "RT bIoodorb ugly but i wont break ur heart\n",
      "Notice how theyre all ugly fucks ISeeATrend httpstcorhFRsyFHRO\n",
      "School has made me broke and ugly 🙃\n",
      "RT whytruy Rihanna wouldnt dare to step out in that ugly ass outfit httpstcoVCDyfptRKz\n",
      "RT Dutch Twitter be making me ugly laugh in public lmao\n",
      "RT whytruy Rihanna wouldnt dare to step out in that ugly ass outfit httpstcoVCDyfptRKz\n",
      "Trump factchecker Toronto Stars Dale explains why it matters how many lies Donald tells not just how big httpstcoF4TWKt9Dzh\n",
      "RT GirlsCanReIate Is anyone else going through that stage where u just feel ugly no matter what you try to do with yourself\n",
      "RT MichaelSwander Mo Speights recounts how Draymond fed up practice and s\\n\\nDraymond ROCCO HELLA UGLY\\n\\nKLAY httpstcoi1qNopym…\n",
      "why do ugly boys that look like toes think its okay to be mean to girls\n",
      "RT shruggful Im ugly but\\n1 I text back in 3sec\\n2 Im funny \\n3 Ill buy you food\n",
      "Webcam femdom compilation movies ugly young sexy\\n\\n❇️ The link my intimate photos\\n\\n🔅 httpstcoIJXOFbT5o5 httpstcopZfKdJP0BN\n",
      "pimptankooo ampthats why you ugly  dammit do you understand  😂\n",
      "RT linnyitssn Breitbart You gotta act Presidential\\nDonald How long\\nBreitbart The whole debate\\nDonald Screw you Your mom is ugly…\n",
      "hellohxseok lunarhealy get ur ugly tweets out my thread u scumbag 💖💖\n",
      "Niggas hate claiming they ugly ass baby mamas😂\n",
      "dont mind my ugly face 😂 just ignore it httpstcoG2PDQFMY8q\n",
      "regionaIIatbest this why i dont trust ppl with androids I AINT FUCKING W YOU IF U GOT AN UGLY ASS PHONE\n",
      "RT bubblestbh rt if ur the ugly friend\n",
      "RT whytruy Rihanna wouldnt dare to step out in that ugly ass outfit httpstcoVCDyfptRKz\n",
      "Once a guy said goodnight beautiful to me amp I didnt know what to say so I said goodnight ugly amp that is probably why I dont have a bf\n",
      "RT imWaavey When he usually just calls you ugly ass fuckin noodle head but then randomly says something cute httpstcoIHNN8uscVY\n",
      "muddysundae so ugly\n",
      "ArgumedezAngie who called you ugly wtf 🤔🤔 do they not have eyes \n",
      "RT grandromantiic Imagine Thinking That Recent Ryan Is Ugly httpstcoFlI9J3dNFQ\n",
      "RT SwisherSweeet Love My Ugly Ass Sisters 😩💕🙌🏽XcSerrano lilshooterrr peppermohamed\n",
      "RT bubblestbh rt if ur the ugly friend\n",
      "Blocked her ugly ass almost scared me on ft dawg 😩😩\n",
      "RT polaxrize me im ugly\\nfriend shut up you probably have so many guys after u\\nme httpstcoJdWjznJk0w\n",
      "RT xxTamaitai yall ugly lmao I cant even be mad 💀\n",
      "Remember when Cole was the ugly twin\n",
      "ticonderoguish mintyybear yes ofc sir have some soup on the house we will ugly her up ASAP httpstco30TxmXx7vv\n",
      "esta refea la amiguita inglesa Chaska Borek muy fea para mi CHicharito el se merece algo mejor ChaskaBorek your ugly\n",
      "Damn shes ugly httpstcowQI5d9ZbkW\n",
      "RT klatchet rT iF u UgLy aF\n",
      "Cernovich MSM is so petrified of Trump they see him behind everything including Danny Ugly to watch them vent their Trump rage on him\n",
      "RT DaveEast You Ugly But Ugly Too httpstcoSCXAG6zJ5u\n",
      "RT bubblestbh rt if ur the ugly friend\n",
      "RT bubblestbh rt if ur the ugly friend\n",
      "i wanna see ugly god live\n",
      "Im ugly and Im proud🎉 httpstcoJC9Zt6GeuD\n",
      "RT NoahPesante Im ugly but Ill make you laugh\n",
      "RT StephenKing I cant wait for this ugly fucking presidential campaign to be over\n",
      "actual news twitter user allkpopz wastes everyones time by being ugly and bitter httpstcoESf3nf4cDy\n",
      "RT UNICUNTTTT When the ugly nigga be like wheres my hug httpstcoGagHtVOsvK\n",
      "Kyuneki It does lol Sometimes there are certain panels that look so realistic they become ugly\n",
      "I hate my life from how ugly I am\n",
      "RT bubblestbh rt if ur the ugly friend\n",
      "Huntsville and all these ugly speed bumps\n",
      "RT kaitmcnn awh appreciation post for this one thanks for being ugly💖 httpstcovDxzWRaKHr\n",
      "honestly the one thing that makes me most bitter about school is that its made me ugly I used to have a hairline and eyes wo bags smh\n",
      "RT bubblestbh rt if ur the ugly friend\n",
      "I dont understand how some people say they are ugly but post a million pics of themselves it doesnt make sense\n",
      "RT BRANDONWARDELL when i find out someone i follow on here whose tweets ive enjoyed is ugly i feel betrayed on a stomachturning le…\n",
      "RT 127Skooby YOUR LINE Oh yeah fire sure you dumb Jit you say yeah your ugly you never say you shitted httpstcoOCJDZQVRW3\n",
      "RT GenjiShitmada Im ugly laughing at this httpstcogDnvr5wiOS\n",
      "RT bubblestbh rt if ur the ugly friend\n",
      "RT miyoko2x you ugly you your daddy son\n",
      "la inglesa Chaska Borek no es para chicharito asi q se consiga otro chavo ChaskaBorek chicharito thinks ur ugly\n",
      "RT AdorableWords arrives home ahh good now i can be ugly in peace\n",
      "RT whytruy Rihanna wouldnt dare to step out in that ugly ass outfit httpstcoVCDyfptRKz\n",
      "RT graceyyking when Im having a bad day isaac sends me ugly pictures in a memory video IsaacKe06347617 httpstcoto5Gm3Vqua\n",
      "RT bubblestbh rt if ur the ugly friend\n",
      "Thanks ugly god\n",
      "a Chicharito no le gusta las extranjeras mucho menos la inglesa Chaska Borek ChaskaBorek ur ugly \n",
      "RT whytruy Rihanna wouldnt dare to step out in that ugly ass outfit httpstcoVCDyfptRKz\n",
      "nataq23 kirbysueee wow Im ugly hahahahaha\n",
      "U could be 10x prettier than a female but if her body is Afucking1 and she only a LIL ugly idkkk mannn\n",
      "When you ugly but snap chat got you 🍤 liltwinovo httpstcop1AA08JfJq\n",
      "Like literally I say ugly things sometimes  I have no soul you know\n",
      "iM DELETING THAT IM SO UGLY DUDNSKDM\n",
      "You reeel ugly —  httpstcoCvClYdwM2M\n",
      "You cant spell you ugly ass jitt your intensive reading teacher is ugly for not teaching you how to read httpstco4WyYtVcaYr\n",
      "RT thefaIsh Oomf is coming for me when he stans a ugly interracial couple yikes httpstcosoIbpMWokT\n",
      "RT MotherMayI They Said All Real Niggas First Babys Mother Ugly Iguess Times Changed Or My Son Father Not Real Cause k\n",
      "RT lilladie21 i miss Sarahs ugly ass\n",
      "RT kiadg5 Me all the way I hate send huge paragraphs its so ugly to me httpstcoLoT3WNXTGZ\n",
      "I use to do the ugly snotty nose cry to this song 😭 httpstco2mc30jqrmT\n",
      "This ugly dress thing that I sleep in 😭 httpstcoTnVf8A97LA\n",
      "RT Perezjp16J Mexicans will get a ugly ass expedition and throw the cheapest chrome rims they can afford\n",
      "kammillaaa ur so ugly for this\n",
      "RT linnyitssn Breitbart You gotta act Presidential\\nDonald How long\\nBreitbart The whole debate\\nDonald Screw you Your mom is ugly…\n"
     ]
    }
   ],
   "source": [
    "for i in range(0, 200):\n",
    "    a = tweets[i].split(\"\\n\")\n",
    "    print(\"\\\\n\".join(a))\n"
   ]
  }
 ],
 "metadata": {
  "anaconda-cloud": {},
  "kernelspec": {
   "display_name": "Python [Root]",
   "language": "python",
   "name": "Python [Root]"
  },
  "language_info": {
   "codemirror_mode": {
    "name": "ipython",
    "version": 3
   },
   "file_extension": ".py",
   "mimetype": "text/x-python",
   "name": "python",
   "nbconvert_exporter": "python",
   "pygments_lexer": "ipython3",
   "version": "3.5.2"
  }
 },
 "nbformat": 4,
 "nbformat_minor": 0
}
