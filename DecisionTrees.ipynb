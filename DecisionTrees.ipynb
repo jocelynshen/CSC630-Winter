{
 "cells": [
  {
   "cell_type": "markdown",
   "metadata": {},
   "source": [
    "# Project: Decision Trees\n",
    "\n",
    "## Machine Learning, Winter 2017\n",
    "\n",
    "### Name: [Jocelyn Shen, Nicholas Miklaucic, Kevin Sun, Darcy Meyer]\n"
   ]
  },
  {
   "cell_type": "markdown",
   "metadata": {},
   "source": [
    "In this project, you'll perform the following tasks:\n",
    "1. Construct a (Python) class `DecisionTree` which will serve as our first machine learning model.\n",
    "2. Test it out on multiple datasets.  If you've done the above correctly, this shouldn't be hard!\n",
    "3. Determine the effects of overfitting and attempt some solutions, discussing which seem to work best."
   ]
  },
  {
   "cell_type": "code",
   "execution_count": 107,
   "metadata": {
    "collapsed": true
   },
   "outputs": [],
   "source": [
    "# Standard import statements:\n",
    "from itertools import combinations, chain\n",
    "from statistics import mean, median\n",
    "\n",
    "import numpy as np\n",
    "import matplotlib.pyplot as plt\n",
    "import pandas as pd\n",
    "import seaborn as sns\n",
    "from sklearn.tree import DecisionTreeClassifier\n",
    "\n",
    "from sklearn.metrics import accuracy_score, confusion_matrix, r2_score\n",
    "\n",
    "%matplotlib inline\n",
    "\n",
    "plt.style.use(\"ggplot\")"
   ]
  },
  {
   "cell_type": "markdown",
   "metadata": {},
   "source": [
    "## `DecisionTree` Class\n",
    "\n",
    "Construct a `DecisionTree` class in the cell below.  It should support the standard scikit-learn API: \n",
    "\n",
    "```\n",
    ">>> X, y = <your_dataset>\n",
    ">>> model = DecisionTree() # potentially with some parameters, if needed\n",
    ">>> model.fit(X,y)\n",
    ">>> model.predict(<new_sample_vector>)\n",
    "1\n",
    ">>> # If the model predicted your sample vector to be in class 1.\n",
    "```\n",
    "\n",
    "Note that your `predict` function should support either single predictions or multiple predictions, though you can force the user to do single predictions as a 2d array (single-row \"multiple\" predictions) so you only have one implementation to write.  What I mean by this is `model.predict(X)` should work (without error) to create all predictions for `y`.\n",
    "\n",
    "You should construct some human-readable visualization of your model, simply from a printout.  This way you can tell if the model is being built the way you want.  The best way to do this is to implement the `__str__` method for your class.  Probably the easiest way to do this is to iterate through the tree in a \"depth-first\" fashion, and for each node, just print out some basic facts, like the number of elements in that node, or the indices of those elements in `X`, and the class assignment if it's a leaf node; also, make sure the indentation level of each node increases as its depth increases.  It might be helpful to have your nodes be more than just the bare minimum object (which would probably be a list of the indices of the rows in `X` for the items in your node).  To reiterate: this should NOT be a \"beautiful\" printout with lines like:\n",
    "```\n",
    "            root\n",
    "           /    \\\n",
    "     child1      child2 \n",
    "    /      \\    /      \\\n",
    "...\n",
    "```\n",
    "\n",
    "Because that would get awkward fast.  What I'm imagining is:\n",
    "\n",
    "```\n",
    "root: <root_info>\n",
    "  child1: <child1_info>\n",
    "    grandchild1: <grandchild1_info>\n",
    "      ...\n",
    "    grandchild1: <grandchild2_info>\n",
    "      ...\n",
    "  child2: <child2_info>\n",
    "    grandchild1: <grandchild1_info>\n",
    "    grandchild1: <grandchild2_info>\n",
    "```\n",
    "\n",
    "By implementing this in `__str__` for your class, this will be the printout when you run:\n",
    "\n",
    "```\n",
    "model = DecisionTree(<whatever_you_need_to_do_to_create_your_model>)\n",
    "model.fit(X,y)\n",
    "print(model)\n",
    "```\n",
    "\n",
    "Recall the algorithm for fitting a decision tree:\n",
    "1. Start with all your data samples in a single node.\n",
    "2. For a given node, determine if you want to split at that node or not.  For now, this should just be a check to see if the node is \"pure\", meaning it only contains one class.  If you do decide to split it further, compute all possible splits of your data (all possible depth-1 subtrees).  For categorical variables, this should look like generating all pairs of combinations of classes.  For continuous or ordinal variables, sort the entries in that column, and then all possible splits involve cutting off at values between adjacent entries.  That is, if the entries in my continuous column are `[2.01, 3.425, 8.67, 493.6]`, then I have three splits, which are \n",
    "\"$x_i\\leq 2.01$\", \"$x_i\\leq 3.425$\", \"$x_i\\leq 8.67$\".\n",
    "3. Compute the change in Gini Impurity for each split, and choose the split that has the largest gain in information (most pure nodes).  Recall that the Gini Impurity for a node is \n",
    "$$ I = 1 - \\sum_{\\text{each class}} \\left(\\frac{\\text{# of elements in that class}}{\\text{# of elements in the node}}\\right)^2$$\n",
    "So then you want to maximize $I_\\text{new_child1} + I_\\text{new_child2} - I_\\text{old}$; that is, choose the split with the largest value for that quantity (roughly interpretted as \"information gain\", though for the record the term \"information gain\" is used in a totally-synonymous-but-technically-different situation).\n",
    "4. Repeat until all nodes are pure.\n",
    "5. (Get the above working first, and then later:) prune the tree back to avoid overfitting your training data. (See below)\n",
    "\n",
    "Note that your (Python) class should work for multi-class datasets (where you're trying to predict a `y` that has more than two classes)."
   ]
  },
  {
   "cell_type": "code",
   "execution_count": 108,
   "metadata": {
    "collapsed": true
   },
   "outputs": [],
   "source": [
    "\"\"\"This file implements a Node, a very simple class that simply has a left and a right child (both\n",
    "Nodes or None), and a value.\n",
    "\n",
    "Team: Jocelyn, Kevin, Nicholas\n",
    "Author: Nicholas\n",
    "\"\"\"\n",
    "\n",
    "from functools import total_ordering  # neat trick\n",
    "\n",
    "\n",
    "@total_ordering   # now every comparison function is defined. Neato!\n",
    "class Node:\n",
    "    \"\"\"A Node of a tree.\"\"\"\n",
    "\n",
    "    def __init__(self, val, left, right):\n",
    "        \"\"\"Represents a node of a binary tree.  Val is the value this Node has: can be anything but should\n",
    "        probably be hashable. Left and right are child Nodes, or None if this Node currently has no\n",
    "        child there.\"\"\"\n",
    "        self.val = val\n",
    "        self.left = left\n",
    "        self.right = right\n",
    "\n",
    "    def __str__(self):\n",
    "        \"\"\"Gives the Node's value and the values of its children.\"\"\"\n",
    "        return self.str_with_offset(self)\n",
    "\n",
    "    @classmethod\n",
    "    def str_with_offset(cls, node, offset=0):\n",
    "        \"\"\"Generates a string printout of the node, but adds a given offset to every line for\n",
    "        alignment. If node is None, returns \"None\".\n",
    "        \"\"\"\n",
    "        if node is None:\n",
    "            return None\n",
    "        ans = []  # create list of lines and join at the end\n",
    "        ans.append(\"{}\".format(str(node.val)))\n",
    "        ans.append(\"\\n{}==> {} \".format(' ' * offset, cls.str_with_offset(node.left, offset+4)))\n",
    "        ans.append(\"\\n{}==> {} \".format(' ' * offset, cls.str_with_offset(node.right, offset+4)))\n",
    "        return ''.join(ans)\n",
    "\n",
    "    def __repr__(self):\n",
    "        \"\"\"Gives the possible constructor.\"\"\"\n",
    "        return \"Node({}, {}, {})\".format(repr(self.val), repr(self.left), repr(self.right))\n",
    "\n",
    "    def children(self):\n",
    "        \"\"\"Returns a tuple (L, R) of children, if both exist, otherwise just the one that does, or (). Note\n",
    "        that this only returns a truthy value if the node has children: very useful!\n",
    "        \"\"\"\n",
    "        if self.left is None:\n",
    "            return () if self.right is None else (self.right,)\n",
    "        elif self.right is None:\n",
    "            return (self.left,)\n",
    "        else:\n",
    "            return (self.left, self.right)\n",
    "\n",
    "    def all_children(self):\n",
    "        \"\"\"Returns a tuple (L, R) of children, but includes None instead of removing it.\"\"\"\n",
    "        return (self.left, self.right)\n",
    "\n",
    "    def __eq__(self, other):\n",
    "        \"\"\"Uses the value, not the children, in comparison.\"\"\"\n",
    "        return self.val == other.val\n",
    "\n",
    "    def __le__(self, other):\n",
    "        \"\"\"Uses the value, not the children, in comparison.\"\"\"\n",
    "        return self.val <= other.val\n"
   ]
  },
  {
   "cell_type": "code",
   "execution_count": 109,
   "metadata": {
    "collapsed": true
   },
   "outputs": [],
   "source": [
    "\"\"\"This is a class for encoding a split at a node of a decision tree in a class. That way, we can\n",
    "represent more than one kind of split as both a class method function that splits data, and as a\n",
    "logical condition in a human-readable format.\n",
    "\n",
    "Team: Jocelyn, Kevin, Nicholas\n",
    "Author: Nicholas\n",
    "\"\"\"\n",
    "\n",
    "\n",
    "class Split:\n",
    "    \"\"\"Represents a decision tree split. For now, this is just a less-than-or-equal-to test with a\n",
    "    given value, but it could be extended in the future.\"\"\"\n",
    "\n",
    "    def __init__(self, predictor_name, val):\n",
    "        \"\"\"Val is the value that the split checks for <= relation to: for example, val=3.6 would make a\n",
    "        Split to test x <= 3.6 for some input x. Predictor_name is the name of the predictor to\n",
    "        test: for example, in a decision tree with a predictor y_1, you could use \"y_1\" as the\n",
    "        predictorname to check if y_1 <= 3.6.\n",
    "\n",
    "        \"\"\"\n",
    "        self.predictor_name = predictor_name\n",
    "        self.val = val\n",
    "\n",
    "    def __str__(self):\n",
    "        \"\"\"No explanation needed!\"\"\"\n",
    "        return \"{{{} <= {}}}\".format(str(self.predictor_name), str(self.val))\n",
    "\n",
    "    def __repr__(self):\n",
    "        \"\"\"Also no explanation needed.\"\"\"\n",
    "        return \"Split({}, {})\".format(repr(self.predictor_name), repr(self.val))\n",
    "\n",
    "    def split(self, x, predictor_matrix, use_iloc=False):\n",
    "        \"\"\"Predictor_matrix must be a DataFrame with the given predictor name in it. X is then the index row\n",
    "        to use for splitting, or, if use_iloc is True, the numerical index of a row (starting at\n",
    "        0). Returns the result of the split applied to that particular entry.\n",
    "        \"\"\"\n",
    "        if not hasattr(predictor_matrix[self.predictor_name], \"iloc\"):  # just a number\n",
    "            return predictor_matrix[self.predictor_name] <= self.val\n",
    "        \n",
    "        if use_iloc:\n",
    "            entry = predictor_matrix[self.predictor_name].iloc[x]\n",
    "        else:\n",
    "            entry = predictor_matrix[self.predictor_name][x]\n",
    "\n",
    "        return entry <= self.val\n"
   ]
  },
  {
   "cell_type": "code",
   "execution_count": 110,
   "metadata": {
    "collapsed": true
   },
   "outputs": [],
   "source": [
    "\"\"\"This file provides a base Tree class for use with the DecisionTree class. It is simply a root\n",
    "node (which has children, which have children, etc.), with some useful functions for doing things\n",
    "you might want to do with a tree structure.\n",
    "\n",
    "Team: Jocelyn, Kevin, Nicholas\n",
    "Author: Nicholas\n",
    "\"\"\"\n",
    "\n",
    "\n",
    "from itertools import chain\n",
    "\n",
    "\n",
    "class Tree:\n",
    "    \"\"\"Represents a binary tree.\"\"\"\n",
    "    def __init__(self, root_node):\n",
    "        \"\"\"Takes in a root node with children, who have children, and so on.  Traverses the node to build\n",
    "        the tree, so make sure that you don't have an infinite loop!\n",
    "        \"\"\"\n",
    "        self.root = root_node\n",
    "        self.__calculate_node_list()\n",
    "\n",
    "    def __calculate_node_list(self):\n",
    "        \"\"\"Internal method for reconstructing the nodes list when a change happens.\"\"\"\n",
    "        self.nodes = [self.root]\n",
    "        children = self.root.children()\n",
    "        self.nodes += list(children)\n",
    "\n",
    "        while not all([c is None for c in children]):  # still values left\n",
    "            new_children = []\n",
    "            for child in children:\n",
    "                if child is None:\n",
    "                    new_children += [None, None]\n",
    "                else:\n",
    "                    new_children += list(child.all_children())\n",
    "            children = new_children\n",
    "            self.nodes += children\n",
    "\n",
    "    def __str__(self):\n",
    "        \"\"\"Prints out a basic string representation.\"\"\"\n",
    "        return str(self.root)\n",
    "\n",
    "    def __repr__(self):\n",
    "        \"\"\"Basic repr. Skips the recursive Node repr, as that could be EXTREMELY long.\"\"\"\n",
    "        return \"Tree({})\".format(repr(self.root.val))\n",
    "\n",
    "    def breadth_first_iterable(self):\n",
    "        \"\"\"Returns an iterator over the tree in breadth_first order. There might a a lot of None\n",
    "        values, because the entire tree is filled until the deepest node.\"\"\"\n",
    "        return iter(self.nodes)\n",
    "\n",
    "    def __iter__(self):\n",
    "        \"\"\"Trying to iterate over this class should return the nodes in breadth_first order. Lots of\n",
    "        Nones galore!\"\"\"\n",
    "        return iter(self.nodes)\n",
    "\n",
    "    def __getitem__(self, i):\n",
    "        return self.nodes[i]\n",
    "\n",
    "    def __depth_first_next(self, i):\n",
    "        \"\"\"Internal method for depth_first_iterable. Takes a 1-index to the nodes list and goes\n",
    "        through the following recursive step: if the node has children, return the left child's\n",
    "        result and the right child's result combined, with the current node at the beginning. If the\n",
    "        node is a leaf, return itself.\"\"\"\n",
    "        node = self.nodes[i-1]\n",
    "        l = self.__depth_first_next(i * 2) if node.left is not None else []\n",
    "        r = self.__depth_first_next(i * 2 + 1) if node.right is not None else []\n",
    "        return [i, *l, *r]\n",
    "\n",
    "    def depth_first_iterable(self):\n",
    "        \"\"\"Returns an iterator over the tree in depth_first order. For example, a complete 3-deep binary\n",
    "        tree numbered breadth-first 1, 2, 3, 4, 5, 6, 7 (1 -> 2 -> 4 is the left edge, for\n",
    "        clarity) would return an iterator over the nodes in the order 1, 2, 4, 5, 3, 6, 7.\n",
    "\n",
    "        \"\"\"\n",
    "        curr = 1   # \"walk\" down the tree using 1-indexed indices of the breadth-first children\n",
    "        depth_first_nodes = self.__depth_first_next(curr)\n",
    "        return [self.nodes[i - 1] for i in depth_first_nodes]  # subtract 1 to get the actual index\n",
    "\n",
    "    def set_child(self, position, direction, child):\n",
    "        \"\"\"Sets a child at a given point on the tree (using breadth-first indexing). Child is the Node to\n",
    "        add (or None to remove a child), position is the index of the parent, and direction is 0 for\n",
    "        left side or 1 for right side. Raises ValueError if you attempt to delete a parent.\n",
    "\n",
    "        As always, breadth-first indexing means 1-indexed as well.\n",
    "\n",
    "        \"\"\"\n",
    "        parent = self.nodes[position-1]\n",
    "        if child is None and parent.all_children()[direction] is not None:\n",
    "            # can't delete a parent!\n",
    "            raise ValueError(\"Can't delete a parent! Think of the children!\")\n",
    "        else:\n",
    "            if direction == 0:\n",
    "                parent.left = child\n",
    "            else:\n",
    "                parent.right = child\n",
    "        self.__calculate_node_list()\n",
    "\n",
    "    def index(self, node_val):\n",
    "        \"\"\"Gets the 1-indexed index of a given node value, the topmost furthest to the left if there\n",
    "        are multiple. Ignores the children. Returns None if nothing was found.\"\"\"\n",
    "        for i, node in enumerate(self.nodes):\n",
    "            if node.val == node_val:\n",
    "                return i + 1\n",
    "        return None\n",
    "\n",
    "    def search_all(self, node_val):\n",
    "        \"\"\"Returns a list of all node indexes (1-indexed breadth-first) that have the given node value,\n",
    "        ordered top-down and left-to-right.\n",
    "\n",
    "        \"\"\"\n",
    "        ans = []\n",
    "        for i, node in enumerate(self.nodes):\n",
    "            if node.val == node_val:\n",
    "                ans.append(i + 1)\n",
    "        return ans\n",
    "\n",
    "    def get_rows(self):\n",
    "        \"\"\"Gets a list of lists, where each list is the next-deepest row. Does not fill gaps with\n",
    "        None values.\"\"\"\n",
    "        rows = []\n",
    "        rows.append([self.root])\n",
    "        children = self.root.children()\n",
    "        while children:  # still values left\n",
    "            rows.append(list(children))\n",
    "            children = list(chain.from_iterable([child.children() for child in children]))\n",
    "        return rows\n",
    "\n",
    "    def get_row(self, row_depth):\n",
    "        \"\"\"Gets a list of all the nodes at a given height, where 0 is the root node. Does not fill\n",
    "        gaps with None values. Wraps get_rows\"\"\"\n",
    "        return self.get_rows()[row_depth]\n",
    "\n",
    "    def depth(self):\n",
    "        \"\"\"Returns the length of the longest walk down the tree.\"\"\"\n",
    "        return len(self.get_rows())\n"
   ]
  },
  {
   "cell_type": "code",
   "execution_count": 111,
   "metadata": {
    "collapsed": false
   },
   "outputs": [],
   "source": [
    "\"\"\"This class creates a decision tree classifier for a given dataset.\"\"\"\n",
    "\n",
    "from copy import deepcopy\n",
    "\n",
    "class DecisionTree:\n",
    "    \"\"\"Represents a decision tree classifier.\"\"\"\n",
    "\n",
    "    def __init__(self):\n",
    "        \"\"\"Creates a decision tree that can be fit to data.\"\"\"\n",
    "        self.tree = None\n",
    "\n",
    "    def __str__(self):\n",
    "        \"\"\"Ignores DataFrames, only prints splits.\"\"\"\n",
    "        new_tree = deepcopy(self.tree)\n",
    "        for node in [n for n in list(new_tree) if n is not None]:\n",
    "            if len(node.val) == 1 or node.val[1] is None:\n",
    "                node.val = \"<data>\"\n",
    "            else:\n",
    "                node.val = str(node.val[1])\n",
    "        return str(new_tree)\n",
    "\n",
    "    @classmethod\n",
    "    def gini_vector(cls, col):\n",
    "        \"\"\"Given a single input Series with a single column filled with the digits 0-n, computes the\n",
    "    Gini impurity.\"\"\"\n",
    "        impurity = 0\n",
    "        n = len(set(col))\n",
    "        if n <= 1:  # sets without any elements or with a single class are pure by default\n",
    "            return 0\n",
    "\n",
    "        for i in range(n):\n",
    "            p_class = sum(col.map(lambda x: 1 if x == i else 0)) / len(col)\n",
    "            impurity += p_class ** 2\n",
    "\n",
    "        return 1 - impurity\n",
    "\n",
    "    @classmethod\n",
    "    def gini(cls, classes):\n",
    "        \"\"\"Computes the Gini impurity of the given data, a class vector or matrix in 0's and 1's or any\n",
    "    additional amount of classes.\n",
    "        \"\"\"\n",
    "        return classes.apply(cls.gini_vector).sum()\n",
    "\n",
    "    def gen_splits(self, data, classes):\n",
    "        \"\"\"Given input data and a corresponding matrix of classes, returns a list of Split objects\n",
    "        corresponding to all the possible splits of that dataset at that time.\"\"\"\n",
    "        splits = []\n",
    "        for predictor_name in data.columns:\n",
    "            pred = data[predictor_name]\n",
    "            # generate every possible split cutoff that would mean something\n",
    "            # also, remove duplicates\n",
    "            cutoffs = list(set(pred))\n",
    "            cutoffs = [c for c in cutoffs if c != max(cutoffs)]  # remove topmost element\n",
    "            splits += [Split(predictor_name, cutoff) for cutoff in cutoffs]\n",
    "        return splits\n",
    "\n",
    "    def execute_split(self, data, classes, split):\n",
    "        \"\"\"Given data with associated classes and split data, returns a tuple ((data_false, classes_false)\n",
    "        (data_true, classes_true)) with the entries that are false and the entries that satisfy the\n",
    "        split.\n",
    "        \"\"\"\n",
    "\n",
    "        # generate indices of cutoffs instead of just the data to preserve class data\n",
    "        good_indices = [i for i in range(data.shape[0]) if split.split(i, pd.DataFrame(data), True)]\n",
    "        bad_indices = [i for i in range(data.shape[0]) if i not in good_indices]\n",
    "\n",
    "        good = (data.iloc[good_indices, :], classes.iloc[good_indices, :])\n",
    "        bad = (data.iloc[bad_indices, :], classes.iloc[bad_indices, :])\n",
    "        return (bad, good)\n",
    "\n",
    "    def test_split(self, data, classes, split):\n",
    "        \"\"\"Given data with associated classes and a split, returns the sum of the Gini impurity of\n",
    "        the child nodes of this split if it is effected.\"\"\"\n",
    "\n",
    "        left, right = self.execute_split(data, classes, split)\n",
    "        return self.gini(left[1]) + self.gini(right[1])\n",
    "\n",
    "    def not_overfit(self, data, classes, split, k=0.05):\n",
    "        \"\"\"This method can be overridden or replaced to change how much the fitting algorithm prunes the\n",
    "        tree. The default is to require that at least a fraction of the input be separated (the\n",
    "        defaut is 5%).\"\"\"\n",
    "        left, right = self.execute_split(data, classes, split)\n",
    "        \n",
    "        return k <= left[0].shape[0] / data.shape[0] <= 1 - k\n",
    "\n",
    "    def create_split(self, pos, prune_func):\n",
    "        \"\"\"Given a position in the decision tree (1-based breadth-first indexing), first checks to see if\n",
    "        the data is pure. If it is, then it sets both children to None and stops. Otherwise, it\n",
    "        computes the split that minimizes the Gini impurity for each child node and executes it,\n",
    "        creating two new children that are the results of the split (left for false, right for\n",
    "        true).\n",
    "\n",
    "        Prune_func is the pruning function to determine whether a split is valid.\n",
    "        \"\"\"\n",
    "        # print(\"Creating split at position {}\".format(pos))\n",
    "\n",
    "        node = self.tree[pos-1]\n",
    "        node_val = node.val[0]  # the tuple (data, classes)\n",
    "        curr_gini = self.gini(node_val[1])\n",
    "\n",
    "        if curr_gini == 0:  # data is pure\n",
    "            self.tree.set_child(pos, 0, None)\n",
    "            self.tree.set_child(pos, 1, None)  # make this a leaf\n",
    "            return None  # we're done here!\n",
    "        else:  # generate possible splits\n",
    "            splits = self.gen_splits(*node_val)\n",
    "            splits = [split for split in splits if prune_func(*node_val, split)]\n",
    "            # print(splits)\n",
    "            if len(splits) == 0:  # no splits that separate into at least one class\n",
    "                self.tree.set_child(pos, 0, None)\n",
    "                self.tree.set_child(pos, 1, None)\n",
    "                return None\n",
    "            # find the best one\n",
    "            best = min(splits, key=lambda split: self.test_split(*node_val, split))\n",
    "            # print(sorted(splits, key=lambda split: self.test_split(*node_val, split))[:5])\n",
    "            if len(node.val) == 1:  # no split in the node yet\n",
    "                node.val.append(best)\n",
    "            else:  # overwrite a split\n",
    "                node.val[1].append(best)\n",
    "            # execute it\n",
    "            left, right = self.execute_split(*node_val, best)\n",
    "            # print(best)\n",
    "            # print(left[0].shape[0], right[0].shape[0])\n",
    "\n",
    "            self.tree.set_child(pos, 0, Node([left], None, None))\n",
    "            self.tree.set_child(pos, 1, Node([right], None, None))\n",
    "\n",
    "    def recursively_create_splits(self, pos, prune_func):\n",
    "        \"\"\"For the current Node, recursively splits all of its children (generating them as it goes) until\n",
    "        all of the leaves are pure, returning None. Prune_func is the function to reduce\n",
    "        overfitting.\n",
    "\n",
    "        \"\"\"\n",
    "        if pos > len(list(self.tree)) or self.tree[pos-1] is None:  # we stop here\n",
    "            return None\n",
    "        else:  # create two children and recurse to split them\n",
    "            self.create_split(pos, prune_func)\n",
    "            self.recursively_create_splits(pos * 2, prune_func)  # left child\n",
    "            self.recursively_create_splits(pos * 2 + 1, prune_func)  # right child\n",
    "            return None\n",
    "\n",
    "    def fit(self, X, y, pruning_func=None):\n",
    "        \"\"\"Fits a given input matrix to a given output vector using a decision tree. X should be a DataFrame\n",
    "        of numerical variables with any index or column names. y should be a vector or matrix with\n",
    "        the same height as X, as many columns as classes to predict, and each column should be a\n",
    "        list of 0's and 1's for a given class. The pruning_func parameter can be filled with any\n",
    "        function that takes in three arguments (data, classes, split) and returns True if that split\n",
    "        is allowed and False otherwise. The default, specified with None, is to only use splits that\n",
    "        separate 5% of the input.\n",
    "\n",
    "        \"\"\"\n",
    "        # start with just the entire dataset at the root, with no split\n",
    "        # I'm going to represent a single node of a tree as a value [(data, classes), split]\n",
    "        # where data and classes are \"what's left\" and split is the Split function that gives the\n",
    "        # left and right children, or None if the data is pure or the splits have stopped\n",
    "        if pruning_func is None:  # use default\n",
    "            pruner = self.not_overfit\n",
    "            \n",
    "        self.tree = Tree(Node([(X, y)], None, None))\n",
    "        self.recursively_create_splits(1, prune_func=pruner)  # pretty anticlimactic\n",
    "        return None\n",
    "\n",
    "    def __predict_vec(self, X):\n",
    "        \"\"\"Given an input vector with the required number of predictors, returns an output vector\n",
    "        y_hat representing the predicted classes for all of the classes it was fit to.\"\"\"\n",
    "\n",
    "        if self.tree is None:  # nothing to predict with!\n",
    "            raise ValueError(\"Must fit to a model before prediction!\")\n",
    "\n",
    "        curr_pos = 1\n",
    "        while True:  # loop until something is returned\n",
    "            curr_node = self.tree[curr_pos-1]\n",
    "            curr = curr_node.val\n",
    "            if len(curr) == 1 or curr[1] is None:  # no split, so must be pure or close\n",
    "                # return the mean of the classes, rounding to integers\n",
    "                # this way, even with non-pure pruned leaves you still get a result\n",
    "                if not hasattr(curr[0][1], \"__len__\"):  # single number\n",
    "                    return curr[0][1]  # we're done\n",
    "                else:  # lots of values\n",
    "                    if len(curr[0][1].shape) > 1:  # 2D array, so use array functions\n",
    "                        return curr[0][1].mean().round()\n",
    "                    else:  # just get the mean and use basic round, not a method\n",
    "                        return int(curr[0][1].mean())\n",
    "            else:  # go down to the correct child and try again\n",
    "                if curr[1].split(0, X, use_iloc=True):  # split with the input data\n",
    "\n",
    "                    curr_pos = curr_pos * 2 + 1  # right child\n",
    "\n",
    "                else:  # left child, because the Split returned False\n",
    "                    curr_pos *= 2\n",
    "\n",
    "            # now, just repeat until we get to a leaf!\n",
    "\n",
    "    def predict(self, X):\n",
    "        \"\"\"For every row in X, predicts the classes and returns a matrix Y representing the\n",
    "        predicted classes.\"\"\"\n",
    "        if len(X.shape) == 1:  # single row\n",
    "            return self.__predict_vec(X)\n",
    "\n",
    "        return X.apply(self.__predict_vec, axis=1)\n",
    "\n",
    "    def __score_col(self, col1, col2):\n",
    "        \"\"\"Returns the accuracy score for two Series.\"\"\"\n",
    "        correct = 0\n",
    "        for i in range(len(col1)):\n",
    "            if col1.iloc[i] == col2.iloc[i]:\n",
    "                correct += 1\n",
    "        return correct / len(col1)\n",
    "\n",
    "    def score(self, X, true_y):\n",
    "        \"\"\"Gets the accuracy score of the classifier given the X as input and with true_y as the\n",
    "        actual values. If there are multiple classes, returns an iterable of each accuracy score.\"\"\"\n",
    "\n",
    "        preds = self.predict(X)\n",
    "        if len(preds.shape) >= 2 and preds.shape[1] > 1:  # multiple classes\n",
    "            scores = []\n",
    "            for colname in preds:\n",
    "                scores.append(self.__score_col(preds[colname], true_y[colname]))\n",
    "            return scores\n",
    "        else:  # just one class\n",
    "            if isinstance(preds, pd.DataFrame):  # convert to Series\n",
    "                converted_pred = preds.iloc[:, 0]\n",
    "            else:\n",
    "                converted_pred = preds\n",
    "\n",
    "            if isinstance(true_y, pd.DataFrame):  # convert to Series\n",
    "                converted_true = true_y.iloc[:, 0]\n",
    "            else:\n",
    "                converted_true = true_y\n",
    "\n",
    "            return self.__score_col(converted_pred, converted_true)\n"
   ]
  },
  {
   "cell_type": "markdown",
   "metadata": {},
   "source": [
    "To test out your code, here's a simple dataset.  You could check it by hand if you need to debug.  You're trying to predict whether an animal is a mammal or not (the class label)."
   ]
  },
  {
   "cell_type": "code",
   "execution_count": 112,
   "metadata": {
    "collapsed": false
   },
   "outputs": [],
   "source": [
    "mat = [[\"human\", \"warm-blooded\", \"yes\", \"no\", \"no\", \"yes\"],\n",
    "       [\"pigeon\", \"warm-blooded\", \"no\", \"no\", \"no\", \"no\"],\n",
    "       [\"elephant\", \"warm-blooded\", \"yes\", \"yes\", \"no\", \"yes\"],\n",
    "       [\"leopard shark\", \"cold-blooded\", \"yes\", \"no\", \"no\", \"no\"],\n",
    "       [\"turtle\", \"cold-blooded\", \"no\", \"yes\", \"no\", \"no\"],\n",
    "       [\"penguin\", \"cold-blooded\", \"no\", \"no\", \"no\", \"no\"],\n",
    "       [\"eel\", \"cold-blooded\", \"no\", \"no\", \"no\", \"no\"],\n",
    "       [\"dolphin\", \"warm-blooded\", \"yes\", \"no\", \"no\", \"yes\"],\n",
    "       [\"spiny anteater\", \"warm-blooded\", \"no\", \"yes\", \"yes\", \"yes\"],\n",
    "       [\"gila monster\", \"cold-blooded\", \"no\", \"yes\", \"yes\", \"no\"]]\n",
    "\n",
    "df = pd.DataFrame(mat, columns=[\"Name\",\n",
    "                                \"Body Temperature\",\n",
    "                                \"Gives Birth\",\n",
    "                                \"Four-legged\",\n",
    "                                \"Hibernates\",\n",
    "                                \"Class Label\"])"
   ]
  },
  {
   "cell_type": "markdown",
   "metadata": {},
   "source": [
    "### Accuracy Score, Confusion Matrix, Precision, and Recall"
   ]
  },
  {
   "cell_type": "markdown",
   "metadata": {},
   "source": [
    "Add some classification metrics to your models, like the `accuracy_score` and `confusion_matrix`.  Add additionally [Precision and Recall](https://en.wikipedia.org/wiki/Precision_and_recall), and explain what those are.\n",
    "\n"
   ]
  },
  {
   "cell_type": "code",
   "execution_count": 113,
   "metadata": {
    "collapsed": true
   },
   "outputs": [],
   "source": [
    "# test_real is an array of the real values of the testing data\n",
    "# test_results is an array of predictions from the testing data\n",
    "def accuracy_score(test_real, test_results):\n",
    "    count = 0\n",
    "    for i in range(len(test_real)):\n",
    "        if test_real[i] == test_results[i]:\n",
    "            count +=1\n",
    "    return float(count)/len(test_results)"
   ]
  },
  {
   "cell_type": "code",
   "execution_count": 114,
   "metadata": {
    "collapsed": true
   },
   "outputs": [],
   "source": [
    "def confusion_matrix(test_real,test_results):\n",
    "    true_n = 0\n",
    "    true_p = 0\n",
    "    false_n = 0\n",
    "    false_p = 0\n",
    "    for i in range(len(test_real)):\n",
    "        p = test_results[i]\n",
    "        r = test_real[i]\n",
    "        if  p == 0 and r == 0:\n",
    "            true_n += 1\n",
    "        elif p == 0 and r == 1:\n",
    "            false_n += 1\n",
    "        elif p == 1 and r == 0:\n",
    "            false_p += 1\n",
    "        elif p == 1 and r == 1:\n",
    "            true_p += 1\n",
    "    return np.matrix([[true_p,false_p],[false_n,true_n]])"
   ]
  },
  {
   "cell_type": "markdown",
   "metadata": {},
   "source": [
    "Precision is the fraction of elements that are relevant (for example if 5 chess pieces in a board of 10 pieces are identified as black, but only 3 of them are actually black, then the precision is 3/5)\n",
    "Recall is the fraction of relevant instances that are retrieved (in this example, 5/10)"
   ]
  },
  {
   "cell_type": "code",
   "execution_count": 115,
   "metadata": {
    "collapsed": false
   },
   "outputs": [],
   "source": [
    "def precision(test_real, test_results):\n",
    "    true_n = 0\n",
    "    true_p = 0\n",
    "    false_n = 0\n",
    "    false_p = 0\n",
    "    for i in range(len(test_real)):\n",
    "        p = test_results[i]\n",
    "        r = test_real[i]\n",
    "        if  p == 0 and r == 0:\n",
    "            true_n += 1\n",
    "        elif p == 0 and r == 1:\n",
    "            false_n += 1\n",
    "        elif p == 1 and r == 0:\n",
    "            false_p += 1\n",
    "        elif p == 1 and r == 1:\n",
    "            true_p += 1\n",
    "    return float(true_p)/(true_p + false_p)"
   ]
  },
  {
   "cell_type": "code",
   "execution_count": 116,
   "metadata": {
    "collapsed": false
   },
   "outputs": [],
   "source": [
    "def recall(test_real, test_results):\n",
    "    true_n = 0\n",
    "    true_p = 0\n",
    "    false_n = 0\n",
    "    false_p = 0\n",
    "    for i in range(len(test_real)):\n",
    "        p = test_results[i]\n",
    "        r = test_real[i]\n",
    "        if  p == 0 and r == 0:\n",
    "            true_n += 1\n",
    "        elif p == 0 and r == 1:\n",
    "            false_n += 1\n",
    "        elif p == 1 and r == 0:\n",
    "            false_p += 1\n",
    "        elif p == 1 and r == 1:\n",
    "            true_p += 1\n",
    "    return float(true_p)/(true_p + false_n)"
   ]
  },
  {
   "cell_type": "markdown",
   "metadata": {},
   "source": [
    "## Try it out on multiple datasets\n",
    "\n",
    "Feel free to split these amongst your group mates, then consolodate it into one notebook.\n",
    "\n",
    "\n"
   ]
  },
  {
   "cell_type": "markdown",
   "metadata": {},
   "source": [
    "### Mammals Dataset"
   ]
  },
  {
   "cell_type": "markdown",
   "metadata": {},
   "source": [
    "1) The dataset `X` above.\n"
   ]
  },
  {
   "cell_type": "code",
   "execution_count": 117,
   "metadata": {
    "collapsed": false,
    "scrolled": true
   },
   "outputs": [
    {
     "name": "stdout",
     "output_type": "stream",
     "text": [
      "\n",
      "a\n",
      "==> b\n",
      "    ==> None \n",
      "    ==> c\n",
      "        ==> None \n",
      "        ==> d\n",
      "            ==> None \n",
      "            ==> None    \n",
      "==> e\n",
      "    ==> None \n",
      "    ==> None  \n",
      "\n",
      "a\n",
      "==> b\n",
      "    ==> None \n",
      "    ==> c\n",
      "        ==> f\n",
      "            ==> None \n",
      "            ==> None  \n",
      "        ==> d\n",
      "            ==> None \n",
      "            ==> None    \n",
      "==> e\n",
      "    ==> None \n",
      "    ==> None  \n",
      "Class Label    1.0\n",
      "dtype: float64\n",
      "Class Label    0.0\n",
      "dtype: float64\n",
      "Class Label    1.0\n",
      "dtype: float64\n",
      "Class Label    0.0\n",
      "dtype: float64\n",
      "Class Label    0.0\n",
      "dtype: float64\n",
      "Class Label    0.0\n",
      "dtype: float64\n",
      "Class Label    0.0\n",
      "dtype: float64\n",
      "Class Label    1.0\n",
      "dtype: float64\n",
      "Class Label    1.0\n",
      "dtype: float64\n",
      "Class Label    0.0\n",
      "dtype: float64\n"
     ]
    }
   ],
   "source": [
    "X = df.loc[:, [\"Body Temperature\", \"Gives Birth\", \"Four-legged\", \"Hibernates\"]]\n",
    "y = df.loc[:, \"Class Label\"]\n",
    "\n",
    "X[\"Body Temperature\"] = X[\"Body Temperature\"].apply(lambda x: 1 if x == \"warm-blooded\" else 0)\n",
    "for col in X.columns[1:]:\n",
    "    X[col] = X[col].apply(lambda x: 1 if x == \"yes\" else 0)\n",
    "\n",
    "y = pd.DataFrame(y.apply(lambda x: 1 if x == \"yes\" else 0))\n",
    "\n",
    "\n",
    "tree = Tree(Node('a',\n",
    "                 Node('b', None,\n",
    "                      Node('c', None,\n",
    "                           Node('d', None, None))),\n",
    "                 Node('e', None, None)))\n",
    "\n",
    "\n",
    "def print_tree(t):\n",
    "    print('\\n'.join([repr(x) for x in list(t)]))\n",
    "\n",
    "print()\n",
    "print(tree)\n",
    "tree.set_child(5, 0, Node('f', None, None))\n",
    "print()\n",
    "print(tree)\n",
    "\n",
    "\n",
    "\n",
    "dt = DecisionTree()\n",
    "dt.fit(X, y)\n",
    "pred = []\n",
    "for i in range(len(df)):\n",
    "    x_pred = X.iloc[i]\n",
    "    pred.append(dt.predict(x_pred)['Class Label'])\n",
    "    print(dt.predict(x_pred))\n"
   ]
  },
  {
   "cell_type": "code",
   "execution_count": 118,
   "metadata": {
    "collapsed": false
   },
   "outputs": [],
   "source": [
    "test_r = [val[0] for val in y.values]"
   ]
  },
  {
   "cell_type": "code",
   "execution_count": 119,
   "metadata": {
    "collapsed": false,
    "scrolled": false
   },
   "outputs": [
    {
     "data": {
      "text/plain": [
       "matrix([[4, 0],\n",
       "        [0, 6]])"
      ]
     },
     "execution_count": 119,
     "metadata": {},
     "output_type": "execute_result"
    }
   ],
   "source": [
    "confusion_matrix(test_r,pred)"
   ]
  },
  {
   "cell_type": "code",
   "execution_count": 120,
   "metadata": {
    "collapsed": false
   },
   "outputs": [
    {
     "data": {
      "text/plain": [
       "1.0"
      ]
     },
     "execution_count": 120,
     "metadata": {},
     "output_type": "execute_result"
    }
   ],
   "source": [
    "accuracy_score(test_r,pred)"
   ]
  },
  {
   "cell_type": "code",
   "execution_count": 121,
   "metadata": {
    "collapsed": false
   },
   "outputs": [
    {
     "data": {
      "text/plain": [
       "1.0"
      ]
     },
     "execution_count": 121,
     "metadata": {},
     "output_type": "execute_result"
    }
   ],
   "source": [
    "recall(test_r,pred)"
   ]
  },
  {
   "cell_type": "code",
   "execution_count": 122,
   "metadata": {
    "collapsed": false
   },
   "outputs": [
    {
     "data": {
      "text/plain": [
       "1.0"
      ]
     },
     "execution_count": 122,
     "metadata": {},
     "output_type": "execute_result"
    }
   ],
   "source": [
    "precision(test_r,pred)"
   ]
  },
  {
   "cell_type": "markdown",
   "metadata": {},
   "source": [
    "### Iris Dataset"
   ]
  },
  {
   "cell_type": "markdown",
   "metadata": {},
   "source": [
    "2) To double check that your multi-class support is working, use the [iris dataset](http://scikit-learn.org/stable/modules/generated/sklearn.datasets.load_iris.html#sklearn.datasets.load_iris).  Plot some decision boundaries of the classifier you make in all the pairs of dimensions in your scatter plots.\n",
    "\n"
   ]
  },
  {
   "cell_type": "code",
   "execution_count": 123,
   "metadata": {
    "collapsed": false,
    "scrolled": false
   },
   "outputs": [
    {
     "data": {
      "text/html": [
       "<div>\n",
       "<table border=\"1\" class=\"dataframe\">\n",
       "  <thead>\n",
       "    <tr style=\"text-align: right;\">\n",
       "      <th></th>\n",
       "      <th>sepal-length</th>\n",
       "      <th>sepal-width</th>\n",
       "      <th>petal-length</th>\n",
       "      <th>petal-width</th>\n",
       "      <th>class</th>\n",
       "    </tr>\n",
       "  </thead>\n",
       "  <tbody>\n",
       "    <tr>\n",
       "      <th>0</th>\n",
       "      <td>5.1</td>\n",
       "      <td>3.5</td>\n",
       "      <td>1.4</td>\n",
       "      <td>0.2</td>\n",
       "      <td>0</td>\n",
       "    </tr>\n",
       "    <tr>\n",
       "      <th>1</th>\n",
       "      <td>4.9</td>\n",
       "      <td>3.0</td>\n",
       "      <td>1.4</td>\n",
       "      <td>0.2</td>\n",
       "      <td>0</td>\n",
       "    </tr>\n",
       "    <tr>\n",
       "      <th>2</th>\n",
       "      <td>4.7</td>\n",
       "      <td>3.2</td>\n",
       "      <td>1.3</td>\n",
       "      <td>0.2</td>\n",
       "      <td>0</td>\n",
       "    </tr>\n",
       "    <tr>\n",
       "      <th>3</th>\n",
       "      <td>4.6</td>\n",
       "      <td>3.1</td>\n",
       "      <td>1.5</td>\n",
       "      <td>0.2</td>\n",
       "      <td>0</td>\n",
       "    </tr>\n",
       "    <tr>\n",
       "      <th>4</th>\n",
       "      <td>5.0</td>\n",
       "      <td>3.6</td>\n",
       "      <td>1.4</td>\n",
       "      <td>0.2</td>\n",
       "      <td>0</td>\n",
       "    </tr>\n",
       "  </tbody>\n",
       "</table>\n",
       "</div>"
      ],
      "text/plain": [
       "   sepal-length  sepal-width  petal-length  petal-width  class\n",
       "0           5.1          3.5           1.4          0.2      0\n",
       "1           4.9          3.0           1.4          0.2      0\n",
       "2           4.7          3.2           1.3          0.2      0\n",
       "3           4.6          3.1           1.5          0.2      0\n",
       "4           5.0          3.6           1.4          0.2      0"
      ]
     },
     "execution_count": 123,
     "metadata": {},
     "output_type": "execute_result"
    }
   ],
   "source": [
    "df = pd.read_csv('iris.data', names = [\"sepal-length\", \"sepal-width\", \"petal-length\", \"petal-width\", \"class\"])\n",
    "iris_types = np.unique(df['class'])\n",
    "df['class'] = df['class'].map({iris_types[0]:0,iris_types[1]:1,iris_types[2]:2})\n",
    "df.head()"
   ]
  },
  {
   "cell_type": "code",
   "execution_count": 124,
   "metadata": {
    "collapsed": false
   },
   "outputs": [],
   "source": [
    "from sklearn.cross_validation import train_test_split"
   ]
  },
  {
   "cell_type": "code",
   "execution_count": 125,
   "metadata": {
    "collapsed": false,
    "scrolled": false
   },
   "outputs": [
    {
     "name": "stdout",
     "output_type": "stream",
     "text": [
      "0.8833333333333333\n"
     ]
    }
   ],
   "source": [
    "dt = DecisionTree()\n",
    "X = df[['sepal-length','sepal-width','petal-length','petal-width']]\n",
    "y = df['class']\n",
    "\n",
    "iris_x_train, iris_x_test, iris_y_train, iris_y_test = train_test_split(X.values, y.values, test_size=0.4)\n",
    "\n",
    "iris_x_train = pd.DataFrame(iris_x_train, columns=X.columns)\n",
    "iris_x_test = pd.DataFrame(iris_x_test, columns=X.columns)\n",
    "\n",
    "iris_y_train = pd.DataFrame({'type': iris_y_train})\n",
    "iris_y_test = pd.DataFrame({'type': iris_y_test})\n",
    "\n",
    "dt = DecisionTree()\n",
    "dt.fit(iris_x_train, iris_y_train)\n",
    "y_bar = dt.predict(iris_x_test)\n",
    "print(dt.score(iris_x_test, iris_y_test))"
   ]
  },
  {
   "cell_type": "code",
   "execution_count": 157,
   "metadata": {
    "collapsed": false
   },
   "outputs": [
    {
     "name": "stdout",
     "output_type": "stream",
     "text": [
      "[[  1.           0.51666667]\n",
      " [  6.           0.91666667]\n",
      " [ 11.           0.91666667]\n",
      " [ 16.           0.91666667]\n",
      " [ 21.           0.91666667]\n",
      " [ 26.           0.91666667]]\n"
     ]
    }
   ],
   "source": [
    "acc_scores = []\n",
    "for num_nodes in range(1, 31, 5):\n",
    "    fixed_dt = FixedNodesDecisionTree(num_nodes)\n",
    "    fixed_dt.fit(iris_x_train, iris_y_train)\n",
    "    acc_scores.append((num_nodes, fixed_dt.score(iris_x_test, iris_y_test)))\n",
    "\n",
    "acc_scores = np.array(acc_scores)\n",
    "print(acc_scores)"
   ]
  },
  {
   "cell_type": "code",
   "execution_count": 162,
   "metadata": {
    "collapsed": false
   },
   "outputs": [],
   "source": [
    "x_ = (acc_scores[:,0])\n",
    "y_ = (acc_scores[:,1])"
   ]
  },
  {
   "cell_type": "code",
   "execution_count": 164,
   "metadata": {
    "collapsed": false
   },
   "outputs": [
    {
     "data": {
      "text/plain": [
       "<matplotlib.collections.PathCollection at 0x159a5167d68>"
      ]
     },
     "execution_count": 164,
     "metadata": {},
     "output_type": "execute_result"
    },
    {
     "data": {
      "image/png": "[encoded data removed]",
      "text/plain": [
       "<matplotlib.figure.Figure at 0x159a5f92438>"
      ]
     },
     "metadata": {},
     "output_type": "display_data"
    }
   ],
   "source": [
    "plt.scatter(x_,y_)"
   ]
  },
  {
   "cell_type": "code",
   "execution_count": 126,
   "metadata": {
    "collapsed": false,
    "scrolled": true
   },
   "outputs": [],
   "source": [
    "test_r = [x[0] for x in iris_y_test.values]\n",
    "pred = [x[0] for x in y_bar.values]"
   ]
  },
  {
   "cell_type": "code",
   "execution_count": 127,
   "metadata": {
    "collapsed": false
   },
   "outputs": [
    {
     "data": {
      "text/plain": [
       "0.8833333333333333"
      ]
     },
     "execution_count": 127,
     "metadata": {},
     "output_type": "execute_result"
    }
   ],
   "source": [
    "accuracy_score(test_r,pred)"
   ]
  },
  {
   "cell_type": "code",
   "execution_count": 128,
   "metadata": {
    "collapsed": false
   },
   "outputs": [
    {
     "data": {
      "text/plain": [
       "matrix([[14,  1],\n",
       "        [ 1, 16]])"
      ]
     },
     "execution_count": 128,
     "metadata": {},
     "output_type": "execute_result"
    }
   ],
   "source": [
    "confusion_matrix(test_r,pred)"
   ]
  },
  {
   "cell_type": "code",
   "execution_count": 129,
   "metadata": {
    "collapsed": false
   },
   "outputs": [
    {
     "data": {
      "text/plain": [
       "0.9333333333333333"
      ]
     },
     "execution_count": 129,
     "metadata": {},
     "output_type": "execute_result"
    }
   ],
   "source": [
    "precision(test_r,pred)"
   ]
  },
  {
   "cell_type": "code",
   "execution_count": 130,
   "metadata": {
    "collapsed": false,
    "scrolled": true
   },
   "outputs": [
    {
     "data": {
      "text/plain": [
       "0.9333333333333333"
      ]
     },
     "execution_count": 130,
     "metadata": {},
     "output_type": "execute_result"
    }
   ],
   "source": [
    "recall(test_r,pred)"
   ]
  },
  {
   "cell_type": "code",
   "execution_count": 131,
   "metadata": {
    "collapsed": true
   },
   "outputs": [],
   "source": [
    "x_col = X.columns"
   ]
  },
  {
   "cell_type": "markdown",
   "metadata": {},
   "source": [
    "The following code is modified from http://scikit-learn.org/stable/auto_examples/tree/plot_iris.html"
   ]
  },
  {
   "cell_type": "code",
   "execution_count": 132,
   "metadata": {
    "collapsed": false,
    "scrolled": true
   },
   "outputs": [
    {
     "data": {
      "image/png": "[encoded data removed]",
      "text/plain": [
       "<matplotlib.figure.Figure at 0x159a5e41860>"
      ]
     },
     "metadata": {},
     "output_type": "display_data"
    }
   ],
   "source": [
    "import matplotlib.pyplot as plt\n",
    "\n",
    "# Parameters\n",
    "n_classes = 3\n",
    "plot_colors = \"bry\"\n",
    "plot_step = 0.02\n",
    "\n",
    "\n",
    "for pairidx, pair in enumerate([[0, 1], [0, 2], [0, 3],\n",
    "                                [1, 2], [1, 3], [2, 3]]):\n",
    "    # We only take the two corresponding features\n",
    "    \n",
    "    X1 = X.values[:, pair]\n",
    "    y1 = y.values\n",
    "\n",
    "    # Train\n",
    "    clf = DecisionTreeClassifier().fit(X1, y1)\n",
    "\n",
    "    # Plot the decision boundary\n",
    "    plt.subplot(2, 3, pairidx + 1)\n",
    "\n",
    "    x_min, x_max = X1[:, 0].min() - 1, X1[:, 0].max() + 1\n",
    "    y_min, y_max = X1[:, 1].min() - 1, X1[:, 1].max() + 1\n",
    "    xx, yy = np.meshgrid(np.arange(x_min, x_max, plot_step),\n",
    "                         np.arange(y_min, y_max, plot_step))\n",
    "\n",
    "    Z = clf.predict(np.c_[xx.ravel(), yy.ravel()])\n",
    "    Z = Z.reshape(xx.shape)\n",
    "    cs = plt.contourf(xx, yy, Z, cmap=plt.cm.Paired)\n",
    "\n",
    "    plt.xlabel(x_col[pair[0]])\n",
    "\n",
    "    plt.ylabel(x_col[pair[1]])\n",
    "    plt.axis(\"tight\")\n",
    "\n",
    "    # Plot the training points\n",
    "    for i, color in zip(range(n_classes), plot_colors):\n",
    "        idx = np.where(y == i)\n",
    "        plt.scatter(X1[idx, 0], X1[idx, 1], c=color, label=y.unique()[i],\n",
    "                    cmap=plt.cm.Paired)\n",
    "\n",
    "    #plt.axis(\"tight\")\n",
    "\n",
    "plt.suptitle(\"Decision surface of a decision tree using paired features\")\n",
    "plt.legend()\n",
    "plt.show()"
   ]
  },
  {
   "cell_type": "markdown",
   "metadata": {},
   "source": [
    "### Constructed Dataset"
   ]
  },
  {
   "cell_type": "markdown",
   "metadata": {},
   "source": [
    "3) Take a look at some of the [dataset constructors in scikit-learn](http://scikit-learn.org/stable/datasets/#sample-generators).  Pick one that will allow you to generate a dataset that has $\\geq 4$ features, and multiple classes ($\\geq 3$); but also make sure that when I run your code with some tweaked numbers from these, it will still work.\n",
    "\n"
   ]
  },
  {
   "cell_type": "code",
   "execution_count": 133,
   "metadata": {
    "collapsed": false,
    "scrolled": false
   },
   "outputs": [
    {
     "data": {
      "text/html": [
       "<div>\n",
       "<table border=\"1\" class=\"dataframe\">\n",
       "  <thead>\n",
       "    <tr style=\"text-align: right;\">\n",
       "      <th></th>\n",
       "      <th>0</th>\n",
       "      <th>1</th>\n",
       "      <th>2</th>\n",
       "      <th>3</th>\n",
       "      <th>4</th>\n",
       "      <th>class</th>\n",
       "    </tr>\n",
       "  </thead>\n",
       "  <tbody>\n",
       "    <tr>\n",
       "      <th>0</th>\n",
       "      <td>8.0</td>\n",
       "      <td>19.0</td>\n",
       "      <td>10.0</td>\n",
       "      <td>5.0</td>\n",
       "      <td>12.0</td>\n",
       "      <td>1</td>\n",
       "    </tr>\n",
       "    <tr>\n",
       "      <th>1</th>\n",
       "      <td>9.0</td>\n",
       "      <td>6.0</td>\n",
       "      <td>14.0</td>\n",
       "      <td>3.0</td>\n",
       "      <td>13.0</td>\n",
       "      <td>2</td>\n",
       "    </tr>\n",
       "    <tr>\n",
       "      <th>2</th>\n",
       "      <td>7.0</td>\n",
       "      <td>11.0</td>\n",
       "      <td>10.0</td>\n",
       "      <td>7.0</td>\n",
       "      <td>19.0</td>\n",
       "      <td>3</td>\n",
       "    </tr>\n",
       "    <tr>\n",
       "      <th>3</th>\n",
       "      <td>11.0</td>\n",
       "      <td>20.0</td>\n",
       "      <td>9.0</td>\n",
       "      <td>11.0</td>\n",
       "      <td>18.0</td>\n",
       "      <td>1</td>\n",
       "    </tr>\n",
       "    <tr>\n",
       "      <th>4</th>\n",
       "      <td>14.0</td>\n",
       "      <td>12.0</td>\n",
       "      <td>8.0</td>\n",
       "      <td>12.0</td>\n",
       "      <td>10.0</td>\n",
       "      <td>3</td>\n",
       "    </tr>\n",
       "  </tbody>\n",
       "</table>\n",
       "</div>"
      ],
      "text/plain": [
       "      0     1     2     3     4  class\n",
       "0   8.0  19.0  10.0   5.0  12.0      1\n",
       "1   9.0   6.0  14.0   3.0  13.0      2\n",
       "2   7.0  11.0  10.0   7.0  19.0      3\n",
       "3  11.0  20.0   9.0  11.0  18.0      1\n",
       "4  14.0  12.0   8.0  12.0  10.0      3"
      ]
     },
     "execution_count": 133,
     "metadata": {},
     "output_type": "execute_result"
    }
   ],
   "source": [
    "from sklearn.datasets import make_multilabel_classification\n",
    "n_f = 5\n",
    "n_c = 3\n",
    "X,Y = make_multilabel_classification(n_samples=50, n_features=n_f, n_classes=n_c)\n",
    "Y = np.sum(Y, axis=1)\n",
    "Y = pd.DataFrame(Y, columns = ['class'])\n",
    "df = pd.concat([pd.DataFrame(X),Y], axis = 1)\n",
    "df.head()"
   ]
  },
  {
   "cell_type": "code",
   "execution_count": 134,
   "metadata": {
    "collapsed": false
   },
   "outputs": [],
   "source": [
    "x_col_names = [(n) for n in range(n_f)]"
   ]
  },
  {
   "cell_type": "code",
   "execution_count": 135,
   "metadata": {
    "collapsed": false,
    "scrolled": true
   },
   "outputs": [
    {
     "name": "stdout",
     "output_type": "stream",
     "text": [
      "0.45\n"
     ]
    }
   ],
   "source": [
    "dt = DecisionTree()\n",
    "\n",
    "X = df[x_col_names]\n",
    "y = df['class']\n",
    "\n",
    "x_train, x_test, y_train, y_test = train_test_split(X.values, y.values, test_size=0.4)\n",
    "\n",
    "x_train = pd.DataFrame(x_train, columns=X.columns)\n",
    "x_test = pd.DataFrame(x_test, columns=X.columns)\n",
    "\n",
    "y_train = pd.DataFrame({'type': y_train})\n",
    "y_test = pd.DataFrame({'type': y_test})\n",
    "\n",
    "dt = DecisionTree()\n",
    "dt.fit(x_train, y_train)\n",
    "y_bar = dt.predict(x_test)\n",
    "print(dt.score(x_test, y_test))"
   ]
  },
  {
   "cell_type": "code",
   "execution_count": 136,
   "metadata": {
    "collapsed": false,
    "scrolled": true
   },
   "outputs": [],
   "source": [
    "test_r = [x[0] for x in y_test.values]\n",
    "pred = [x[0] for x in y_bar.values]"
   ]
  },
  {
   "cell_type": "code",
   "execution_count": 137,
   "metadata": {
    "collapsed": false
   },
   "outputs": [
    {
     "data": {
      "text/plain": [
       "0.45"
      ]
     },
     "execution_count": 137,
     "metadata": {},
     "output_type": "execute_result"
    }
   ],
   "source": [
    "accuracy_score(test_r,pred)"
   ]
  },
  {
   "cell_type": "code",
   "execution_count": 138,
   "metadata": {
    "collapsed": false
   },
   "outputs": [
    {
     "data": {
      "text/plain": [
       "matrix([[5, 0],\n",
       "        [1, 1]])"
      ]
     },
     "execution_count": 138,
     "metadata": {},
     "output_type": "execute_result"
    }
   ],
   "source": [
    "confusion_matrix(test_r,pred)"
   ]
  },
  {
   "cell_type": "code",
   "execution_count": 139,
   "metadata": {
    "collapsed": false
   },
   "outputs": [
    {
     "data": {
      "text/plain": [
       "1.0"
      ]
     },
     "execution_count": 139,
     "metadata": {},
     "output_type": "execute_result"
    }
   ],
   "source": [
    "precision(test_r,pred)"
   ]
  },
  {
   "cell_type": "code",
   "execution_count": 140,
   "metadata": {
    "collapsed": false,
    "scrolled": true
   },
   "outputs": [
    {
     "data": {
      "text/plain": [
       "0.8333333333333334"
      ]
     },
     "execution_count": 140,
     "metadata": {},
     "output_type": "execute_result"
    }
   ],
   "source": [
    "recall(test_r,pred)"
   ]
  },
  {
   "cell_type": "markdown",
   "metadata": {},
   "source": [
    "### Titanic Dataset"
   ]
  },
  {
   "cell_type": "markdown",
   "metadata": {},
   "source": [
    "4) Kaggle is a website which offers machine learning challenges to anyone with an interest in working on them, some of which have real prizes associated with them.  The [Titanic challenge](https://www.kaggle.com/c/titanic/data) is a tutorial challenge which has you attempting to predict whether someone did or did not die on board the Titanic, based on their criteria.  In order to download the dataset, you'll need to make an account, and agree to some scary-sounding agreement about not sharing their data with the world (to make their legal team happy).  Do only the minimum of data cleanup on it, trash the name column (unless you want to get really fancy), and fit a decision tree to the dataset.  Make sure to save some data for testing purposes.\n",
    "\n"
   ]
  },
  {
   "cell_type": "code",
   "execution_count": 152,
   "metadata": {
    "collapsed": false,
    "scrolled": false
   },
   "outputs": [],
   "source": [
    "df = pd.read_csv('train.csv')\n",
    "df = df.drop('Name', 1)\n",
    "df.Sex = df.Sex.map({'male':0, 'female': 1})\n",
    "df.Embarked = df.Embarked.map({'S':0,'C':1})\n",
    "df = df.dropna()"
   ]
  },
  {
   "cell_type": "code",
   "execution_count": 142,
   "metadata": {
    "collapsed": false,
    "scrolled": true
   },
   "outputs": [
    {
     "data": {
      "text/html": [
       "<div>\n",
       "<table border=\"1\" class=\"dataframe\">\n",
       "  <thead>\n",
       "    <tr style=\"text-align: right;\">\n",
       "      <th></th>\n",
       "      <th>PassengerId</th>\n",
       "      <th>Survived</th>\n",
       "      <th>Pclass</th>\n",
       "      <th>Sex</th>\n",
       "      <th>Age</th>\n",
       "      <th>SibSp</th>\n",
       "      <th>Parch</th>\n",
       "      <th>Ticket</th>\n",
       "      <th>Fare</th>\n",
       "      <th>Cabin</th>\n",
       "      <th>Embarked</th>\n",
       "    </tr>\n",
       "  </thead>\n",
       "  <tbody>\n",
       "    <tr>\n",
       "      <th>1</th>\n",
       "      <td>2</td>\n",
       "      <td>1</td>\n",
       "      <td>1</td>\n",
       "      <td>1</td>\n",
       "      <td>38.0</td>\n",
       "      <td>1</td>\n",
       "      <td>0</td>\n",
       "      <td>PC 17599</td>\n",
       "      <td>71.2833</td>\n",
       "      <td>C85</td>\n",
       "      <td>1.0</td>\n",
       "    </tr>\n",
       "    <tr>\n",
       "      <th>3</th>\n",
       "      <td>4</td>\n",
       "      <td>1</td>\n",
       "      <td>1</td>\n",
       "      <td>1</td>\n",
       "      <td>35.0</td>\n",
       "      <td>1</td>\n",
       "      <td>0</td>\n",
       "      <td>113803</td>\n",
       "      <td>53.1000</td>\n",
       "      <td>C123</td>\n",
       "      <td>0.0</td>\n",
       "    </tr>\n",
       "    <tr>\n",
       "      <th>6</th>\n",
       "      <td>7</td>\n",
       "      <td>0</td>\n",
       "      <td>1</td>\n",
       "      <td>0</td>\n",
       "      <td>54.0</td>\n",
       "      <td>0</td>\n",
       "      <td>0</td>\n",
       "      <td>17463</td>\n",
       "      <td>51.8625</td>\n",
       "      <td>E46</td>\n",
       "      <td>0.0</td>\n",
       "    </tr>\n",
       "    <tr>\n",
       "      <th>10</th>\n",
       "      <td>11</td>\n",
       "      <td>1</td>\n",
       "      <td>3</td>\n",
       "      <td>1</td>\n",
       "      <td>4.0</td>\n",
       "      <td>1</td>\n",
       "      <td>1</td>\n",
       "      <td>PP 9549</td>\n",
       "      <td>16.7000</td>\n",
       "      <td>G6</td>\n",
       "      <td>0.0</td>\n",
       "    </tr>\n",
       "    <tr>\n",
       "      <th>11</th>\n",
       "      <td>12</td>\n",
       "      <td>1</td>\n",
       "      <td>1</td>\n",
       "      <td>1</td>\n",
       "      <td>58.0</td>\n",
       "      <td>0</td>\n",
       "      <td>0</td>\n",
       "      <td>113783</td>\n",
       "      <td>26.5500</td>\n",
       "      <td>C103</td>\n",
       "      <td>0.0</td>\n",
       "    </tr>\n",
       "  </tbody>\n",
       "</table>\n",
       "</div>"
      ],
      "text/plain": [
       "    PassengerId  Survived  Pclass  Sex   Age  SibSp  Parch    Ticket     Fare  \\\n",
       "1             2         1       1    1  38.0      1      0  PC 17599  71.2833   \n",
       "3             4         1       1    1  35.0      1      0    113803  53.1000   \n",
       "6             7         0       1    0  54.0      0      0     17463  51.8625   \n",
       "10           11         1       3    1   4.0      1      1   PP 9549  16.7000   \n",
       "11           12         1       1    1  58.0      0      0    113783  26.5500   \n",
       "\n",
       "   Cabin  Embarked  \n",
       "1    C85       1.0  \n",
       "3   C123       0.0  \n",
       "6    E46       0.0  \n",
       "10    G6       0.0  \n",
       "11  C103       0.0  "
      ]
     },
     "execution_count": 142,
     "metadata": {},
     "output_type": "execute_result"
    }
   ],
   "source": [
    "df.head()"
   ]
  },
  {
   "cell_type": "code",
   "execution_count": 153,
   "metadata": {
    "collapsed": false
   },
   "outputs": [],
   "source": [
    "X = df[['Pclass', 'Sex', 'Age', 'SibSp', 'Parch', 'Fare', 'Embarked']]\n",
    "y = df['Survived']"
   ]
  },
  {
   "cell_type": "code",
   "execution_count": 154,
   "metadata": {
    "collapsed": false
   },
   "outputs": [],
   "source": [
    "dt = DecisionTree()\n",
    "\n",
    "x_train, x_test, y_train, y_test = train_test_split(X.values, y.values, test_size=0.4)\n",
    "\n",
    "x_train = pd.DataFrame(x_train, columns=X.columns)\n",
    "x_test = pd.DataFrame(x_test, columns=X.columns)\n",
    "\n",
    "y_train = pd.DataFrame({'type': y_train})\n",
    "y_test = pd.DataFrame({'type': y_test})"
   ]
  },
  {
   "cell_type": "code",
   "execution_count": 145,
   "metadata": {
    "collapsed": false
   },
   "outputs": [],
   "source": [
    "dt = DecisionTree()\n",
    "dt.fit(x_train, y_train)"
   ]
  },
  {
   "cell_type": "code",
   "execution_count": 146,
   "metadata": {
    "collapsed": false
   },
   "outputs": [
    {
     "name": "stdout",
     "output_type": "stream",
     "text": [
      "0.7671232876712328\n"
     ]
    }
   ],
   "source": [
    "y_bar = dt.predict(x_test)\n",
    "print(dt.score(x_test, y_test))"
   ]
  },
  {
   "cell_type": "markdown",
   "metadata": {},
   "source": [
    "### Noisy Dataset"
   ]
  },
  {
   "cell_type": "markdown",
   "metadata": {},
   "source": [
    "6) For the dataset `noisy_dataset.csv`, available on Canvas in `Files`, put the data into `test` and `train` sets, and then construct a family of decision trees with an increasing number of nodes, say from 3 up to something large (large enough that the test accuracy starts getting awful). Plot a pair of curves on the same axes: (# of nodes) vs. model accuracy (training and test).  Discuss which models make the best predictors."
   ]
  },
  {
   "cell_type": "code",
   "execution_count": 149,
   "metadata": {
    "collapsed": false
   },
   "outputs": [
    {
     "data": {
      "text/html": [
       "<div>\n",
       "<table border=\"1\" class=\"dataframe\">\n",
       "  <thead>\n",
       "    <tr style=\"text-align: right;\">\n",
       "      <th></th>\n",
       "      <th>Unnamed: 0</th>\n",
       "      <th>x_1</th>\n",
       "      <th>x_2</th>\n",
       "      <th>y</th>\n",
       "    </tr>\n",
       "  </thead>\n",
       "  <tbody>\n",
       "    <tr>\n",
       "      <th>0</th>\n",
       "      <td>0</td>\n",
       "      <td>0.169124</td>\n",
       "      <td>6.545124</td>\n",
       "      <td>0.0</td>\n",
       "    </tr>\n",
       "    <tr>\n",
       "      <th>1</th>\n",
       "      <td>1</td>\n",
       "      <td>1.244786</td>\n",
       "      <td>7.681310</td>\n",
       "      <td>0.0</td>\n",
       "    </tr>\n",
       "    <tr>\n",
       "      <th>2</th>\n",
       "      <td>2</td>\n",
       "      <td>0.926550</td>\n",
       "      <td>5.063571</td>\n",
       "      <td>0.0</td>\n",
       "    </tr>\n",
       "    <tr>\n",
       "      <th>3</th>\n",
       "      <td>3</td>\n",
       "      <td>6.298943</td>\n",
       "      <td>7.374926</td>\n",
       "      <td>0.0</td>\n",
       "    </tr>\n",
       "    <tr>\n",
       "      <th>4</th>\n",
       "      <td>4</td>\n",
       "      <td>4.479117</td>\n",
       "      <td>8.684585</td>\n",
       "      <td>0.0</td>\n",
       "    </tr>\n",
       "  </tbody>\n",
       "</table>\n",
       "</div>"
      ],
      "text/plain": [
       "   Unnamed: 0       x_1       x_2    y\n",
       "0           0  0.169124  6.545124  0.0\n",
       "1           1  1.244786  7.681310  0.0\n",
       "2           2  0.926550  5.063571  0.0\n",
       "3           3  6.298943  7.374926  0.0\n",
       "4           4  4.479117  8.684585  0.0"
      ]
     },
     "execution_count": 149,
     "metadata": {},
     "output_type": "execute_result"
    }
   ],
   "source": [
    "df = pd.read_csv(\"noisy_dataset.csv\")\n",
    "X = df[['x_1', 'x_2']]\n",
    "y = df['y']\n",
    "df.head()"
   ]
  },
  {
   "cell_type": "markdown",
   "metadata": {},
   "source": [
    "Note: runtime extremely long on this one, so it didn't finish running"
   ]
  },
  {
   "cell_type": "code",
   "execution_count": 165,
   "metadata": {
    "collapsed": false
   },
   "outputs": [
    {
     "ename": "KeyboardInterrupt",
     "evalue": "",
     "output_type": "error",
     "traceback": [
      "\u001b[1;31m---------------------------------------------------------------------------\u001b[0m",
      "\u001b[1;31mKeyboardInterrupt\u001b[0m                         Traceback (most recent call last)",
      "\u001b[1;32m<ipython-input-165-b844fe80cedf>\u001b[0m in \u001b[0;36m<module>\u001b[1;34m()\u001b[0m\n\u001b[0;32m     10\u001b[0m \u001b[1;33m\u001b[0m\u001b[0m\n\u001b[0;32m     11\u001b[0m \u001b[0mdt\u001b[0m \u001b[1;33m=\u001b[0m \u001b[0mDecisionTree\u001b[0m\u001b[1;33m(\u001b[0m\u001b[1;33m)\u001b[0m\u001b[1;33m\u001b[0m\u001b[0m\n\u001b[1;32m---> 12\u001b[1;33m \u001b[0mdt\u001b[0m\u001b[1;33m.\u001b[0m\u001b[0mfit\u001b[0m\u001b[1;33m(\u001b[0m\u001b[0mx_train\u001b[0m\u001b[1;33m,\u001b[0m \u001b[0my_train\u001b[0m\u001b[1;33m)\u001b[0m\u001b[1;33m\u001b[0m\u001b[0m\n\u001b[0m\u001b[0;32m     13\u001b[0m \u001b[0my_bar\u001b[0m \u001b[1;33m=\u001b[0m \u001b[0mdt\u001b[0m\u001b[1;33m.\u001b[0m\u001b[0mpredict\u001b[0m\u001b[1;33m(\u001b[0m\u001b[0mx_test\u001b[0m\u001b[1;33m)\u001b[0m\u001b[1;33m\u001b[0m\u001b[0m\n\u001b[0;32m     14\u001b[0m \u001b[0mprint\u001b[0m\u001b[1;33m(\u001b[0m\u001b[0mdt\u001b[0m\u001b[1;33m.\u001b[0m\u001b[0mscore\u001b[0m\u001b[1;33m(\u001b[0m\u001b[0mx_test\u001b[0m\u001b[1;33m,\u001b[0m \u001b[0my_test\u001b[0m\u001b[1;33m)\u001b[0m\u001b[1;33m)\u001b[0m\u001b[1;33m\u001b[0m\u001b[0m\n",
      "\u001b[1;32m<ipython-input-111-2c484a48b40e>\u001b[0m in \u001b[0;36mfit\u001b[1;34m(self, X, y, pruning_func)\u001b[0m\n\u001b[0;32m    158\u001b[0m \u001b[1;33m\u001b[0m\u001b[0m\n\u001b[0;32m    159\u001b[0m         \u001b[0mself\u001b[0m\u001b[1;33m.\u001b[0m\u001b[0mtree\u001b[0m \u001b[1;33m=\u001b[0m \u001b[0mTree\u001b[0m\u001b[1;33m(\u001b[0m\u001b[0mNode\u001b[0m\u001b[1;33m(\u001b[0m\u001b[1;33m[\u001b[0m\u001b[1;33m(\u001b[0m\u001b[0mX\u001b[0m\u001b[1;33m,\u001b[0m \u001b[0my\u001b[0m\u001b[1;33m)\u001b[0m\u001b[1;33m]\u001b[0m\u001b[1;33m,\u001b[0m \u001b[1;32mNone\u001b[0m\u001b[1;33m,\u001b[0m \u001b[1;32mNone\u001b[0m\u001b[1;33m)\u001b[0m\u001b[1;33m)\u001b[0m\u001b[1;33m\u001b[0m\u001b[0m\n\u001b[1;32m--> 160\u001b[1;33m         \u001b[0mself\u001b[0m\u001b[1;33m.\u001b[0m\u001b[0mrecursively_create_splits\u001b[0m\u001b[1;33m(\u001b[0m\u001b[1;36m1\u001b[0m\u001b[1;33m,\u001b[0m \u001b[0mprune_func\u001b[0m\u001b[1;33m=\u001b[0m\u001b[0mpruner\u001b[0m\u001b[1;33m)\u001b[0m  \u001b[1;31m# pretty anticlimactic\u001b[0m\u001b[1;33m\u001b[0m\u001b[0m\n\u001b[0m\u001b[0;32m    161\u001b[0m         \u001b[1;32mreturn\u001b[0m \u001b[1;32mNone\u001b[0m\u001b[1;33m\u001b[0m\u001b[0m\n\u001b[0;32m    162\u001b[0m \u001b[1;33m\u001b[0m\u001b[0m\n",
      "\u001b[1;32m<ipython-input-111-2c484a48b40e>\u001b[0m in \u001b[0;36mrecursively_create_splits\u001b[1;34m(self, pos, prune_func)\u001b[0m\n\u001b[0;32m    137\u001b[0m             \u001b[0mself\u001b[0m\u001b[1;33m.\u001b[0m\u001b[0mcreate_split\u001b[0m\u001b[1;33m(\u001b[0m\u001b[0mpos\u001b[0m\u001b[1;33m,\u001b[0m \u001b[0mprune_func\u001b[0m\u001b[1;33m)\u001b[0m\u001b[1;33m\u001b[0m\u001b[0m\n\u001b[0;32m    138\u001b[0m             \u001b[0mself\u001b[0m\u001b[1;33m.\u001b[0m\u001b[0mrecursively_create_splits\u001b[0m\u001b[1;33m(\u001b[0m\u001b[0mpos\u001b[0m \u001b[1;33m*\u001b[0m \u001b[1;36m2\u001b[0m\u001b[1;33m,\u001b[0m \u001b[0mprune_func\u001b[0m\u001b[1;33m)\u001b[0m  \u001b[1;31m# left child\u001b[0m\u001b[1;33m\u001b[0m\u001b[0m\n\u001b[1;32m--> 139\u001b[1;33m             \u001b[0mself\u001b[0m\u001b[1;33m.\u001b[0m\u001b[0mrecursively_create_splits\u001b[0m\u001b[1;33m(\u001b[0m\u001b[0mpos\u001b[0m \u001b[1;33m*\u001b[0m \u001b[1;36m2\u001b[0m \u001b[1;33m+\u001b[0m \u001b[1;36m1\u001b[0m\u001b[1;33m,\u001b[0m \u001b[0mprune_func\u001b[0m\u001b[1;33m)\u001b[0m  \u001b[1;31m# right child\u001b[0m\u001b[1;33m\u001b[0m\u001b[0m\n\u001b[0m\u001b[0;32m    140\u001b[0m             \u001b[1;32mreturn\u001b[0m \u001b[1;32mNone\u001b[0m\u001b[1;33m\u001b[0m\u001b[0m\n\u001b[0;32m    141\u001b[0m \u001b[1;33m\u001b[0m\u001b[0m\n",
      "\u001b[1;32m<ipython-input-111-2c484a48b40e>\u001b[0m in \u001b[0;36mrecursively_create_splits\u001b[1;34m(self, pos, prune_func)\u001b[0m\n\u001b[0;32m    136\u001b[0m         \u001b[1;32melse\u001b[0m\u001b[1;33m:\u001b[0m  \u001b[1;31m# create two children and recurse to split them\u001b[0m\u001b[1;33m\u001b[0m\u001b[0m\n\u001b[0;32m    137\u001b[0m             \u001b[0mself\u001b[0m\u001b[1;33m.\u001b[0m\u001b[0mcreate_split\u001b[0m\u001b[1;33m(\u001b[0m\u001b[0mpos\u001b[0m\u001b[1;33m,\u001b[0m \u001b[0mprune_func\u001b[0m\u001b[1;33m)\u001b[0m\u001b[1;33m\u001b[0m\u001b[0m\n\u001b[1;32m--> 138\u001b[1;33m             \u001b[0mself\u001b[0m\u001b[1;33m.\u001b[0m\u001b[0mrecursively_create_splits\u001b[0m\u001b[1;33m(\u001b[0m\u001b[0mpos\u001b[0m \u001b[1;33m*\u001b[0m \u001b[1;36m2\u001b[0m\u001b[1;33m,\u001b[0m \u001b[0mprune_func\u001b[0m\u001b[1;33m)\u001b[0m  \u001b[1;31m# left child\u001b[0m\u001b[1;33m\u001b[0m\u001b[0m\n\u001b[0m\u001b[0;32m    139\u001b[0m             \u001b[0mself\u001b[0m\u001b[1;33m.\u001b[0m\u001b[0mrecursively_create_splits\u001b[0m\u001b[1;33m(\u001b[0m\u001b[0mpos\u001b[0m \u001b[1;33m*\u001b[0m \u001b[1;36m2\u001b[0m \u001b[1;33m+\u001b[0m \u001b[1;36m1\u001b[0m\u001b[1;33m,\u001b[0m \u001b[0mprune_func\u001b[0m\u001b[1;33m)\u001b[0m  \u001b[1;31m# right child\u001b[0m\u001b[1;33m\u001b[0m\u001b[0m\n\u001b[0;32m    140\u001b[0m             \u001b[1;32mreturn\u001b[0m \u001b[1;32mNone\u001b[0m\u001b[1;33m\u001b[0m\u001b[0m\n",
      "\u001b[1;32m<ipython-input-111-2c484a48b40e>\u001b[0m in \u001b[0;36mrecursively_create_splits\u001b[1;34m(self, pos, prune_func)\u001b[0m\n\u001b[0;32m    136\u001b[0m         \u001b[1;32melse\u001b[0m\u001b[1;33m:\u001b[0m  \u001b[1;31m# create two children and recurse to split them\u001b[0m\u001b[1;33m\u001b[0m\u001b[0m\n\u001b[0;32m    137\u001b[0m             \u001b[0mself\u001b[0m\u001b[1;33m.\u001b[0m\u001b[0mcreate_split\u001b[0m\u001b[1;33m(\u001b[0m\u001b[0mpos\u001b[0m\u001b[1;33m,\u001b[0m \u001b[0mprune_func\u001b[0m\u001b[1;33m)\u001b[0m\u001b[1;33m\u001b[0m\u001b[0m\n\u001b[1;32m--> 138\u001b[1;33m             \u001b[0mself\u001b[0m\u001b[1;33m.\u001b[0m\u001b[0mrecursively_create_splits\u001b[0m\u001b[1;33m(\u001b[0m\u001b[0mpos\u001b[0m \u001b[1;33m*\u001b[0m \u001b[1;36m2\u001b[0m\u001b[1;33m,\u001b[0m \u001b[0mprune_func\u001b[0m\u001b[1;33m)\u001b[0m  \u001b[1;31m# left child\u001b[0m\u001b[1;33m\u001b[0m\u001b[0m\n\u001b[0m\u001b[0;32m    139\u001b[0m             \u001b[0mself\u001b[0m\u001b[1;33m.\u001b[0m\u001b[0mrecursively_create_splits\u001b[0m\u001b[1;33m(\u001b[0m\u001b[0mpos\u001b[0m \u001b[1;33m*\u001b[0m \u001b[1;36m2\u001b[0m \u001b[1;33m+\u001b[0m \u001b[1;36m1\u001b[0m\u001b[1;33m,\u001b[0m \u001b[0mprune_func\u001b[0m\u001b[1;33m)\u001b[0m  \u001b[1;31m# right child\u001b[0m\u001b[1;33m\u001b[0m\u001b[0m\n\u001b[0;32m    140\u001b[0m             \u001b[1;32mreturn\u001b[0m \u001b[1;32mNone\u001b[0m\u001b[1;33m\u001b[0m\u001b[0m\n",
      "\u001b[1;32m<ipython-input-111-2c484a48b40e>\u001b[0m in \u001b[0;36mrecursively_create_splits\u001b[1;34m(self, pos, prune_func)\u001b[0m\n\u001b[0;32m    137\u001b[0m             \u001b[0mself\u001b[0m\u001b[1;33m.\u001b[0m\u001b[0mcreate_split\u001b[0m\u001b[1;33m(\u001b[0m\u001b[0mpos\u001b[0m\u001b[1;33m,\u001b[0m \u001b[0mprune_func\u001b[0m\u001b[1;33m)\u001b[0m\u001b[1;33m\u001b[0m\u001b[0m\n\u001b[0;32m    138\u001b[0m             \u001b[0mself\u001b[0m\u001b[1;33m.\u001b[0m\u001b[0mrecursively_create_splits\u001b[0m\u001b[1;33m(\u001b[0m\u001b[0mpos\u001b[0m \u001b[1;33m*\u001b[0m \u001b[1;36m2\u001b[0m\u001b[1;33m,\u001b[0m \u001b[0mprune_func\u001b[0m\u001b[1;33m)\u001b[0m  \u001b[1;31m# left child\u001b[0m\u001b[1;33m\u001b[0m\u001b[0m\n\u001b[1;32m--> 139\u001b[1;33m             \u001b[0mself\u001b[0m\u001b[1;33m.\u001b[0m\u001b[0mrecursively_create_splits\u001b[0m\u001b[1;33m(\u001b[0m\u001b[0mpos\u001b[0m \u001b[1;33m*\u001b[0m \u001b[1;36m2\u001b[0m \u001b[1;33m+\u001b[0m \u001b[1;36m1\u001b[0m\u001b[1;33m,\u001b[0m \u001b[0mprune_func\u001b[0m\u001b[1;33m)\u001b[0m  \u001b[1;31m# right child\u001b[0m\u001b[1;33m\u001b[0m\u001b[0m\n\u001b[0m\u001b[0;32m    140\u001b[0m             \u001b[1;32mreturn\u001b[0m \u001b[1;32mNone\u001b[0m\u001b[1;33m\u001b[0m\u001b[0m\n\u001b[0;32m    141\u001b[0m \u001b[1;33m\u001b[0m\u001b[0m\n",
      "\u001b[1;32m<ipython-input-111-2c484a48b40e>\u001b[0m in \u001b[0;36mrecursively_create_splits\u001b[1;34m(self, pos, prune_func)\u001b[0m\n\u001b[0;32m    137\u001b[0m             \u001b[0mself\u001b[0m\u001b[1;33m.\u001b[0m\u001b[0mcreate_split\u001b[0m\u001b[1;33m(\u001b[0m\u001b[0mpos\u001b[0m\u001b[1;33m,\u001b[0m \u001b[0mprune_func\u001b[0m\u001b[1;33m)\u001b[0m\u001b[1;33m\u001b[0m\u001b[0m\n\u001b[0;32m    138\u001b[0m             \u001b[0mself\u001b[0m\u001b[1;33m.\u001b[0m\u001b[0mrecursively_create_splits\u001b[0m\u001b[1;33m(\u001b[0m\u001b[0mpos\u001b[0m \u001b[1;33m*\u001b[0m \u001b[1;36m2\u001b[0m\u001b[1;33m,\u001b[0m \u001b[0mprune_func\u001b[0m\u001b[1;33m)\u001b[0m  \u001b[1;31m# left child\u001b[0m\u001b[1;33m\u001b[0m\u001b[0m\n\u001b[1;32m--> 139\u001b[1;33m             \u001b[0mself\u001b[0m\u001b[1;33m.\u001b[0m\u001b[0mrecursively_create_splits\u001b[0m\u001b[1;33m(\u001b[0m\u001b[0mpos\u001b[0m \u001b[1;33m*\u001b[0m \u001b[1;36m2\u001b[0m \u001b[1;33m+\u001b[0m \u001b[1;36m1\u001b[0m\u001b[1;33m,\u001b[0m \u001b[0mprune_func\u001b[0m\u001b[1;33m)\u001b[0m  \u001b[1;31m# right child\u001b[0m\u001b[1;33m\u001b[0m\u001b[0m\n\u001b[0m\u001b[0;32m    140\u001b[0m             \u001b[1;32mreturn\u001b[0m \u001b[1;32mNone\u001b[0m\u001b[1;33m\u001b[0m\u001b[0m\n\u001b[0;32m    141\u001b[0m \u001b[1;33m\u001b[0m\u001b[0m\n",
      "\u001b[1;32m<ipython-input-111-2c484a48b40e>\u001b[0m in \u001b[0;36mrecursively_create_splits\u001b[1;34m(self, pos, prune_func)\u001b[0m\n\u001b[0;32m    136\u001b[0m         \u001b[1;32melse\u001b[0m\u001b[1;33m:\u001b[0m  \u001b[1;31m# create two children and recurse to split them\u001b[0m\u001b[1;33m\u001b[0m\u001b[0m\n\u001b[0;32m    137\u001b[0m             \u001b[0mself\u001b[0m\u001b[1;33m.\u001b[0m\u001b[0mcreate_split\u001b[0m\u001b[1;33m(\u001b[0m\u001b[0mpos\u001b[0m\u001b[1;33m,\u001b[0m \u001b[0mprune_func\u001b[0m\u001b[1;33m)\u001b[0m\u001b[1;33m\u001b[0m\u001b[0m\n\u001b[1;32m--> 138\u001b[1;33m             \u001b[0mself\u001b[0m\u001b[1;33m.\u001b[0m\u001b[0mrecursively_create_splits\u001b[0m\u001b[1;33m(\u001b[0m\u001b[0mpos\u001b[0m \u001b[1;33m*\u001b[0m \u001b[1;36m2\u001b[0m\u001b[1;33m,\u001b[0m \u001b[0mprune_func\u001b[0m\u001b[1;33m)\u001b[0m  \u001b[1;31m# left child\u001b[0m\u001b[1;33m\u001b[0m\u001b[0m\n\u001b[0m\u001b[0;32m    139\u001b[0m             \u001b[0mself\u001b[0m\u001b[1;33m.\u001b[0m\u001b[0mrecursively_create_splits\u001b[0m\u001b[1;33m(\u001b[0m\u001b[0mpos\u001b[0m \u001b[1;33m*\u001b[0m \u001b[1;36m2\u001b[0m \u001b[1;33m+\u001b[0m \u001b[1;36m1\u001b[0m\u001b[1;33m,\u001b[0m \u001b[0mprune_func\u001b[0m\u001b[1;33m)\u001b[0m  \u001b[1;31m# right child\u001b[0m\u001b[1;33m\u001b[0m\u001b[0m\n\u001b[0;32m    140\u001b[0m             \u001b[1;32mreturn\u001b[0m \u001b[1;32mNone\u001b[0m\u001b[1;33m\u001b[0m\u001b[0m\n",
      "\u001b[1;32m<ipython-input-111-2c484a48b40e>\u001b[0m in \u001b[0;36mrecursively_create_splits\u001b[1;34m(self, pos, prune_func)\u001b[0m\n\u001b[0;32m    136\u001b[0m         \u001b[1;32melse\u001b[0m\u001b[1;33m:\u001b[0m  \u001b[1;31m# create two children and recurse to split them\u001b[0m\u001b[1;33m\u001b[0m\u001b[0m\n\u001b[0;32m    137\u001b[0m             \u001b[0mself\u001b[0m\u001b[1;33m.\u001b[0m\u001b[0mcreate_split\u001b[0m\u001b[1;33m(\u001b[0m\u001b[0mpos\u001b[0m\u001b[1;33m,\u001b[0m \u001b[0mprune_func\u001b[0m\u001b[1;33m)\u001b[0m\u001b[1;33m\u001b[0m\u001b[0m\n\u001b[1;32m--> 138\u001b[1;33m             \u001b[0mself\u001b[0m\u001b[1;33m.\u001b[0m\u001b[0mrecursively_create_splits\u001b[0m\u001b[1;33m(\u001b[0m\u001b[0mpos\u001b[0m \u001b[1;33m*\u001b[0m \u001b[1;36m2\u001b[0m\u001b[1;33m,\u001b[0m \u001b[0mprune_func\u001b[0m\u001b[1;33m)\u001b[0m  \u001b[1;31m# left child\u001b[0m\u001b[1;33m\u001b[0m\u001b[0m\n\u001b[0m\u001b[0;32m    139\u001b[0m             \u001b[0mself\u001b[0m\u001b[1;33m.\u001b[0m\u001b[0mrecursively_create_splits\u001b[0m\u001b[1;33m(\u001b[0m\u001b[0mpos\u001b[0m \u001b[1;33m*\u001b[0m \u001b[1;36m2\u001b[0m \u001b[1;33m+\u001b[0m \u001b[1;36m1\u001b[0m\u001b[1;33m,\u001b[0m \u001b[0mprune_func\u001b[0m\u001b[1;33m)\u001b[0m  \u001b[1;31m# right child\u001b[0m\u001b[1;33m\u001b[0m\u001b[0m\n\u001b[0;32m    140\u001b[0m             \u001b[1;32mreturn\u001b[0m \u001b[1;32mNone\u001b[0m\u001b[1;33m\u001b[0m\u001b[0m\n",
      "\u001b[1;32m<ipython-input-111-2c484a48b40e>\u001b[0m in \u001b[0;36mrecursively_create_splits\u001b[1;34m(self, pos, prune_func)\u001b[0m\n\u001b[0;32m    137\u001b[0m             \u001b[0mself\u001b[0m\u001b[1;33m.\u001b[0m\u001b[0mcreate_split\u001b[0m\u001b[1;33m(\u001b[0m\u001b[0mpos\u001b[0m\u001b[1;33m,\u001b[0m \u001b[0mprune_func\u001b[0m\u001b[1;33m)\u001b[0m\u001b[1;33m\u001b[0m\u001b[0m\n\u001b[0;32m    138\u001b[0m             \u001b[0mself\u001b[0m\u001b[1;33m.\u001b[0m\u001b[0mrecursively_create_splits\u001b[0m\u001b[1;33m(\u001b[0m\u001b[0mpos\u001b[0m \u001b[1;33m*\u001b[0m \u001b[1;36m2\u001b[0m\u001b[1;33m,\u001b[0m \u001b[0mprune_func\u001b[0m\u001b[1;33m)\u001b[0m  \u001b[1;31m# left child\u001b[0m\u001b[1;33m\u001b[0m\u001b[0m\n\u001b[1;32m--> 139\u001b[1;33m             \u001b[0mself\u001b[0m\u001b[1;33m.\u001b[0m\u001b[0mrecursively_create_splits\u001b[0m\u001b[1;33m(\u001b[0m\u001b[0mpos\u001b[0m \u001b[1;33m*\u001b[0m \u001b[1;36m2\u001b[0m \u001b[1;33m+\u001b[0m \u001b[1;36m1\u001b[0m\u001b[1;33m,\u001b[0m \u001b[0mprune_func\u001b[0m\u001b[1;33m)\u001b[0m  \u001b[1;31m# right child\u001b[0m\u001b[1;33m\u001b[0m\u001b[0m\n\u001b[0m\u001b[0;32m    140\u001b[0m             \u001b[1;32mreturn\u001b[0m \u001b[1;32mNone\u001b[0m\u001b[1;33m\u001b[0m\u001b[0m\n\u001b[0;32m    141\u001b[0m \u001b[1;33m\u001b[0m\u001b[0m\n",
      "\u001b[1;32m<ipython-input-111-2c484a48b40e>\u001b[0m in \u001b[0;36mrecursively_create_splits\u001b[1;34m(self, pos, prune_func)\u001b[0m\n\u001b[0;32m    136\u001b[0m         \u001b[1;32melse\u001b[0m\u001b[1;33m:\u001b[0m  \u001b[1;31m# create two children and recurse to split them\u001b[0m\u001b[1;33m\u001b[0m\u001b[0m\n\u001b[0;32m    137\u001b[0m             \u001b[0mself\u001b[0m\u001b[1;33m.\u001b[0m\u001b[0mcreate_split\u001b[0m\u001b[1;33m(\u001b[0m\u001b[0mpos\u001b[0m\u001b[1;33m,\u001b[0m \u001b[0mprune_func\u001b[0m\u001b[1;33m)\u001b[0m\u001b[1;33m\u001b[0m\u001b[0m\n\u001b[1;32m--> 138\u001b[1;33m             \u001b[0mself\u001b[0m\u001b[1;33m.\u001b[0m\u001b[0mrecursively_create_splits\u001b[0m\u001b[1;33m(\u001b[0m\u001b[0mpos\u001b[0m \u001b[1;33m*\u001b[0m \u001b[1;36m2\u001b[0m\u001b[1;33m,\u001b[0m \u001b[0mprune_func\u001b[0m\u001b[1;33m)\u001b[0m  \u001b[1;31m# left child\u001b[0m\u001b[1;33m\u001b[0m\u001b[0m\n\u001b[0m\u001b[0;32m    139\u001b[0m             \u001b[0mself\u001b[0m\u001b[1;33m.\u001b[0m\u001b[0mrecursively_create_splits\u001b[0m\u001b[1;33m(\u001b[0m\u001b[0mpos\u001b[0m \u001b[1;33m*\u001b[0m \u001b[1;36m2\u001b[0m \u001b[1;33m+\u001b[0m \u001b[1;36m1\u001b[0m\u001b[1;33m,\u001b[0m \u001b[0mprune_func\u001b[0m\u001b[1;33m)\u001b[0m  \u001b[1;31m# right child\u001b[0m\u001b[1;33m\u001b[0m\u001b[0m\n\u001b[0;32m    140\u001b[0m             \u001b[1;32mreturn\u001b[0m \u001b[1;32mNone\u001b[0m\u001b[1;33m\u001b[0m\u001b[0m\n",
      "\u001b[1;32m<ipython-input-111-2c484a48b40e>\u001b[0m in \u001b[0;36mrecursively_create_splits\u001b[1;34m(self, pos, prune_func)\u001b[0m\n\u001b[0;32m    136\u001b[0m         \u001b[1;32melse\u001b[0m\u001b[1;33m:\u001b[0m  \u001b[1;31m# create two children and recurse to split them\u001b[0m\u001b[1;33m\u001b[0m\u001b[0m\n\u001b[0;32m    137\u001b[0m             \u001b[0mself\u001b[0m\u001b[1;33m.\u001b[0m\u001b[0mcreate_split\u001b[0m\u001b[1;33m(\u001b[0m\u001b[0mpos\u001b[0m\u001b[1;33m,\u001b[0m \u001b[0mprune_func\u001b[0m\u001b[1;33m)\u001b[0m\u001b[1;33m\u001b[0m\u001b[0m\n\u001b[1;32m--> 138\u001b[1;33m             \u001b[0mself\u001b[0m\u001b[1;33m.\u001b[0m\u001b[0mrecursively_create_splits\u001b[0m\u001b[1;33m(\u001b[0m\u001b[0mpos\u001b[0m \u001b[1;33m*\u001b[0m \u001b[1;36m2\u001b[0m\u001b[1;33m,\u001b[0m \u001b[0mprune_func\u001b[0m\u001b[1;33m)\u001b[0m  \u001b[1;31m# left child\u001b[0m\u001b[1;33m\u001b[0m\u001b[0m\n\u001b[0m\u001b[0;32m    139\u001b[0m             \u001b[0mself\u001b[0m\u001b[1;33m.\u001b[0m\u001b[0mrecursively_create_splits\u001b[0m\u001b[1;33m(\u001b[0m\u001b[0mpos\u001b[0m \u001b[1;33m*\u001b[0m \u001b[1;36m2\u001b[0m \u001b[1;33m+\u001b[0m \u001b[1;36m1\u001b[0m\u001b[1;33m,\u001b[0m \u001b[0mprune_func\u001b[0m\u001b[1;33m)\u001b[0m  \u001b[1;31m# right child\u001b[0m\u001b[1;33m\u001b[0m\u001b[0m\n\u001b[0;32m    140\u001b[0m             \u001b[1;32mreturn\u001b[0m \u001b[1;32mNone\u001b[0m\u001b[1;33m\u001b[0m\u001b[0m\n",
      "\u001b[1;32m<ipython-input-111-2c484a48b40e>\u001b[0m in \u001b[0;36mrecursively_create_splits\u001b[1;34m(self, pos, prune_func)\u001b[0m\n\u001b[0;32m    137\u001b[0m             \u001b[0mself\u001b[0m\u001b[1;33m.\u001b[0m\u001b[0mcreate_split\u001b[0m\u001b[1;33m(\u001b[0m\u001b[0mpos\u001b[0m\u001b[1;33m,\u001b[0m \u001b[0mprune_func\u001b[0m\u001b[1;33m)\u001b[0m\u001b[1;33m\u001b[0m\u001b[0m\n\u001b[0;32m    138\u001b[0m             \u001b[0mself\u001b[0m\u001b[1;33m.\u001b[0m\u001b[0mrecursively_create_splits\u001b[0m\u001b[1;33m(\u001b[0m\u001b[0mpos\u001b[0m \u001b[1;33m*\u001b[0m \u001b[1;36m2\u001b[0m\u001b[1;33m,\u001b[0m \u001b[0mprune_func\u001b[0m\u001b[1;33m)\u001b[0m  \u001b[1;31m# left child\u001b[0m\u001b[1;33m\u001b[0m\u001b[0m\n\u001b[1;32m--> 139\u001b[1;33m             \u001b[0mself\u001b[0m\u001b[1;33m.\u001b[0m\u001b[0mrecursively_create_splits\u001b[0m\u001b[1;33m(\u001b[0m\u001b[0mpos\u001b[0m \u001b[1;33m*\u001b[0m \u001b[1;36m2\u001b[0m \u001b[1;33m+\u001b[0m \u001b[1;36m1\u001b[0m\u001b[1;33m,\u001b[0m \u001b[0mprune_func\u001b[0m\u001b[1;33m)\u001b[0m  \u001b[1;31m# right child\u001b[0m\u001b[1;33m\u001b[0m\u001b[0m\n\u001b[0m\u001b[0;32m    140\u001b[0m             \u001b[1;32mreturn\u001b[0m \u001b[1;32mNone\u001b[0m\u001b[1;33m\u001b[0m\u001b[0m\n\u001b[0;32m    141\u001b[0m \u001b[1;33m\u001b[0m\u001b[0m\n",
      "\u001b[1;32m<ipython-input-111-2c484a48b40e>\u001b[0m in \u001b[0;36mrecursively_create_splits\u001b[1;34m(self, pos, prune_func)\u001b[0m\n\u001b[0;32m    137\u001b[0m             \u001b[0mself\u001b[0m\u001b[1;33m.\u001b[0m\u001b[0mcreate_split\u001b[0m\u001b[1;33m(\u001b[0m\u001b[0mpos\u001b[0m\u001b[1;33m,\u001b[0m \u001b[0mprune_func\u001b[0m\u001b[1;33m)\u001b[0m\u001b[1;33m\u001b[0m\u001b[0m\n\u001b[0;32m    138\u001b[0m             \u001b[0mself\u001b[0m\u001b[1;33m.\u001b[0m\u001b[0mrecursively_create_splits\u001b[0m\u001b[1;33m(\u001b[0m\u001b[0mpos\u001b[0m \u001b[1;33m*\u001b[0m \u001b[1;36m2\u001b[0m\u001b[1;33m,\u001b[0m \u001b[0mprune_func\u001b[0m\u001b[1;33m)\u001b[0m  \u001b[1;31m# left child\u001b[0m\u001b[1;33m\u001b[0m\u001b[0m\n\u001b[1;32m--> 139\u001b[1;33m             \u001b[0mself\u001b[0m\u001b[1;33m.\u001b[0m\u001b[0mrecursively_create_splits\u001b[0m\u001b[1;33m(\u001b[0m\u001b[0mpos\u001b[0m \u001b[1;33m*\u001b[0m \u001b[1;36m2\u001b[0m \u001b[1;33m+\u001b[0m \u001b[1;36m1\u001b[0m\u001b[1;33m,\u001b[0m \u001b[0mprune_func\u001b[0m\u001b[1;33m)\u001b[0m  \u001b[1;31m# right child\u001b[0m\u001b[1;33m\u001b[0m\u001b[0m\n\u001b[0m\u001b[0;32m    140\u001b[0m             \u001b[1;32mreturn\u001b[0m \u001b[1;32mNone\u001b[0m\u001b[1;33m\u001b[0m\u001b[0m\n\u001b[0;32m    141\u001b[0m \u001b[1;33m\u001b[0m\u001b[0m\n",
      "\u001b[1;32m<ipython-input-111-2c484a48b40e>\u001b[0m in \u001b[0;36mrecursively_create_splits\u001b[1;34m(self, pos, prune_func)\u001b[0m\n\u001b[0;32m    137\u001b[0m             \u001b[0mself\u001b[0m\u001b[1;33m.\u001b[0m\u001b[0mcreate_split\u001b[0m\u001b[1;33m(\u001b[0m\u001b[0mpos\u001b[0m\u001b[1;33m,\u001b[0m \u001b[0mprune_func\u001b[0m\u001b[1;33m)\u001b[0m\u001b[1;33m\u001b[0m\u001b[0m\n\u001b[0;32m    138\u001b[0m             \u001b[0mself\u001b[0m\u001b[1;33m.\u001b[0m\u001b[0mrecursively_create_splits\u001b[0m\u001b[1;33m(\u001b[0m\u001b[0mpos\u001b[0m \u001b[1;33m*\u001b[0m \u001b[1;36m2\u001b[0m\u001b[1;33m,\u001b[0m \u001b[0mprune_func\u001b[0m\u001b[1;33m)\u001b[0m  \u001b[1;31m# left child\u001b[0m\u001b[1;33m\u001b[0m\u001b[0m\n\u001b[1;32m--> 139\u001b[1;33m             \u001b[0mself\u001b[0m\u001b[1;33m.\u001b[0m\u001b[0mrecursively_create_splits\u001b[0m\u001b[1;33m(\u001b[0m\u001b[0mpos\u001b[0m \u001b[1;33m*\u001b[0m \u001b[1;36m2\u001b[0m \u001b[1;33m+\u001b[0m \u001b[1;36m1\u001b[0m\u001b[1;33m,\u001b[0m \u001b[0mprune_func\u001b[0m\u001b[1;33m)\u001b[0m  \u001b[1;31m# right child\u001b[0m\u001b[1;33m\u001b[0m\u001b[0m\n\u001b[0m\u001b[0;32m    140\u001b[0m             \u001b[1;32mreturn\u001b[0m \u001b[1;32mNone\u001b[0m\u001b[1;33m\u001b[0m\u001b[0m\n\u001b[0;32m    141\u001b[0m \u001b[1;33m\u001b[0m\u001b[0m\n",
      "\u001b[1;32m<ipython-input-111-2c484a48b40e>\u001b[0m in \u001b[0;36mrecursively_create_splits\u001b[1;34m(self, pos, prune_func)\u001b[0m\n\u001b[0;32m    137\u001b[0m             \u001b[0mself\u001b[0m\u001b[1;33m.\u001b[0m\u001b[0mcreate_split\u001b[0m\u001b[1;33m(\u001b[0m\u001b[0mpos\u001b[0m\u001b[1;33m,\u001b[0m \u001b[0mprune_func\u001b[0m\u001b[1;33m)\u001b[0m\u001b[1;33m\u001b[0m\u001b[0m\n\u001b[0;32m    138\u001b[0m             \u001b[0mself\u001b[0m\u001b[1;33m.\u001b[0m\u001b[0mrecursively_create_splits\u001b[0m\u001b[1;33m(\u001b[0m\u001b[0mpos\u001b[0m \u001b[1;33m*\u001b[0m \u001b[1;36m2\u001b[0m\u001b[1;33m,\u001b[0m \u001b[0mprune_func\u001b[0m\u001b[1;33m)\u001b[0m  \u001b[1;31m# left child\u001b[0m\u001b[1;33m\u001b[0m\u001b[0m\n\u001b[1;32m--> 139\u001b[1;33m             \u001b[0mself\u001b[0m\u001b[1;33m.\u001b[0m\u001b[0mrecursively_create_splits\u001b[0m\u001b[1;33m(\u001b[0m\u001b[0mpos\u001b[0m \u001b[1;33m*\u001b[0m \u001b[1;36m2\u001b[0m \u001b[1;33m+\u001b[0m \u001b[1;36m1\u001b[0m\u001b[1;33m,\u001b[0m \u001b[0mprune_func\u001b[0m\u001b[1;33m)\u001b[0m  \u001b[1;31m# right child\u001b[0m\u001b[1;33m\u001b[0m\u001b[0m\n\u001b[0m\u001b[0;32m    140\u001b[0m             \u001b[1;32mreturn\u001b[0m \u001b[1;32mNone\u001b[0m\u001b[1;33m\u001b[0m\u001b[0m\n\u001b[0;32m    141\u001b[0m \u001b[1;33m\u001b[0m\u001b[0m\n",
      "\u001b[1;32m<ipython-input-111-2c484a48b40e>\u001b[0m in \u001b[0;36mrecursively_create_splits\u001b[1;34m(self, pos, prune_func)\u001b[0m\n\u001b[0;32m    137\u001b[0m             \u001b[0mself\u001b[0m\u001b[1;33m.\u001b[0m\u001b[0mcreate_split\u001b[0m\u001b[1;33m(\u001b[0m\u001b[0mpos\u001b[0m\u001b[1;33m,\u001b[0m \u001b[0mprune_func\u001b[0m\u001b[1;33m)\u001b[0m\u001b[1;33m\u001b[0m\u001b[0m\n\u001b[0;32m    138\u001b[0m             \u001b[0mself\u001b[0m\u001b[1;33m.\u001b[0m\u001b[0mrecursively_create_splits\u001b[0m\u001b[1;33m(\u001b[0m\u001b[0mpos\u001b[0m \u001b[1;33m*\u001b[0m \u001b[1;36m2\u001b[0m\u001b[1;33m,\u001b[0m \u001b[0mprune_func\u001b[0m\u001b[1;33m)\u001b[0m  \u001b[1;31m# left child\u001b[0m\u001b[1;33m\u001b[0m\u001b[0m\n\u001b[1;32m--> 139\u001b[1;33m             \u001b[0mself\u001b[0m\u001b[1;33m.\u001b[0m\u001b[0mrecursively_create_splits\u001b[0m\u001b[1;33m(\u001b[0m\u001b[0mpos\u001b[0m \u001b[1;33m*\u001b[0m \u001b[1;36m2\u001b[0m \u001b[1;33m+\u001b[0m \u001b[1;36m1\u001b[0m\u001b[1;33m,\u001b[0m \u001b[0mprune_func\u001b[0m\u001b[1;33m)\u001b[0m  \u001b[1;31m# right child\u001b[0m\u001b[1;33m\u001b[0m\u001b[0m\n\u001b[0m\u001b[0;32m    140\u001b[0m             \u001b[1;32mreturn\u001b[0m \u001b[1;32mNone\u001b[0m\u001b[1;33m\u001b[0m\u001b[0m\n\u001b[0;32m    141\u001b[0m \u001b[1;33m\u001b[0m\u001b[0m\n",
      "\u001b[1;32m<ipython-input-111-2c484a48b40e>\u001b[0m in \u001b[0;36mrecursively_create_splits\u001b[1;34m(self, pos, prune_func)\u001b[0m\n\u001b[0;32m    137\u001b[0m             \u001b[0mself\u001b[0m\u001b[1;33m.\u001b[0m\u001b[0mcreate_split\u001b[0m\u001b[1;33m(\u001b[0m\u001b[0mpos\u001b[0m\u001b[1;33m,\u001b[0m \u001b[0mprune_func\u001b[0m\u001b[1;33m)\u001b[0m\u001b[1;33m\u001b[0m\u001b[0m\n\u001b[0;32m    138\u001b[0m             \u001b[0mself\u001b[0m\u001b[1;33m.\u001b[0m\u001b[0mrecursively_create_splits\u001b[0m\u001b[1;33m(\u001b[0m\u001b[0mpos\u001b[0m \u001b[1;33m*\u001b[0m \u001b[1;36m2\u001b[0m\u001b[1;33m,\u001b[0m \u001b[0mprune_func\u001b[0m\u001b[1;33m)\u001b[0m  \u001b[1;31m# left child\u001b[0m\u001b[1;33m\u001b[0m\u001b[0m\n\u001b[1;32m--> 139\u001b[1;33m             \u001b[0mself\u001b[0m\u001b[1;33m.\u001b[0m\u001b[0mrecursively_create_splits\u001b[0m\u001b[1;33m(\u001b[0m\u001b[0mpos\u001b[0m \u001b[1;33m*\u001b[0m \u001b[1;36m2\u001b[0m \u001b[1;33m+\u001b[0m \u001b[1;36m1\u001b[0m\u001b[1;33m,\u001b[0m \u001b[0mprune_func\u001b[0m\u001b[1;33m)\u001b[0m  \u001b[1;31m# right child\u001b[0m\u001b[1;33m\u001b[0m\u001b[0m\n\u001b[0m\u001b[0;32m    140\u001b[0m             \u001b[1;32mreturn\u001b[0m \u001b[1;32mNone\u001b[0m\u001b[1;33m\u001b[0m\u001b[0m\n\u001b[0;32m    141\u001b[0m \u001b[1;33m\u001b[0m\u001b[0m\n",
      "\u001b[1;32m<ipython-input-111-2c484a48b40e>\u001b[0m in \u001b[0;36mrecursively_create_splits\u001b[1;34m(self, pos, prune_func)\u001b[0m\n\u001b[0;32m    137\u001b[0m             \u001b[0mself\u001b[0m\u001b[1;33m.\u001b[0m\u001b[0mcreate_split\u001b[0m\u001b[1;33m(\u001b[0m\u001b[0mpos\u001b[0m\u001b[1;33m,\u001b[0m \u001b[0mprune_func\u001b[0m\u001b[1;33m)\u001b[0m\u001b[1;33m\u001b[0m\u001b[0m\n\u001b[0;32m    138\u001b[0m             \u001b[0mself\u001b[0m\u001b[1;33m.\u001b[0m\u001b[0mrecursively_create_splits\u001b[0m\u001b[1;33m(\u001b[0m\u001b[0mpos\u001b[0m \u001b[1;33m*\u001b[0m \u001b[1;36m2\u001b[0m\u001b[1;33m,\u001b[0m \u001b[0mprune_func\u001b[0m\u001b[1;33m)\u001b[0m  \u001b[1;31m# left child\u001b[0m\u001b[1;33m\u001b[0m\u001b[0m\n\u001b[1;32m--> 139\u001b[1;33m             \u001b[0mself\u001b[0m\u001b[1;33m.\u001b[0m\u001b[0mrecursively_create_splits\u001b[0m\u001b[1;33m(\u001b[0m\u001b[0mpos\u001b[0m \u001b[1;33m*\u001b[0m \u001b[1;36m2\u001b[0m \u001b[1;33m+\u001b[0m \u001b[1;36m1\u001b[0m\u001b[1;33m,\u001b[0m \u001b[0mprune_func\u001b[0m\u001b[1;33m)\u001b[0m  \u001b[1;31m# right child\u001b[0m\u001b[1;33m\u001b[0m\u001b[0m\n\u001b[0m\u001b[0;32m    140\u001b[0m             \u001b[1;32mreturn\u001b[0m \u001b[1;32mNone\u001b[0m\u001b[1;33m\u001b[0m\u001b[0m\n\u001b[0;32m    141\u001b[0m \u001b[1;33m\u001b[0m\u001b[0m\n",
      "\u001b[1;32m<ipython-input-111-2c484a48b40e>\u001b[0m in \u001b[0;36mrecursively_create_splits\u001b[1;34m(self, pos, prune_func)\u001b[0m\n\u001b[0;32m    136\u001b[0m         \u001b[1;32melse\u001b[0m\u001b[1;33m:\u001b[0m  \u001b[1;31m# create two children and recurse to split them\u001b[0m\u001b[1;33m\u001b[0m\u001b[0m\n\u001b[0;32m    137\u001b[0m             \u001b[0mself\u001b[0m\u001b[1;33m.\u001b[0m\u001b[0mcreate_split\u001b[0m\u001b[1;33m(\u001b[0m\u001b[0mpos\u001b[0m\u001b[1;33m,\u001b[0m \u001b[0mprune_func\u001b[0m\u001b[1;33m)\u001b[0m\u001b[1;33m\u001b[0m\u001b[0m\n\u001b[1;32m--> 138\u001b[1;33m             \u001b[0mself\u001b[0m\u001b[1;33m.\u001b[0m\u001b[0mrecursively_create_splits\u001b[0m\u001b[1;33m(\u001b[0m\u001b[0mpos\u001b[0m \u001b[1;33m*\u001b[0m \u001b[1;36m2\u001b[0m\u001b[1;33m,\u001b[0m \u001b[0mprune_func\u001b[0m\u001b[1;33m)\u001b[0m  \u001b[1;31m# left child\u001b[0m\u001b[1;33m\u001b[0m\u001b[0m\n\u001b[0m\u001b[0;32m    139\u001b[0m             \u001b[0mself\u001b[0m\u001b[1;33m.\u001b[0m\u001b[0mrecursively_create_splits\u001b[0m\u001b[1;33m(\u001b[0m\u001b[0mpos\u001b[0m \u001b[1;33m*\u001b[0m \u001b[1;36m2\u001b[0m \u001b[1;33m+\u001b[0m \u001b[1;36m1\u001b[0m\u001b[1;33m,\u001b[0m \u001b[0mprune_func\u001b[0m\u001b[1;33m)\u001b[0m  \u001b[1;31m# right child\u001b[0m\u001b[1;33m\u001b[0m\u001b[0m\n\u001b[0;32m    140\u001b[0m             \u001b[1;32mreturn\u001b[0m \u001b[1;32mNone\u001b[0m\u001b[1;33m\u001b[0m\u001b[0m\n",
      "\u001b[1;32m<ipython-input-111-2c484a48b40e>\u001b[0m in \u001b[0;36mrecursively_create_splits\u001b[1;34m(self, pos, prune_func)\u001b[0m\n\u001b[0;32m    136\u001b[0m         \u001b[1;32melse\u001b[0m\u001b[1;33m:\u001b[0m  \u001b[1;31m# create two children and recurse to split them\u001b[0m\u001b[1;33m\u001b[0m\u001b[0m\n\u001b[0;32m    137\u001b[0m             \u001b[0mself\u001b[0m\u001b[1;33m.\u001b[0m\u001b[0mcreate_split\u001b[0m\u001b[1;33m(\u001b[0m\u001b[0mpos\u001b[0m\u001b[1;33m,\u001b[0m \u001b[0mprune_func\u001b[0m\u001b[1;33m)\u001b[0m\u001b[1;33m\u001b[0m\u001b[0m\n\u001b[1;32m--> 138\u001b[1;33m             \u001b[0mself\u001b[0m\u001b[1;33m.\u001b[0m\u001b[0mrecursively_create_splits\u001b[0m\u001b[1;33m(\u001b[0m\u001b[0mpos\u001b[0m \u001b[1;33m*\u001b[0m \u001b[1;36m2\u001b[0m\u001b[1;33m,\u001b[0m \u001b[0mprune_func\u001b[0m\u001b[1;33m)\u001b[0m  \u001b[1;31m# left child\u001b[0m\u001b[1;33m\u001b[0m\u001b[0m\n\u001b[0m\u001b[0;32m    139\u001b[0m             \u001b[0mself\u001b[0m\u001b[1;33m.\u001b[0m\u001b[0mrecursively_create_splits\u001b[0m\u001b[1;33m(\u001b[0m\u001b[0mpos\u001b[0m \u001b[1;33m*\u001b[0m \u001b[1;36m2\u001b[0m \u001b[1;33m+\u001b[0m \u001b[1;36m1\u001b[0m\u001b[1;33m,\u001b[0m \u001b[0mprune_func\u001b[0m\u001b[1;33m)\u001b[0m  \u001b[1;31m# right child\u001b[0m\u001b[1;33m\u001b[0m\u001b[0m\n\u001b[0;32m    140\u001b[0m             \u001b[1;32mreturn\u001b[0m \u001b[1;32mNone\u001b[0m\u001b[1;33m\u001b[0m\u001b[0m\n",
      "\u001b[1;32m<ipython-input-111-2c484a48b40e>\u001b[0m in \u001b[0;36mrecursively_create_splits\u001b[1;34m(self, pos, prune_func)\u001b[0m\n\u001b[0;32m    136\u001b[0m         \u001b[1;32melse\u001b[0m\u001b[1;33m:\u001b[0m  \u001b[1;31m# create two children and recurse to split them\u001b[0m\u001b[1;33m\u001b[0m\u001b[0m\n\u001b[0;32m    137\u001b[0m             \u001b[0mself\u001b[0m\u001b[1;33m.\u001b[0m\u001b[0mcreate_split\u001b[0m\u001b[1;33m(\u001b[0m\u001b[0mpos\u001b[0m\u001b[1;33m,\u001b[0m \u001b[0mprune_func\u001b[0m\u001b[1;33m)\u001b[0m\u001b[1;33m\u001b[0m\u001b[0m\n\u001b[1;32m--> 138\u001b[1;33m             \u001b[0mself\u001b[0m\u001b[1;33m.\u001b[0m\u001b[0mrecursively_create_splits\u001b[0m\u001b[1;33m(\u001b[0m\u001b[0mpos\u001b[0m \u001b[1;33m*\u001b[0m \u001b[1;36m2\u001b[0m\u001b[1;33m,\u001b[0m \u001b[0mprune_func\u001b[0m\u001b[1;33m)\u001b[0m  \u001b[1;31m# left child\u001b[0m\u001b[1;33m\u001b[0m\u001b[0m\n\u001b[0m\u001b[0;32m    139\u001b[0m             \u001b[0mself\u001b[0m\u001b[1;33m.\u001b[0m\u001b[0mrecursively_create_splits\u001b[0m\u001b[1;33m(\u001b[0m\u001b[0mpos\u001b[0m \u001b[1;33m*\u001b[0m \u001b[1;36m2\u001b[0m \u001b[1;33m+\u001b[0m \u001b[1;36m1\u001b[0m\u001b[1;33m,\u001b[0m \u001b[0mprune_func\u001b[0m\u001b[1;33m)\u001b[0m  \u001b[1;31m# right child\u001b[0m\u001b[1;33m\u001b[0m\u001b[0m\n\u001b[0;32m    140\u001b[0m             \u001b[1;32mreturn\u001b[0m \u001b[1;32mNone\u001b[0m\u001b[1;33m\u001b[0m\u001b[0m\n",
      "\u001b[1;32m<ipython-input-111-2c484a48b40e>\u001b[0m in \u001b[0;36mrecursively_create_splits\u001b[1;34m(self, pos, prune_func)\u001b[0m\n\u001b[0;32m    135\u001b[0m             \u001b[1;32mreturn\u001b[0m \u001b[1;32mNone\u001b[0m\u001b[1;33m\u001b[0m\u001b[0m\n\u001b[0;32m    136\u001b[0m         \u001b[1;32melse\u001b[0m\u001b[1;33m:\u001b[0m  \u001b[1;31m# create two children and recurse to split them\u001b[0m\u001b[1;33m\u001b[0m\u001b[0m\n\u001b[1;32m--> 137\u001b[1;33m             \u001b[0mself\u001b[0m\u001b[1;33m.\u001b[0m\u001b[0mcreate_split\u001b[0m\u001b[1;33m(\u001b[0m\u001b[0mpos\u001b[0m\u001b[1;33m,\u001b[0m \u001b[0mprune_func\u001b[0m\u001b[1;33m)\u001b[0m\u001b[1;33m\u001b[0m\u001b[0m\n\u001b[0m\u001b[0;32m    138\u001b[0m             \u001b[0mself\u001b[0m\u001b[1;33m.\u001b[0m\u001b[0mrecursively_create_splits\u001b[0m\u001b[1;33m(\u001b[0m\u001b[0mpos\u001b[0m \u001b[1;33m*\u001b[0m \u001b[1;36m2\u001b[0m\u001b[1;33m,\u001b[0m \u001b[0mprune_func\u001b[0m\u001b[1;33m)\u001b[0m  \u001b[1;31m# left child\u001b[0m\u001b[1;33m\u001b[0m\u001b[0m\n\u001b[0;32m    139\u001b[0m             \u001b[0mself\u001b[0m\u001b[1;33m.\u001b[0m\u001b[0mrecursively_create_splits\u001b[0m\u001b[1;33m(\u001b[0m\u001b[0mpos\u001b[0m \u001b[1;33m*\u001b[0m \u001b[1;36m2\u001b[0m \u001b[1;33m+\u001b[0m \u001b[1;36m1\u001b[0m\u001b[1;33m,\u001b[0m \u001b[0mprune_func\u001b[0m\u001b[1;33m)\u001b[0m  \u001b[1;31m# right child\u001b[0m\u001b[1;33m\u001b[0m\u001b[0m\n",
      "\u001b[1;32m<ipython-input-111-2c484a48b40e>\u001b[0m in \u001b[0;36mcreate_split\u001b[1;34m(self, pos, prune_func)\u001b[0m\n\u001b[0;32m    100\u001b[0m \u001b[1;33m\u001b[0m\u001b[0m\n\u001b[0;32m    101\u001b[0m         \u001b[1;32mif\u001b[0m \u001b[0mcurr_gini\u001b[0m \u001b[1;33m==\u001b[0m \u001b[1;36m0\u001b[0m\u001b[1;33m:\u001b[0m  \u001b[1;31m# data is pure\u001b[0m\u001b[1;33m\u001b[0m\u001b[0m\n\u001b[1;32m--> 102\u001b[1;33m             \u001b[0mself\u001b[0m\u001b[1;33m.\u001b[0m\u001b[0mtree\u001b[0m\u001b[1;33m.\u001b[0m\u001b[0mset_child\u001b[0m\u001b[1;33m(\u001b[0m\u001b[0mpos\u001b[0m\u001b[1;33m,\u001b[0m \u001b[1;36m0\u001b[0m\u001b[1;33m,\u001b[0m \u001b[1;32mNone\u001b[0m\u001b[1;33m)\u001b[0m\u001b[1;33m\u001b[0m\u001b[0m\n\u001b[0m\u001b[0;32m    103\u001b[0m             \u001b[0mself\u001b[0m\u001b[1;33m.\u001b[0m\u001b[0mtree\u001b[0m\u001b[1;33m.\u001b[0m\u001b[0mset_child\u001b[0m\u001b[1;33m(\u001b[0m\u001b[0mpos\u001b[0m\u001b[1;33m,\u001b[0m \u001b[1;36m1\u001b[0m\u001b[1;33m,\u001b[0m \u001b[1;32mNone\u001b[0m\u001b[1;33m)\u001b[0m  \u001b[1;31m# make this a leaf\u001b[0m\u001b[1;33m\u001b[0m\u001b[0m\n\u001b[0;32m    104\u001b[0m             \u001b[1;32mreturn\u001b[0m \u001b[1;32mNone\u001b[0m  \u001b[1;31m# we're done here!\u001b[0m\u001b[1;33m\u001b[0m\u001b[0m\n",
      "\u001b[1;32m<ipython-input-110-cfa8a946b7db>\u001b[0m in \u001b[0;36mset_child\u001b[1;34m(self, position, direction, child)\u001b[0m\n\u001b[0;32m     94\u001b[0m             \u001b[1;32melse\u001b[0m\u001b[1;33m:\u001b[0m\u001b[1;33m\u001b[0m\u001b[0m\n\u001b[0;32m     95\u001b[0m                 \u001b[0mparent\u001b[0m\u001b[1;33m.\u001b[0m\u001b[0mright\u001b[0m \u001b[1;33m=\u001b[0m \u001b[0mchild\u001b[0m\u001b[1;33m\u001b[0m\u001b[0m\n\u001b[1;32m---> 96\u001b[1;33m         \u001b[0mself\u001b[0m\u001b[1;33m.\u001b[0m\u001b[0m__calculate_node_list\u001b[0m\u001b[1;33m(\u001b[0m\u001b[1;33m)\u001b[0m\u001b[1;33m\u001b[0m\u001b[0m\n\u001b[0m\u001b[0;32m     97\u001b[0m \u001b[1;33m\u001b[0m\u001b[0m\n\u001b[0;32m     98\u001b[0m     \u001b[1;32mdef\u001b[0m \u001b[0mindex\u001b[0m\u001b[1;33m(\u001b[0m\u001b[0mself\u001b[0m\u001b[1;33m,\u001b[0m \u001b[0mnode_val\u001b[0m\u001b[1;33m)\u001b[0m\u001b[1;33m:\u001b[0m\u001b[1;33m\u001b[0m\u001b[0m\n",
      "\u001b[1;32m<ipython-input-110-cfa8a946b7db>\u001b[0m in \u001b[0;36m__calculate_node_list\u001b[1;34m(self)\u001b[0m\n\u001b[0;32m     30\u001b[0m             \u001b[1;32mfor\u001b[0m \u001b[0mchild\u001b[0m \u001b[1;32min\u001b[0m \u001b[0mchildren\u001b[0m\u001b[1;33m:\u001b[0m\u001b[1;33m\u001b[0m\u001b[0m\n\u001b[0;32m     31\u001b[0m                 \u001b[1;32mif\u001b[0m \u001b[0mchild\u001b[0m \u001b[1;32mis\u001b[0m \u001b[1;32mNone\u001b[0m\u001b[1;33m:\u001b[0m\u001b[1;33m\u001b[0m\u001b[0m\n\u001b[1;32m---> 32\u001b[1;33m                     \u001b[0mnew_children\u001b[0m \u001b[1;33m+=\u001b[0m \u001b[1;33m[\u001b[0m\u001b[1;32mNone\u001b[0m\u001b[1;33m,\u001b[0m \u001b[1;32mNone\u001b[0m\u001b[1;33m]\u001b[0m\u001b[1;33m\u001b[0m\u001b[0m\n\u001b[0m\u001b[0;32m     33\u001b[0m                 \u001b[1;32melse\u001b[0m\u001b[1;33m:\u001b[0m\u001b[1;33m\u001b[0m\u001b[0m\n\u001b[0;32m     34\u001b[0m                     \u001b[0mnew_children\u001b[0m \u001b[1;33m+=\u001b[0m \u001b[0mlist\u001b[0m\u001b[1;33m(\u001b[0m\u001b[0mchild\u001b[0m\u001b[1;33m.\u001b[0m\u001b[0mall_children\u001b[0m\u001b[1;33m(\u001b[0m\u001b[1;33m)\u001b[0m\u001b[1;33m)\u001b[0m\u001b[1;33m\u001b[0m\u001b[0m\n",
      "\u001b[1;31mKeyboardInterrupt\u001b[0m: "
     ]
    }
   ],
   "source": [
    "dt = DecisionTree()\n",
    "\n",
    "x_train, x_test, y_train, y_test = train_test_split(X.values, y.values, test_size=0.4)\n",
    "\n",
    "x_train = pd.DataFrame(x_train, columns=X.columns)\n",
    "x_test = pd.DataFrame(x_test, columns=X.columns)\n",
    "\n",
    "y_train = pd.DataFrame({'type': y_train})\n",
    "y_test = pd.DataFrame({'type': y_test})\n",
    "\n",
    "dt = DecisionTree()\n",
    "dt.fit(x_train, y_train)\n",
    "y_bar = dt.predict(x_test)\n",
    "print(dt.score(x_test, y_test))"
   ]
  },
  {
   "cell_type": "code",
   "execution_count": null,
   "metadata": {
    "collapsed": false,
    "scrolled": true
   },
   "outputs": [],
   "source": [
    "test_r = [x[0] for x in y_test.values]\n",
    "pred = [x[0] for x in y_bar.values]"
   ]
  },
  {
   "cell_type": "code",
   "execution_count": null,
   "metadata": {
    "collapsed": false
   },
   "outputs": [],
   "source": [
    "accuracy_score(test_r,pred)"
   ]
  },
  {
   "cell_type": "code",
   "execution_count": null,
   "metadata": {
    "collapsed": false
   },
   "outputs": [],
   "source": [
    "confusion_matrix(test_r,pred)"
   ]
  },
  {
   "cell_type": "code",
   "execution_count": null,
   "metadata": {
    "collapsed": false
   },
   "outputs": [],
   "source": [
    "precision(test_r,pred)"
   ]
  },
  {
   "cell_type": "code",
   "execution_count": null,
   "metadata": {
    "collapsed": false,
    "scrolled": true
   },
   "outputs": [],
   "source": [
    "recall(test_r,pred)"
   ]
  },
  {
   "cell_type": "code",
   "execution_count": 156,
   "metadata": {
    "collapsed": true
   },
   "outputs": [],
   "source": [
    "class FixedNodesDecisionTree(DecisionTree):\n",
    "    \"\"\"A decision tree with a fixed amount of splits.\"\"\"\n",
    "    def __init__(self, num_nodes):\n",
    "        \"\"\"Num_nodes is the number of nodes allowed.\"\"\"\n",
    "        self.num_nodes = num_nodes\n",
    "        self.curr_nodes = 0  # no nodes currently\n",
    "        super().__init__()\n",
    "\n",
    "    def not_overfit(self, data, classes, split):\n",
    "        \"\"\"Does the parent's not_overfit and also checks if the global amount of nodes has increased\n",
    "        too far, in which case it returns False.\"\"\"\n",
    "        return self.curr_nodes < self.num_nodes\n",
    "\n",
    "    def create_split(self, pos, prune_func):\n",
    "        \"\"\"Does the super's version, and then increments curr_nodes.\"\"\"\n",
    "        node = self.tree[pos-1]\n",
    "        node_val = node.val[0]  # the tuple (data, classes)\n",
    "        curr_gini = self.gini(node_val[1])\n",
    "\n",
    "        if curr_gini == 0:  # data is pure\n",
    "            self.tree.set_child(pos, 0, None)\n",
    "            self.tree.set_child(pos, 1, None)  # make this a leaf\n",
    "            return None  # we're done here!\n",
    "        else:  # generate possible splits\n",
    "            splits = self.gen_splits(*node_val)\n",
    "            splits = [split for split in splits if prune_func(*node_val, split)]\n",
    "            # print(splits)\n",
    "            if len(splits) == 0:  # no splits that separate into at least one class\n",
    "                self.tree.set_child(pos, 0, None)\n",
    "                self.tree.set_child(pos, 1, None)\n",
    "                return None\n",
    "            # find the best one\n",
    "            best = min(splits, key=lambda split: self.test_split(*node_val, split))\n",
    "            # print(sorted(splits, key=lambda split: self.test_split(*node_val, split))[:5])\n",
    "            if len(node.val) == 1:  # no split in the node yet\n",
    "                node.val.append(best)\n",
    "            else:  # overwrite a split\n",
    "                node.val[1].append(best)\n",
    "            # execute it\n",
    "            left, right = self.execute_split(*node_val, best)\n",
    "\n",
    "            # ONLY CHANGED PART\n",
    "            # just increment the number of nodes\n",
    "            self.curr_nodes += 1\n",
    "\n",
    "            # print(best)\n",
    "            # print(left[0].shape[0], right[0].shape[0])\n",
    "\n",
    "            self.tree.set_child(pos, 0, Node([left], None, None))\n",
    "            self.tree.set_child(pos, 1, Node([right], None, None))"
   ]
  },
  {
   "cell_type": "code",
   "execution_count": null,
   "metadata": {
    "collapsed": true
   },
   "outputs": [],
   "source": [
    "#To use the fixed nodes class:\n",
    "acc_scores = []\n",
    "for num_nodes in range(1, 31, 5):\n",
    "    fixed_dt = FixedNodesDecisionTree(num_nodes)\n",
    "    fixed_dt.fit(x_train, y_train)\n",
    "    acc_scores.append((num_nodes, fixed_dt.score(x_test, y_test)))\n",
    "\n",
    "acc_scores = np.array(acc_scores)\n",
    "print(acc_scores)"
   ]
  },
  {
   "cell_type": "markdown",
   "metadata": {},
   "source": [
    "To plot the nodes versus the model accuracy"
   ]
  },
  {
   "cell_type": "code",
   "execution_count": null,
   "metadata": {
    "collapsed": true
   },
   "outputs": [],
   "source": [
    "x_ = (acc_scores[:,0])\n",
    "y_ = (acc_scores[:,1])\n",
    "plt.scatter(x_,y_)"
   ]
  },
  {
   "cell_type": "markdown",
   "metadata": {},
   "source": [
    "## Compare to scikit-learn's `DecisionTreeClassifier` class\n",
    "\n",
    "It should come as no surprise to you that scikit-learn has a [decision tree class](http://scikit-learn.org/stable/modules/generated/sklearn.tree.DecisionTreeClassifier.html#sklearn.tree.DecisionTreeClassifier).  Compare your constructed class to theirs in terms of their functionality, what attributes and constructor-arguments does their decision tree class have that yours does not?"
   ]
  },
  {
   "cell_type": "markdown",
   "metadata": {},
   "source": [
    "The DecisionTreeClassifier class from sci-kit learn comes with a multitude constructor arguments and attributes that our DecisionTree class does not have. The methods we had were pretty similar to their methods, for example \"fit\" to build the decision tree classifier from the training set (X, y) and \"predict\" to predict the class for the X inputs.\n",
    "\n",
    "### Sci-kit Constructor parameters\n",
    "    \n",
    "criterion=\"string\", where \"string\" default is \"gini\"\n",
    "This argument measures the quality of a split, including “gini” for the Gini impurity and “entropy” for the information gain.\n",
    "\n",
    "splitter : string, optional (default=”best”)\n",
    "The strategy used to choose the split at each node, for example, “best” to choose the best split and “random” to choose the best random split.\n",
    "\n",
    "max_features : int, float, string or None, optional (default=None)\n",
    "The number of features to consider when looking for the best split.\n",
    "\n",
    "max_depth : int or None, optional (default=None)\n",
    "The maximum depth of the tree. If None, then nodes are expanded until all leaves are pure or until all leaves contain less than min_samples_split samples.\n",
    "\n",
    "min_samples_split : int, float, optional (default=2)\n",
    "The minimum number of samples required to split an internal node.\n",
    "\n",
    "min_samples_leaf : int, float, optional (default=1)\n",
    "The minimum number of samples required to be at a leaf node.\n",
    "\n",
    "min_weight_fraction_leaf : float, optional (default=0.)\n",
    "The minimum weighted fraction of the sum total of weights (of all the input samples) required to be at a leaf node.\n",
    "\n",
    "max_leaf_nodes : int or None, optional (default=None)\n",
    "Thie argument is used to grow a tree with max_leaf_nodes in best-first fashion. Best nodes are defined based on lowest impurity.\n",
    "\n",
    "class_weight : dict, list of dicts, “balanced” or None, optional (default=None)\n",
    "This argument represents weights associated with classes in the form {class_label: weight}.\n",
    "\n",
    "random_state : int, RandomState instance or None, optional (default=None)\n",
    "If int, random_state is the seed used by the random number generator; If RandomState instance, random_state is the random number generator; If None, the random number generator is the RandomState instance used by np.random.\n",
    "\n",
    "min_impurity_split : float, optional (default=1e-7)\n",
    "Threshold for early stopping in tree growth. A node will split if its impurity is above the threshold, otherwise it is a leaf.\n",
    "\n",
    "### Sci-kit Attributes\n",
    "\n",
    "classes_ : array of shape = [n_classes] or a list of such arrays\n",
    "Single output problems: The classes labels.\n",
    "Multi-output problems: A list of arrays of class labels\n",
    "\n",
    "feature_importances_ : array of shape = [n_features]\n",
    "\"The feature importances. The higher, the more important the feature. The importance of a feature is computed as the (normalized) total reduction of the criterion brought by that feature. It is also known as the Gini importance [R245].\"\n",
    "\n",
    "max_features_ : int,\n",
    "The inferred value of max_features.\n",
    "\n",
    "n_classes_ : int or list\n",
    "Single output problems: The number of classes,\n",
    "Multi-output problems: A list containing the number of classes for each output.\n",
    "\n",
    "n_features_ : int\n",
    "Number of features when fit is performed.\n",
    "\n",
    "n_outputs_ : int\n",
    "Number of outputs when fit is performed.\n",
    "\n",
    "tree_ : Tree object"
   ]
  },
  {
   "cell_type": "markdown",
   "metadata": {},
   "source": [
    "## Overfitting and what to do about it\n",
    "\n",
    "What we saw (hopefully!) in dataset 6 above is called __overfitting__, meaning our model is learning the noise in the training data.  This weakens the models predictive power.  There are many options to reduce overfitting, here are a few.  Implement at least one of them, until you have something that makes your models noticeably better.\n",
    "\n",
    "* Add a stopping condition: \n",
    " * stop splitting off more nodes when a node reaches either a minimal number of items per node _or_ is a pure node,\n",
    " * stop splitting by not allowing any child nodes to go below a minimum number of nodes,\n",
    " * stop splitting when you've reached some maximum depth.\n",
    "* After fitting a deep, overfit tree, use a __validation__ set to _prune_ the tree: remove nodes by rejoining children into parents, then test them against the validation set to see if the pruned tree was better.  Do this until you stop seeing improvements on the validation set.  Here a validation set means a third split of data, different from test and train.  It's different from the training set because you're not training the model on it, but it's also not testing data because you're changing your model based on knowledge gained from the dataset.  It's somewhere in between.  Feel free to ask me about _cross-validation_ as well, and how you could use that instead.  We'll talk about it eventually, but I don't want to add more to this project than is already here.\n",
    "\n",
    "__Explain to me what you did, and where it shows up in your code (for example, is it in your class definition?).__\n",
    "\n",
    "We added a stopping method in the decision tree class. It is in the method, not_overfit. The default is to require that at least a fraction of the input be separated (the defaut is 5%)\n",
    "left, right = self.execute_split(data, classes, split)\n",
    "return k <= left[0].shape[0] / data.shape[0] <= 1 - k"
   ]
  },
  {
   "cell_type": "markdown",
   "metadata": {},
   "source": [
    "## Possible extensions\n",
    "\n",
    "Here are two extensions of the `DecisionTree` class that you made.  They are entirely optional, so don't feel you need to do them!\n",
    "\n",
    "* In reality, people use decision trees on a limited basis, typically only when model interpretability is forced by government institutions (so, this happens a lot with banks, for example).  What you normally do is build a __forest__ of trees, that is, a collection of several trees (a common number is 50-500 trees), and then have them vote.  However, if you let your trees build themselves from the same exact datasets each time, they will be roughly the same, and the power of this voting model will be irrelevant.  Thus, one extremely common model is called the __Random Forest__ classifier: give each tree only a subset of the features to train from, don't prune at all (allow them to overfit on that subset), and then have them vote.  This increases the variance of the distribution of tree votes, which helps to average out the errors.  Create a new Python class that builds this classification model.  Note that Random Forests are a current industry favorite (among other things, like support vector machines, boosted trees, and neural networks), meaning if you do this you'll have created a model capable of hacking it with some of the best!\n",
    "\n",
    "* Scikit-learn's `DecisionTreeClassifier` has a somewhat pretty visualization of the tree that can be exported using the library `GraphViz`.  There are python wrappers to this module, the most common is `pydot`.  Using these libraries, or similar ones, add the functionality of constructing an attractive visualization of your decision tree class."
   ]
  },
  {
   "cell_type": "code",
   "execution_count": null,
   "metadata": {
    "collapsed": true
   },
   "outputs": [],
   "source": [
    "\"\"\"This file implements a subclass of DecisionTree that has one small caveat: when it makes a split,\n",
    "it chooses a random subset of the features it has to make a split with, thereby reducing the tree's\n",
    "tendency to be dominated by a few strong predictors.\n",
    "Team: Jocelyn, Kevin, Nicholas\n",
    "Author: Nicholas\n",
    "\"\"\"\n",
    "\n",
    "from random import sample\n",
    "\n",
    "\n",
    "class RandomDecisionTree(DecisionTree):\n",
    "    \"\"\"A random forest decision learner.\"\"\"\n",
    "    def __init__(self):\n",
    "        \"\"\"Initializes a RandomDecisionTree ready for fitting.\"\"\"\n",
    "        super().__init__()\n",
    "\n",
    "    def gen_splits(self, data, classes):\n",
    "        \"\"\"Generates all possible splits using only the square root of the number of available\n",
    "        features.\"\"\"\n",
    "        splits = []\n",
    "        for predictor_name in sample(data.columns, int(len(data.columns) ** (0.5))):\n",
    "            pred = data[predictor_name]\n",
    "            # generate every possible split cutoff that would mean something\n",
    "            cutoffs = list(pred)\n",
    "            cutoffs = [c for c in cutoffs if c != max(cutoffs)]  # remove topmost element\n",
    "            splits += [Split(predictor_name, cutoff) for cutoff in cutoffs]\n",
    "        return splits\n",
    "\n",
    "    def fit(self, X, y):\n",
    "        \"\"\"Does no pruning, just the custom feature bagging. Fits the tree to predict the classes in\n",
    "        y given the features in X.\"\"\"\n",
    "        super().fit(X, y)"
   ]
  },
  {
   "cell_type": "code",
   "execution_count": null,
   "metadata": {
    "collapsed": false
   },
   "outputs": [],
   "source": [
    "\"\"\"This file uses a random forest, a bunch of individual unpruned decision trees with access to only\n",
    "some of the features. Final classification is then done by majority vote, to remove overfitting\n",
    "noise and make the model extremely robust.\n",
    "There's one interesting addendum to this: in a random forest decision tree, making a split is only\n",
    "done with a subset of the features available at every step. This way, strong predictors don't\n",
    "dominate every tree they appear in and overly couple the trees.\n",
    "Team: Jocelyn, Kevin, Nicholas\n",
    "Author: Nicholas\n",
    "\"\"\"\n",
    "\n",
    "from itertools import combinations\n",
    "from random import sample\n",
    "\n",
    "import pandas as pd\n",
    "\n",
    "\n",
    "class RandomForestClassifier:\n",
    "    \"\"\"A random forest classifier.\"\"\"\n",
    "    def __init__(self, n, b, n_ratio=True, b_ratio=True):\n",
    "        \"\"\"Initializes a bare random forest classifier. N is the number of elements to bootstrap from the\n",
    "        training data, or a ratio of the total data size if n_ratio is True. B is the number of\n",
    "        trees to use when classifying. If b_ratio is True, b will instead be a ratio of the total\n",
    "        data input dimensionality.\n",
    "        \"\"\"\n",
    "        self.n = n\n",
    "        self.n_ratio = n_ratio\n",
    "        self.b_ratio = b_ratio\n",
    "        self.b = b\n",
    "        self.trees = []\n",
    "\n",
    "    @classmethod\n",
    "    def get_all_subsets(self, items):\n",
    "        \"\"\"Returns a list of every subset of the given input.\"\"\"\n",
    "        subsets = []\n",
    "        for i in range(1, len(items)+1):\n",
    "            subsets += [combo for combo in combinations(items, i)]\n",
    "        return subsets\n",
    "\n",
    "    @classmethod\n",
    "    def get_random_samples(cls, choices, n):\n",
    "        \"\"\"Draws n different subsets of choices and returns them as a list.\"\"\"\n",
    "        return sample(cls.get_all_subsets(choices), n)\n",
    "\n",
    "    def fit(self, X, y):\n",
    "        \"\"\"Fits a random forest classifier on X mapping to Y, a vector with the same height but\n",
    "        classes instead of predictors.\"\"\"\n",
    "        \n",
    "        # get correct number of trees\n",
    "        tree_num = self.b if not self.b_ratio else int(self.b * X.shape[1])\n",
    "\n",
    "        # get the right number of samples of features\n",
    "        feature_samples = self.get_random_samples(X.columns, tree_num)\n",
    "        # get the right number of samples of data\n",
    "        bootstrap_size = self.n if not self.n_ratio else int(self.n * X.shape[0])\n",
    "        bootstraps = [sample(range(X.shape[0]), bootstrap_size) for i in range(tree_num)]\n",
    "\n",
    "        data_subsets = [(X.loc[bootstraps[i], feature_samples[i]], y.loc[bootstraps[i], :])\n",
    "                        for i in range(tree_num)]\n",
    "        self.trees = [RandomDecisionTree() for i in range(tree_num)]\n",
    "        for i in range(tree_num):\n",
    "            self.trees[i].fit(*data_subsets[i])  # fit that particular one\n",
    "\n",
    "    def predict(self, X_new):\n",
    "        \"\"\"Uses majority voting with a random forest to predict y.\"\"\"\n",
    "        votes = [tree.predict(X_new) for tree in self.trees]  # get predictions\n",
    "        return max(votes, key=lambda x: votes.count(x))  # get most common and return it\n",
    "\n",
    "\n",
    "\n",
    "mat = [[\"human\", \"warm-blooded\", \"yes\", \"no\", \"no\", \"yes\"],\n",
    "       [\"pigeon\", \"warm-blooded\", \"no\", \"no\", \"no\", \"no\"],\n",
    "       [\"elephant\", \"warm-blooded\", \"yes\", \"yes\", \"no\", \"yes\"],\n",
    "       [\"leopard shark\", \"cold-blooded\", \"yes\", \"no\", \"no\", \"no\"],\n",
    "       [\"turtle\", \"cold-blooded\", \"no\", \"yes\", \"no\", \"no\"],\n",
    "       [\"penguin\", \"cold-blooded\", \"no\", \"no\", \"no\", \"no\"],\n",
    "       [\"eel\", \"cold-blooded\", \"no\", \"no\", \"no\", \"no\"],\n",
    "       [\"dolphin\", \"warm-blooded\", \"yes\", \"no\", \"no\", \"yes\"],\n",
    "       [\"spiny anteater\", \"warm-blooded\", \"no\", \"yes\", \"yes\", \"yes\"],\n",
    "       [\"gila monster\", \"cold-blooded\", \"no\", \"yes\", \"yes\", \"no\"]]\n",
    "\n",
    "df = pd.DataFrame(mat, columns=[\"Name\",\n",
    "                                \"Body Temperature\",\n",
    "                                \"Gives Birth\",\n",
    "                                \"Four-legged\",\n",
    "                                \"Hibernates\",\n",
    "                                \"Class Label\"])\n",
    "\n",
    "\n",
    "X = df.loc[:, [\"Body Temperature\", \"Gives Birth\", \"Four-legged\", \"Hibernates\"]]\n",
    "y[\"Class Label\"] = pd.DataFrame(y[\"Class Label\"].apply(lambda x: 1 if x == \"yes\" else 0))\n",
    "y = df.loc[:, [\"Class Label\"]]\n",
    "\n",
    "X[\"Body Temperature\"] = X[\"Body Temperature\"].apply(lambda x: 1 if x == \"warm-blooded\" else 0)\n",
    "for col in X.columns[1:]:\n",
    "    X[col] = X[col].apply(lambda x: 1 if x == \"yes\" else 0)\n",
    "\n",
    "X_training = X.loc[:7, :]\n",
    "X_test = X.loc[7:, :]\n",
    "\n",
    "y_training = y.loc[:7, [\"Class Label\"]]\n",
    "y_test = y.loc[7:, [\"Class Label\"]]\n",
    "\n",
    "\n",
    "\n",
    "\n",
    "rf = RandomForestClassifier(1, 1)\n",
    "rf.fit(X_training.values, y_training.values)\n",
    "print(rf.predict(X_test))\n",
    "print(y_test)"
   ]
  }
 ],
 "metadata": {
  "anaconda-cloud": {},
  "kernelspec": {
   "display_name": "Python [Root]",
   "language": "python",
   "name": "Python [Root]"
  }
 },
 "nbformat": 4,
 "nbformat_minor": 0
}
