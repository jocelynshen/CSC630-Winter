{
 "cells": [
  {
   "cell_type": "markdown",
   "metadata": {},
   "source": [
    "# Homework: Numpy, Covariance\n",
    "\n",
    "In this assignment, you're primarily just reading, with a small amount of work to do in the end.  This is a basic numpy tutorial.\n",
    "\n",
    "### Extra resources, if you want them (not required reading/viewing)\n",
    "* The [official numpy tutorial](https://docs.scipy.org/doc/numpy-dev/user/quickstart.html)\n",
    "* Jake Vanderplas' book has an [entire chapter on numpy](https://github.com/jakevdp/PythonDataScienceHandbook)\n",
    "* The rest of the [excellent youtube video series on Linear Algebra](https://www.youtube.com/playlist?list=PLZHQObOWTQDPD3MizzM2xVFitgF8hE_ab)"
   ]
  },
  {
   "cell_type": "code",
   "execution_count": 1,
   "metadata": {
    "collapsed": true
   },
   "outputs": [],
   "source": [
    "import numpy as np\n",
    "import pandas as pd"
   ]
  },
  {
   "cell_type": "markdown",
   "metadata": {},
   "source": [
    "The primarily object in numpy is the `array`, which is a fast, multidimensional, single-data-type array:"
   ]
  },
  {
   "cell_type": "code",
   "execution_count": 2,
   "metadata": {},
   "outputs": [
    {
     "name": "stdout",
     "output_type": "stream",
     "text": [
      "(3,) (2, 3)\n"
     ]
    }
   ],
   "source": [
    "a = np.array([1, 2, 3])\n",
    "b = np.array([[1,2,3],[4,5,6]])\n",
    "\n",
    "print(a.shape, b.shape)"
   ]
  },
  {
   "cell_type": "markdown",
   "metadata": {},
   "source": [
    "Because they're multidimensional, we can slice them in multiple dimensions:"
   ]
  },
  {
   "cell_type": "code",
   "execution_count": 3,
   "metadata": {},
   "outputs": [
    {
     "name": "stdout",
     "output_type": "stream",
     "text": [
      "[[ 1  2  3  4]\n",
      " [ 5  6  7  8]\n",
      " [ 9 10 11 12]]\n",
      "\n",
      "[[2 3]\n",
      " [6 7]]\n"
     ]
    }
   ],
   "source": [
    "# Define a method for printing out arrays with an extra newline at the end, for readability\n",
    "zprint = lambda *x: print(*x, end='\\n\\n')\n",
    "\n",
    "a = np.array([[1,2,3,4], [5,6,7,8], [9,10,11,12]])\n",
    "\n",
    "# Use slicing to pull out the subarray consisting of the first 2 rows\n",
    "# and columns 1 and 2; b is the following array of shape (2, 2):\n",
    "# [[2 3]\n",
    "#  [6 7]]\n",
    "b = a[:2, 1:3]\n",
    "\n",
    "zprint(a)\n",
    "print(b)"
   ]
  },
  {
   "cell_type": "code",
   "execution_count": 4,
   "metadata": {},
   "outputs": [
    {
     "name": "stdout",
     "output_type": "stream",
     "text": [
      "[[ 1  2  3  4]\n",
      " [ 5  6  7  8]\n",
      " [ 9 10 11 12]]\n",
      "\n",
      "[5 6 7 8] (4,)\n",
      "\n",
      "[[5 6 7 8]] (1, 4)\n",
      "\n",
      "[ 2  6 10] (3,)\n",
      "\n",
      "[[ 2]\n",
      " [ 6]\n",
      " [10]] (3, 1)\n"
     ]
    }
   ],
   "source": [
    "a = np.array([[1,2,3,4], [5,6,7,8], [9,10,11,12]])\n",
    "zprint(a)\n",
    "\n",
    "# Two ways of accessing the data in the middle row of the array.\n",
    "# Mixing integer indexing with slices yields an array of lower rank,\n",
    "# while using only slices yields an array of the same rank as the\n",
    "# original array:\n",
    "row_r1 = a[1, :]    # Rank 1 view of the second row of a  \n",
    "row_r2 = a[1:2, :]  # Rank 2 view of the second row of a\n",
    "zprint(row_r1, row_r1.shape)  # Prints \"[5 6 7 8] (4,)\"\n",
    "zprint(row_r2, row_r2.shape)  # Prints \"[[5 6 7 8]] (1, 4)\"\n",
    "\n",
    "# We can make the same distinction when accessing columns of an array:\n",
    "col_r1 = a[:, 1]\n",
    "col_r2 = a[:, 1:2]\n",
    "zprint(col_r1, col_r1.shape)  # Prints \"[ 2  6 10] (3,)\"\n",
    "print(col_r2, col_r2.shape)  # Prints \"[[ 2]\n",
    "                            #          [ 6]\n",
    "                            #          [10]] (3, 1)\""
   ]
  },
  {
   "cell_type": "markdown",
   "metadata": {},
   "source": [
    "You can perform basic mathematical operations on arrays"
   ]
  },
  {
   "cell_type": "code",
   "execution_count": 5,
   "metadata": {},
   "outputs": [
    {
     "name": "stdout",
     "output_type": "stream",
     "text": [
      "[[1 2]\n",
      " [3 4]]\n",
      "\n",
      "[[5 6]\n",
      " [7 8]]\n",
      "\n",
      "[[ 6  8]\n",
      " [10 12]]\n",
      "\n",
      "[[4 4]\n",
      " [4 4]]\n",
      "\n",
      "[[ 5 12]\n",
      " [21 32]]\n",
      "\n",
      "[[ 5.          3.        ]\n",
      " [ 2.33333333  2.        ]]\n",
      "\n",
      "[[ 1.          1.41421356]\n",
      " [ 1.73205081  2.        ]]\n"
     ]
    }
   ],
   "source": [
    "x = np.array([[1,2],[3,4]])\n",
    "y = np.array([[5,6],[7,8]])\n",
    "\n",
    "zprint(x)\n",
    "zprint(y)\n",
    "zprint(x + y)\n",
    "zprint(y - x)\n",
    "zprint(x * y)\n",
    "zprint(y / x)\n",
    "print(np.sqrt(x))"
   ]
  },
  {
   "cell_type": "markdown",
   "metadata": {},
   "source": [
    "Are these what you expect?  If you're thinking of a numpy array as a matrix, `a * b` gives us the \"wrong\" answer, and `b/a` doesn't really even make sense.  These are _elementwise_ computations!  Keep that in mind."
   ]
  },
  {
   "cell_type": "code",
   "execution_count": 6,
   "metadata": {},
   "outputs": [
    {
     "name": "stdout",
     "output_type": "stream",
     "text": [
      "219\n",
      "\n",
      "219\n",
      "\n",
      "[29 67]\n",
      "\n",
      "[29 67]\n",
      "\n",
      "[[19 22]\n",
      " [43 50]]\n",
      "\n",
      "[[19 22]\n",
      " [43 50]]\n"
     ]
    }
   ],
   "source": [
    "v = np.array([9,10])\n",
    "w = np.array([11, 12])\n",
    "\n",
    "# Inner / dot product of vectors; both produce 219\n",
    "zprint(v.dot(w))\n",
    "zprint(np.dot(v, w))\n",
    "\n",
    "# Matrix / vector product; both produce the rank 1 array [29 67]\n",
    "zprint(x.dot(v))\n",
    "zprint(np.dot(x, v))\n",
    "\n",
    "# Matrix / matrix product; both produce the rank 2 array\n",
    "# [[19 22]\n",
    "#  [43 50]]\n",
    "zprint(x.dot(y))\n",
    "print(np.dot(x, y))"
   ]
  },
  {
   "cell_type": "markdown",
   "metadata": {},
   "source": [
    "Recall that the **transpose** of a matrix is the the result of reflecting it on the diagonal:"
   ]
  },
  {
   "cell_type": "code",
   "execution_count": 7,
   "metadata": {},
   "outputs": [
    {
     "name": "stdout",
     "output_type": "stream",
     "text": [
      "[[1 2 3]\n",
      " [4 5 6]\n",
      " [7 8 9]]\n",
      "\n",
      "[[1 4 7]\n",
      " [2 5 8]\n",
      " [3 6 9]]\n"
     ]
    }
   ],
   "source": [
    "z = np.array([[1,2,3],[4,5,6],[7,8,9]])\n",
    "\n",
    "zprint(z)\n",
    "print(z.T)"
   ]
  },
  {
   "cell_type": "markdown",
   "metadata": {},
   "source": [
    "Finally, the **determinant** of a matrix is a single-number quantity that has a lot of uses.  It has a nice [geometric interpretation](https://www.youtube.com/watch?v=Ip3X9LOh2dk) (10 minute video, not required watching), and it also has the following property:\n",
    "\n",
    "**If $A$ is a matrix with the property that some non-zero vector $v$ gives the equation $Av = 0$, then $det(A)=0$.**\n",
    "\n",
    "The definition of the determinant is a little clunky, and I won't require you to know it (at least, not for this test).  But that's what computers are for!"
   ]
  },
  {
   "cell_type": "code",
   "execution_count": 8,
   "metadata": {},
   "outputs": [
    {
     "name": "stdout",
     "output_type": "stream",
     "text": [
      "Determinants:\n",
      "[[1 2]\n",
      " [3 4]] ---> -2.0\n",
      "\n",
      "[[5 6]\n",
      " [7 8]] ---> -2.0\n",
      "\n",
      "[[1 2 3]\n",
      " [4 5 6]\n",
      " [7 8 9]] ---> -9.51619735393e-16\n",
      "\n"
     ]
    }
   ],
   "source": [
    "print(\"Determinants:\")\n",
    "for s, d in [(s, np.linalg.det(s)) for s in [x, y, z]]:\n",
    "    zprint(s, \"--->\", d)"
   ]
  },
  {
   "cell_type": "markdown",
   "metadata": {},
   "source": [
    "<div style=\"background-color: #EFDDFF; \">\n",
    "\n",
    "<p> Now, it's your turn: **Write a function** that uses the above commands as well as `np.mean` to create, by hand, the covariance matrix of a dataset.  What's that, you might ask.  For now, let's just work with the definition and how to compute (more for practice with numpy than anything else), and tomorrow we'll cover what it is and how it relates to everything else. </p>\n",
    "\n",
    "Given two columns of data (a statistician would call them _random vectors_), the __covariance__ of the pair is a quantity that captures the amount they _vary together_:\n",
    "\n",
    "$$cov(x,y) = \\frac{1}{n}\\sum_{i=1}^n (x_i-\\overline{x})(y_i-\\overline{y})$$\n",
    "\n",
    "Given a dataset, you could consider taking the covariance of every pair of columns, and somehow comparing them.  The most sensible thing to do for storing those covariances would be in a matrix, called the [__covariance matrix__](https://en.wikipedia.org/wiki/Covariance_matrix): \n",
    "\n",
    "$$\\Sigma = \\left(\\begin{array}{cccc}\n",
    "cov(x_1,x_1) & cov(x_1,x_2) & \\dots & cov(x_1,x_n) \\\\\n",
    "cov(x_2,x_1) & cov(x_2,x_2) & \\dots & cov(x_2,x_n) \\\\\n",
    "\\vdots & \\vdots & \\ddots & \\vdots \\\\\n",
    "cov(x_n,x_1) & cov(x_n,x_2) & \\dots & cov(x_n,x_n) \\\\\n",
    "\\end{array}\\right)$$\n",
    "</div>"
   ]
  },
  {
   "cell_type": "code",
   "execution_count": 109,
   "metadata": {},
   "outputs": [],
   "source": [
    "# Your code here! (It shouldn't be nearly as scary as it looks! Right a \n",
    "# covariance method, and then use a nested list comprehension or a nested \n",
    "# for loop to build the matrix.)\n",
    "def cov(x,y):\n",
    "    n = len(x)\n",
    "    sm = 0\n",
    "    for i in range(n):\n",
    "        sm += (x[i]-np.mean(x))*(y[i]-np.mean(y))\n",
    "    return float(sm)/n   "
   ]
  },
  {
   "cell_type": "code",
   "execution_count": 111,
   "metadata": {},
   "outputs": [
    {
     "name": "stdout",
     "output_type": "stream",
     "text": [
      "[[  8.  -8.   6.]\n",
      " [ -8.   8.  -6.]\n",
      " [  6.  -6.  42.]]\n"
     ]
    }
   ],
   "source": [
    "def cov_matrix(z):\n",
    "    a = []\n",
    "    for i in range(z.shape[0]):\n",
    "        r = []\n",
    "        for j in range(z.shape[1]):\n",
    "            r.append(cov(z[i],z[j]))\n",
    "        a.append(r)\n",
    "    a = np.matrix(a)\n",
    "    return a\n",
    "print(cov_matrix(x.T))"
   ]
  },
  {
   "cell_type": "markdown",
   "metadata": {},
   "source": [
    "<div style=\"background-color: #EFDDFF; \">\n",
    "After writing the method, **first** test it out on the following matrix. Don't worry about the strange keyword arguments to `np.cov`, it makes different assumptions about the dataset than we do.\n",
    "</div>"
   ]
  },
  {
   "cell_type": "code",
   "execution_count": 112,
   "metadata": {},
   "outputs": [
    {
     "name": "stdout",
     "output_type": "stream",
     "text": [
      "Original matrix:\n",
      "[[  0   6   0]\n",
      " [  5  -1   5]\n",
      " [-10   2   5]]\n",
      "\n",
      "Its covariance matrix:\n",
      "[[  8.  -8.   6.]\n",
      " [ -8.   8.  -6.]\n",
      " [  6.  -6.  42.]]\n"
     ]
    }
   ],
   "source": [
    "np.random.seed(seed=1863)\n",
    "x = np.random.randint(-10, 10, size=(3,3))\n",
    "print(\"Original matrix:\", x.T, '', \"Its covariance matrix:\", np.cov(x, rowvar=False, bias=1), sep='\\n')"
   ]
  },
  {
   "cell_type": "markdown",
   "metadata": {},
   "source": [
    "<div style=\"background-color: #EFDDFF; \">\n",
    "**Second**, compute the covariance matrix for [this dataset](https://vincentarelbundock.github.io/Rdatasets/csv/datasets/mtcars.csv), which is [explained here](https://vincentarelbundock.github.io/Rdatasets/doc/datasets/mtcars.html).  To do this into numpy, the fastest way is to go through Pandas to read the csv, then take `df.values` on the dataframe that you get.\n",
    "</div>"
   ]
  },
  {
   "cell_type": "code",
   "execution_count": 119,
   "metadata": {},
   "outputs": [
    {
     "data": {
      "text/html": [
       "<div>\n",
       "<table border=\"1\" class=\"dataframe\">\n",
       "  <thead>\n",
       "    <tr style=\"text-align: right;\">\n",
       "      <th></th>\n",
       "      <th>mpg</th>\n",
       "      <th>cyl</th>\n",
       "      <th>disp</th>\n",
       "      <th>hp</th>\n",
       "      <th>drat</th>\n",
       "      <th>wt</th>\n",
       "      <th>qsec</th>\n",
       "      <th>vs</th>\n",
       "      <th>am</th>\n",
       "      <th>gear</th>\n",
       "      <th>carb</th>\n",
       "    </tr>\n",
       "  </thead>\n",
       "  <tbody>\n",
       "    <tr>\n",
       "      <th>0</th>\n",
       "      <td>21.0</td>\n",
       "      <td>6</td>\n",
       "      <td>160.0</td>\n",
       "      <td>110</td>\n",
       "      <td>3.90</td>\n",
       "      <td>2.620</td>\n",
       "      <td>16.46</td>\n",
       "      <td>0</td>\n",
       "      <td>1</td>\n",
       "      <td>4</td>\n",
       "      <td>4</td>\n",
       "    </tr>\n",
       "    <tr>\n",
       "      <th>1</th>\n",
       "      <td>21.0</td>\n",
       "      <td>6</td>\n",
       "      <td>160.0</td>\n",
       "      <td>110</td>\n",
       "      <td>3.90</td>\n",
       "      <td>2.875</td>\n",
       "      <td>17.02</td>\n",
       "      <td>0</td>\n",
       "      <td>1</td>\n",
       "      <td>4</td>\n",
       "      <td>4</td>\n",
       "    </tr>\n",
       "    <tr>\n",
       "      <th>2</th>\n",
       "      <td>22.8</td>\n",
       "      <td>4</td>\n",
       "      <td>108.0</td>\n",
       "      <td>93</td>\n",
       "      <td>3.85</td>\n",
       "      <td>2.320</td>\n",
       "      <td>18.61</td>\n",
       "      <td>1</td>\n",
       "      <td>1</td>\n",
       "      <td>4</td>\n",
       "      <td>1</td>\n",
       "    </tr>\n",
       "    <tr>\n",
       "      <th>3</th>\n",
       "      <td>21.4</td>\n",
       "      <td>6</td>\n",
       "      <td>258.0</td>\n",
       "      <td>110</td>\n",
       "      <td>3.08</td>\n",
       "      <td>3.215</td>\n",
       "      <td>19.44</td>\n",
       "      <td>1</td>\n",
       "      <td>0</td>\n",
       "      <td>3</td>\n",
       "      <td>1</td>\n",
       "    </tr>\n",
       "    <tr>\n",
       "      <th>4</th>\n",
       "      <td>18.7</td>\n",
       "      <td>8</td>\n",
       "      <td>360.0</td>\n",
       "      <td>175</td>\n",
       "      <td>3.15</td>\n",
       "      <td>3.440</td>\n",
       "      <td>17.02</td>\n",
       "      <td>0</td>\n",
       "      <td>0</td>\n",
       "      <td>3</td>\n",
       "      <td>2</td>\n",
       "    </tr>\n",
       "  </tbody>\n",
       "</table>\n",
       "</div>"
      ],
      "text/plain": [
       "    mpg  cyl   disp   hp  drat     wt   qsec  vs  am  gear  carb\n",
       "0  21.0    6  160.0  110  3.90  2.620  16.46   0   1     4     4\n",
       "1  21.0    6  160.0  110  3.90  2.875  17.02   0   1     4     4\n",
       "2  22.8    4  108.0   93  3.85  2.320  18.61   1   1     4     1\n",
       "3  21.4    6  258.0  110  3.08  3.215  19.44   1   0     3     1\n",
       "4  18.7    8  360.0  175  3.15  3.440  17.02   0   0     3     2"
      ]
     },
     "execution_count": 119,
     "metadata": {},
     "output_type": "execute_result"
    }
   ],
   "source": [
    "# your code here\n",
    "df = pd.read_csv('mtcars.csv')\n",
    "df = df.drop('Unnamed: 0', axis = 1)\n",
    "mat = df.values\n",
    "df.head()"
   ]
  },
  {
   "cell_type": "code",
   "execution_count": 120,
   "metadata": {},
   "outputs": [
    {
     "name": "stdout",
     "output_type": "stream",
     "text": [
      "[[  2605.82831074   2604.51115372   1872.53492231   3770.66200331\n",
      "    5450.68953058   3345.84549752   5960.2012       2100.0069124\n",
      "    2267.81393719   2787.40145455   2787.80161983]\n",
      " [  2604.51115372   2603.22292769   1871.78771157   3768.85595744\n",
      "    5447.6596938    3344.35826942   5956.66565      2099.27384835\n",
      "    2267.03501322   2786.0523       2786.48839917]\n",
      " [  1872.53492231   1871.78771157   1373.52372397   2631.36399917\n",
      "    3821.26979917   2346.59858017   4259.30415455   1472.73563554\n",
      "    1634.1365157    2010.54336364   2010.37286777]\n",
      " [  3770.66200331   3768.85595744   2631.36399917   5732.58363843\n",
      "    8188.40630207   5046.49064959   8643.41197727   3194.77627479\n",
      "    3287.77192893   4003.35491818   4004.50906694]\n",
      " [  5450.68953058   5447.6596938    3821.26979917   8188.40630207\n",
      "   11753.12806116   7222.48926777  12532.9169       4544.29623388\n",
      "    4738.54673802   5801.49190909   5803.94314876]\n",
      " [  3345.84549752   3344.35826942   2346.59858017   5046.49064959\n",
      "    7222.48926777   4449.11100826   7669.26161818   2811.46901322\n",
      "    2917.43454876   3557.72392727   3559.07222479]\n",
      " [  5960.2012       5956.66565      4259.30415455   8643.41197727\n",
      "   12532.9169       7669.26161818  13723.74383636   4778.18432727\n",
      "    5167.02584545   6382.43861818   6385.82589091]\n",
      " [  2100.0069124    2099.27384835   1472.73563554   3194.77627479\n",
      "    4544.29623388   2811.46901322   4778.18432727   1795.05209752\n",
      "    1840.12931983   2226.2196       2225.99665785]\n",
      " [  2267.81393719   2267.03501322   1634.1365157    3287.77192893\n",
      "    4738.54673802   2917.43454876   5167.02584545   1840.12931983\n",
      "    1981.61804132   2424.61929091   2424.94719174]\n",
      " [  2787.40145455   2786.0523       2010.54336364   4003.35491818\n",
      "    5801.49190909   3557.72392727   6382.43861818   2226.2196\n",
      "    2424.61929091   2986.62130909   2987.49294545]\n",
      " [  2787.80161983   2786.48839917   2010.37286777   4004.50906694\n",
      "    5803.94314876   3559.07222479   6385.82589091   2225.99665785\n",
      "    2424.94719174   2987.49294545   2988.57020165]\n",
      " [  4488.96362975   4486.50368967   3203.62368347   6540.2110186\n",
      "    9462.26085041   5798.65915537  10318.73889091   3623.68035041\n",
      "    3897.32431488   4802.11261818   4804.35122975]\n",
      " [  4488.83378182   4486.37102273   3204.12537273   6539.53945909\n",
      "    9460.28624545   5797.97918182  10315.96043636   3624.23972727\n",
      "    3897.62717273   4801.70869091   4803.84869091]\n",
      " [  4489.92123636   4487.49111364   3203.99964545   6541.98645909\n",
      "    9465.40047273   5800.53209091  10322.78066364   3624.0185\n",
      "    3898.20653636   4803.50332727   4805.92150909]\n",
      " [  6990.57183471   6986.70164174   4862.8633595   10614.62828306\n",
      "   15209.63162397   9348.06197521  16107.82434545   5881.59770579\n",
      "    6074.55881736   7431.32163636   7435.79565289]\n",
      " [  6921.06252694   6917.20112744   4833.49151372  10439.70915388\n",
      "   14985.16954479   9203.94507504  15948.07298182   5781.99890116\n",
      "    6011.80773983   7365.66606545   7370.11868694]\n",
      " [  6790.40689256   6786.52969008   4774.28177686  10131.66026694\n",
      "   14580.62248967   8947.43280661  15637.82612273   5610.80752603\n",
      "    5895.84205537   7238.31197273   7242.18922893]\n",
      " [  1320.35290248   1319.95470785    977.09068347   1855.4222186\n",
      "    2673.59239587   1652.65891901   2961.05032727   1055.11142314\n",
      "    1160.86849669   1412.89105455   1411.24330248]\n",
      " [  1182.8040562    1182.46979008    863.86957686   1705.45109421\n",
      "    2439.21222603   1512.27757025   2648.94671364    972.17204421\n",
      "    1042.01347355   1260.1673       1258.59873802]\n",
      " [  1222.02364298   1221.68531942    912.61831653   1695.06095413\n",
      "    2445.73521777   1512.80724463   2729.97550455    967.6102814\n",
      "    1075.9723124    1309.15259091   1307.29179752]\n",
      " [  2049.08084628   2048.31265868   1494.88706116   2904.84511983\n",
      "    4211.34035165   2587.22074876   4667.38567727   1624.15124256\n",
      "    1788.26263223   2198.20500909   2198.37018264]\n",
      " [  4775.44112066   4772.88143512   3342.12253802   7195.58778223\n",
      "   10319.81810496   6344.29073719  10980.70898182   3994.02469587\n",
      "    4152.91555124   5080.72727273   5083.11042975]\n",
      " [  4608.87459835   4606.42620083   3233.99307769   6915.25769669\n",
      "    9928.05485579   6101.51690248  10596.48820455   3837.91701942\n",
      "    4007.68758099   4907.01148182   4909.36658926]\n",
      " [  5841.37128926   5837.89177355   4181.38695041   8443.85736033\n",
      "   12255.42044215   7496.39772066  13452.55680909   4665.90175124\n",
      "    5062.66291736   6258.70121818   6262.12196198]\n",
      " [  5922.47327603   5919.17910744   4127.47786281   8983.79522479\n",
      "   12863.85821116   7911.45141322  13620.95222273   4987.49104752\n",
      "    5150.56362893   6293.6109       6296.27032149]\n",
      " [  1329.38480992   1328.98940868    980.53370661   1871.29717893\n",
      "    2701.26664256   1667.22703967   2993.92463182   1059.30599711\n",
      "    1166.82611405   1423.85000909   1422.78300083]\n",
      " [  2000.2673157    1999.33120124   1453.44098926   2857.33950868\n",
      "    4131.67317686   2539.82495372   4548.93706364   1600.63138595\n",
      "    1745.40948512   2141.15790909   2140.56184298]\n",
      " [  1859.01172165   1858.06375736   1398.82113322   2491.00153421\n",
      "    3658.9204024    2238.15980298   4213.77912273   1395.87376967\n",
      "    1619.30645901   2007.65024909   2006.51245074]\n",
      " [  5983.79315041   5980.08736116   4303.96562149   8575.08758264\n",
      "   12474.65216446   7623.33732893  13778.35239091   4736.25098264\n",
      "    5183.11730248   6419.23398182   6422.44829587]\n",
      " [  2897.15488595   2895.45144793   2162.39496033   3886.80100826\n",
      "    5743.87336281   3494.75190744   6640.14766364   2149.03154463\n",
      "    2507.85544298   3136.26107273   3137.1089405 ]\n",
      " [  5901.14490579   5897.29169256   4360.52040992   8026.67773884\n",
      "   11850.10249339   7200.98915041  13593.43555455   4414.84416612\n",
      "    5095.98025289   6381.86154545   6385.34194215]\n",
      " [  2139.81423471   2138.87975992   1570.91457769   2990.60665579\n",
      "    4356.28283306   2669.82386612   4880.75008182   1667.92911488\n",
      "    1863.63663554   2300.77263636   2300.97356198]]\n"
     ]
    }
   ],
   "source": [
    "print(cov_matrix(mat))"
   ]
  },
  {
   "cell_type": "code",
   "execution_count": 33,
   "metadata": {},
   "outputs": [
    {
     "name": "stdout",
     "output_type": "stream",
     "text": [
      "1863\n",
      "\n",
      "[[  0   5 -10]\n",
      " [  6  -1   2]\n",
      " [  0   5   5]]\n",
      "\n",
      "[[  8.  -8.   6.]\n",
      " [ -8.   8.  -6.]\n",
      " [  6.  -6.  42.]]\n"
     ]
    }
   ],
   "source": [
    "# Just for your learning purposes, here's how I found a 3x3 integer-valued matrix \n",
    "# with an integer-valued covariance matrix:\n",
    "\n",
    "for i in range(100000):\n",
    "    if i == 883:\n",
    "        # This one is trivial\n",
    "        continue\n",
    "    np.random.seed(seed=i)\n",
    "    x = np.random.randint(-10, 10, size=(3,3))\n",
    "    cov = np.cov(x, rowvar=False, bias=1)\n",
    "    if (cov.round() == cov).all():\n",
    "        print(i, x, cov, sep='\\n\\n')\n",
    "        break"
   ]
  }
 ],
 "metadata": {
  "anaconda-cloud": {},
  "kernelspec": {
   "display_name": "Python 3",
   "language": "python",
   "name": "python3"
  },
  "language_info": {
   "codemirror_mode": {
    "name": "ipython",
    "version": 3
   },
   "file_extension": ".py",
   "mimetype": "text/x-python",
   "name": "python",
   "nbconvert_exporter": "python",
   "pygments_lexer": "ipython3",
   "version": "3.5.1"
  }
 },
 "nbformat": 4,
 "nbformat_minor": 1
}
